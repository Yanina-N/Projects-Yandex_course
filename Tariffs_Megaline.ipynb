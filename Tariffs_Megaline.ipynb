{
 "cells": [
  {
   "cell_type": "markdown",
   "metadata": {},
   "source": [
    "# Описание проекта"
   ]
  },
  {
   "cell_type": "markdown",
   "metadata": {},
   "source": [
    "В нашем распоряжении данные от компании «Мегалайн» — федерального оператора сотовой связи. Клиентам предлагают два тарифных плана: «Смарт» и «Ультра». Чтобы скорректировать рекламный бюджет, коммерческий департамент хочет понять, какой тариф приносит больше денег.\n",
    "\n",
    "Нам предстоит сделать предварительный анализ тарифов на небольшой выборке клиентов. В нашем распоряжении данные 500 пользователей «Мегалайна»: кто они, откуда, каким тарифом пользуются, сколько звонков и сообщений каждый отправил за 2018 год. Нужно проанализировать поведение клиентов и сделать вывод — **какой тариф лучше**."
   ]
  },
  {
   "cell_type": "markdown",
   "metadata": {},
   "source": [
    "# Оглавление\n",
    "\n",
    "* [Описание данных](#description)\n",
    "  * [Описание тарифов](#tariffs_descriptions)\n",
    "* [Открытие и изучение файлов с данными](#data_exploration)\n",
    "  * [Таблица о тарифах](#tariffs)\n",
    "  * [Таблица о пользователях](#users)\n",
    "  * [Таблица о звонках](#calls)\n",
    "  * [Таблица о сообщениях](#messages)\n",
    "  * [Таблица об интернес-сессиях](#internet)\n",
    "* [Вывод](#summary_1)\n",
    "* [Подготовка данных](#data_preparation)\n",
    "  * [Предобработка данных](#data_preprocessing)\n",
    "  * [Формирование дополнительных данных](#working_with_data)\n",
    "    * [Объем израсходованных услуг для каждого пользователя по месяцам](#tariff_spent)\n",
    "    * [Вычисление помесячной выручки с каждого пользователя](#users_revenue)\n",
    "    * [Вывод](#summary_2)\n",
    "* [Анализ данных](#data_analysis)\n",
    "  * [Средний показатель по услугам тарифного пакета](#tariff_median)\n",
    "  * [Median, var, std](#med_var_std)\n",
    "  * [Гистограммы и распределения](#hist_dist) \n",
    "* [Вывод](#summary_3)\n",
    "* [Проверка гипотез](#hypothesis_testing)\n",
    "  * [Гипотеза_1](#hypothesis_1)\n",
    "  * [Гипотеза_2](#hypothesis_2)\n",
    "* [Вывод](#summary_4)\n",
    "* [Общий вывод](#conslusion)"
   ]
  },
  {
   "cell_type": "markdown",
   "metadata": {},
   "source": [
    "***Описание таблиц:*** <a id='datasets_descriptions'> </a>"
   ]
  },
  {
   "cell_type": "markdown",
   "metadata": {},
   "source": [
    "**`Таблица tariffs (информация о тарифах)`**:\n",
    "\n",
    "* tariff_name — название тарифа\n",
    "* rub_monthly_fee — ежемесячная абонентская плата в рублях\n",
    "* minutes_included — количество минут разговора в месяц, включённых в абонентскую плату\n",
    "* messages_included — количество сообщений в месяц, включённых в абонентскую плату\n",
    "* mb_per_month_included — объём интернет-трафика, включённого в абонентскую плату (в мегабайтах)\n",
    "* rub_per_minute — стоимость минуты разговора сверх тарифного пакета (например, если в тарифе 100 минут разговора в месяц, то со 101 минуты будет взиматься плата)\n",
    "* rub_per_message — стоимость отправки сообщения сверх тарифного пакета\n",
    "* rub_per_gb — стоимость дополнительного гигабайта интернет-трафика сверх тарифного пакета (1 гигабайт = 1024 мегабайта)"
   ]
  },
  {
   "cell_type": "markdown",
   "metadata": {},
   "source": [
    "**`Таблица users (информация о пользователях)`**:\n",
    "\n",
    "* user_id — уникальный идентификатор пользователя\n",
    "* first_name — имя пользователя\n",
    "* last_name — фамилия пользователя\n",
    "* age — возраст пользователя (годы)\n",
    "* reg_date — дата подключения тарифа (день, месяц, год)\n",
    "* churn_date — дата прекращения пользования тарифом (если значение пропущено, то тариф ещё действовал на момент выгрузки данных)\n",
    "* city — город проживания пользователя\n",
    "* tariff — название тарифного плана"
   ]
  },
  {
   "cell_type": "markdown",
   "metadata": {},
   "source": [
    "**`Таблица calls (информация о звонках)`**:\n",
    "\n",
    "* id — уникальный номер звонка\n",
    "* call_date — дата звонка\n",
    "* duration — длительность звонка в минутах\n",
    "* user_id — идентификатор пользователя, сделавшего звонок"
   ]
  },
  {
   "cell_type": "markdown",
   "metadata": {},
   "source": [
    "**`Таблица messages (информация о сообщениях)`**:\n",
    "\n",
    "* id — уникальный номер сообщения\n",
    "* message_date — дата сообщения\n",
    "* user_id — идентификатор пользователя, отправившего сообщение"
   ]
  },
  {
   "cell_type": "markdown",
   "metadata": {},
   "source": [
    "**`Таблица internet (информация об интернет-сессиях)`**:\n",
    "\n",
    "* id — уникальный номер сессии\n",
    "* mb_used — объём потраченного за сессию интернет-трафика (в мегабайтах)\n",
    "* session_date — дата интернет-сессии\n",
    "* user_id — идентификатор пользователя"
   ]
  },
  {
   "cell_type": "markdown",
   "metadata": {},
   "source": [
    "*Описание тарифов:* <a id='tariffs_descriptions'></a>"
   ]
  },
  {
   "cell_type": "markdown",
   "metadata": {},
   "source": [
    "**`Тариф «Смарт»`**\n",
    "\n",
    "* Ежемесячная плата: 550 рублей\n",
    "* Включено 500 минут разговора, 50 сообщений и 15 Гб интернет-трафика\n",
    "* Стоимость услуг сверх тарифного пакета:\n",
    "  * минута разговора: 3 рубля\n",
    "  * сообщение: 3 рубля\n",
    "  * 1 Гб интернет-трафика: 200 рублей"
   ]
  },
  {
   "cell_type": "markdown",
   "metadata": {},
   "source": [
    "**`Тариф «Ультра»`**\n",
    "\n",
    "* Ежемесячная плата: 1950 рублей\n",
    "* Включено 3000 минут разговора, 1000 сообщений и 30 Гб интернет-трафика\n",
    "* Стоимость услуг сверх тарифного пакета:\n",
    "  * минута разговора: 1 рубль\n",
    "  * сообщение: 1 рубль\n",
    "  * 1 Гб интернет-трафика: 150 рублей"
   ]
  },
  {
   "cell_type": "markdown",
   "metadata": {},
   "source": [
    "**Обратим внимание**: «Мегалайн» всегда округляет вверх значения минут и мегабайтов. Если пользователь проговорил всего 1 секунду, в тарифе засчитывается целая минута."
   ]
  },
  {
   "cell_type": "markdown",
   "metadata": {},
   "source": [
    "## Открытие и изучение файлов с данными <a id='data_exploration'></a>"
   ]
  },
  {
   "cell_type": "markdown",
   "metadata": {},
   "source": [
    "Откроем файлы и изучим общую информацию. \n",
    "\n",
    "Для начала импортируем необходимые для работы библиотеки:"
   ]
  },
  {
   "cell_type": "code",
   "execution_count": 1,
   "metadata": {},
   "outputs": [],
   "source": [
    "import pandas as pd\n",
    "import numpy as np\n",
    "import statsmodels.api as sm\n",
    "from scipy import stats as st\n",
    "from functools import reduce\n",
    "import matplotlib.pyplot as plt\n",
    "from IPython.display import display\n",
    "from ipywidgets import Button \n",
    "import warnings\n",
    "warnings.filterwarnings(\"ignore\")"
   ]
  },
  {
   "cell_type": "markdown",
   "metadata": {},
   "source": [
    "Прочитаем имеющие файлы:"
   ]
  },
  {
   "cell_type": "code",
   "execution_count": 2,
   "metadata": {},
   "outputs": [],
   "source": [
    "users=pd.read_csv('users.csv') "
   ]
  },
  {
   "cell_type": "code",
   "execution_count": 3,
   "metadata": {},
   "outputs": [],
   "source": [
    "tariffs=pd.read_csv('tariffs.csv')"
   ]
  },
  {
   "cell_type": "code",
   "execution_count": 4,
   "metadata": {},
   "outputs": [],
   "source": [
    "calls=pd.read_csv('calls.csv') "
   ]
  },
  {
   "cell_type": "code",
   "execution_count": 5,
   "metadata": {},
   "outputs": [],
   "source": [
    "messages=pd.read_csv('messages.csv') "
   ]
  },
  {
   "cell_type": "code",
   "execution_count": 6,
   "metadata": {},
   "outputs": [],
   "source": [
    "internet=pd.read_csv('internet.csv') "
   ]
  },
  {
   "cell_type": "markdown",
   "metadata": {},
   "source": [
    "Рассмотрим датасеты по очереди."
   ]
  },
  {
   "cell_type": "markdown",
   "metadata": {},
   "source": [
    "**[1] Таблица о тарифах** <a id='tariffs'></a>"
   ]
  },
  {
   "cell_type": "code",
   "execution_count": 7,
   "metadata": {
    "scrolled": true
   },
   "outputs": [
    {
     "data": {
      "text/html": [
       "<div>\n",
       "<style scoped>\n",
       "    .dataframe tbody tr th:only-of-type {\n",
       "        vertical-align: middle;\n",
       "    }\n",
       "\n",
       "    .dataframe tbody tr th {\n",
       "        vertical-align: top;\n",
       "    }\n",
       "\n",
       "    .dataframe thead th {\n",
       "        text-align: right;\n",
       "    }\n",
       "</style>\n",
       "<table border=\"1\" class=\"dataframe\">\n",
       "  <thead>\n",
       "    <tr style=\"text-align: right;\">\n",
       "      <th></th>\n",
       "      <th>messages_included</th>\n",
       "      <th>mb_per_month_included</th>\n",
       "      <th>minutes_included</th>\n",
       "      <th>rub_monthly_fee</th>\n",
       "      <th>rub_per_gb</th>\n",
       "      <th>rub_per_message</th>\n",
       "      <th>rub_per_minute</th>\n",
       "      <th>tariff_name</th>\n",
       "    </tr>\n",
       "  </thead>\n",
       "  <tbody>\n",
       "    <tr>\n",
       "      <th>0</th>\n",
       "      <td>50</td>\n",
       "      <td>15360</td>\n",
       "      <td>500</td>\n",
       "      <td>550</td>\n",
       "      <td>200</td>\n",
       "      <td>3</td>\n",
       "      <td>3</td>\n",
       "      <td>smart</td>\n",
       "    </tr>\n",
       "    <tr>\n",
       "      <th>1</th>\n",
       "      <td>1000</td>\n",
       "      <td>30720</td>\n",
       "      <td>3000</td>\n",
       "      <td>1950</td>\n",
       "      <td>150</td>\n",
       "      <td>1</td>\n",
       "      <td>1</td>\n",
       "      <td>ultra</td>\n",
       "    </tr>\n",
       "  </tbody>\n",
       "</table>\n",
       "</div>"
      ],
      "text/plain": [
       "   messages_included  mb_per_month_included  minutes_included  \\\n",
       "0                 50                  15360               500   \n",
       "1               1000                  30720              3000   \n",
       "\n",
       "   rub_monthly_fee  rub_per_gb  rub_per_message  rub_per_minute tariff_name  \n",
       "0              550         200                3               3       smart  \n",
       "1             1950         150                1               1       ultra  "
      ]
     },
     "execution_count": 7,
     "metadata": {},
     "output_type": "execute_result"
    }
   ],
   "source": [
    "tariffs.head() "
   ]
  },
  {
   "cell_type": "code",
   "execution_count": 8,
   "metadata": {},
   "outputs": [
    {
     "name": "stdout",
     "output_type": "stream",
     "text": [
      "<class 'pandas.core.frame.DataFrame'>\n",
      "RangeIndex: 2 entries, 0 to 1\n",
      "Data columns (total 8 columns):\n",
      " #   Column                 Non-Null Count  Dtype \n",
      "---  ------                 --------------  ----- \n",
      " 0   messages_included      2 non-null      int64 \n",
      " 1   mb_per_month_included  2 non-null      int64 \n",
      " 2   minutes_included       2 non-null      int64 \n",
      " 3   rub_monthly_fee        2 non-null      int64 \n",
      " 4   rub_per_gb             2 non-null      int64 \n",
      " 5   rub_per_message        2 non-null      int64 \n",
      " 6   rub_per_minute         2 non-null      int64 \n",
      " 7   tariff_name            2 non-null      object\n",
      "dtypes: int64(7), object(1)\n",
      "memory usage: 256.0+ bytes\n"
     ]
    }
   ],
   "source": [
    "tariffs.info() "
   ]
  },
  {
   "cell_type": "markdown",
   "metadata": {},
   "source": [
    "С данными все в порядке, пропусков и аномалий нет. "
   ]
  },
  {
   "cell_type": "markdown",
   "metadata": {},
   "source": [
    "**[2] Таблица о пользователях** <a id='users'></a>"
   ]
  },
  {
   "cell_type": "code",
   "execution_count": 9,
   "metadata": {},
   "outputs": [
    {
     "data": {
      "text/html": [
       "<div>\n",
       "<style scoped>\n",
       "    .dataframe tbody tr th:only-of-type {\n",
       "        vertical-align: middle;\n",
       "    }\n",
       "\n",
       "    .dataframe tbody tr th {\n",
       "        vertical-align: top;\n",
       "    }\n",
       "\n",
       "    .dataframe thead th {\n",
       "        text-align: right;\n",
       "    }\n",
       "</style>\n",
       "<table border=\"1\" class=\"dataframe\">\n",
       "  <thead>\n",
       "    <tr style=\"text-align: right;\">\n",
       "      <th></th>\n",
       "      <th>user_id</th>\n",
       "      <th>age</th>\n",
       "      <th>churn_date</th>\n",
       "      <th>city</th>\n",
       "      <th>first_name</th>\n",
       "      <th>last_name</th>\n",
       "      <th>reg_date</th>\n",
       "      <th>tariff</th>\n",
       "    </tr>\n",
       "  </thead>\n",
       "  <tbody>\n",
       "    <tr>\n",
       "      <th>0</th>\n",
       "      <td>1000</td>\n",
       "      <td>52</td>\n",
       "      <td>NaN</td>\n",
       "      <td>Краснодар</td>\n",
       "      <td>Рафаил</td>\n",
       "      <td>Верещагин</td>\n",
       "      <td>2018-05-25</td>\n",
       "      <td>ultra</td>\n",
       "    </tr>\n",
       "    <tr>\n",
       "      <th>1</th>\n",
       "      <td>1001</td>\n",
       "      <td>41</td>\n",
       "      <td>NaN</td>\n",
       "      <td>Москва</td>\n",
       "      <td>Иван</td>\n",
       "      <td>Ежов</td>\n",
       "      <td>2018-11-01</td>\n",
       "      <td>smart</td>\n",
       "    </tr>\n",
       "    <tr>\n",
       "      <th>2</th>\n",
       "      <td>1002</td>\n",
       "      <td>59</td>\n",
       "      <td>NaN</td>\n",
       "      <td>Стерлитамак</td>\n",
       "      <td>Евгений</td>\n",
       "      <td>Абрамович</td>\n",
       "      <td>2018-06-17</td>\n",
       "      <td>smart</td>\n",
       "    </tr>\n",
       "    <tr>\n",
       "      <th>3</th>\n",
       "      <td>1003</td>\n",
       "      <td>23</td>\n",
       "      <td>NaN</td>\n",
       "      <td>Москва</td>\n",
       "      <td>Белла</td>\n",
       "      <td>Белякова</td>\n",
       "      <td>2018-08-17</td>\n",
       "      <td>ultra</td>\n",
       "    </tr>\n",
       "    <tr>\n",
       "      <th>4</th>\n",
       "      <td>1004</td>\n",
       "      <td>68</td>\n",
       "      <td>NaN</td>\n",
       "      <td>Новокузнецк</td>\n",
       "      <td>Татьяна</td>\n",
       "      <td>Авдеенко</td>\n",
       "      <td>2018-05-14</td>\n",
       "      <td>ultra</td>\n",
       "    </tr>\n",
       "  </tbody>\n",
       "</table>\n",
       "</div>"
      ],
      "text/plain": [
       "   user_id  age churn_date         city first_name  last_name    reg_date  \\\n",
       "0     1000   52        NaN    Краснодар     Рафаил  Верещагин  2018-05-25   \n",
       "1     1001   41        NaN       Москва       Иван       Ежов  2018-11-01   \n",
       "2     1002   59        NaN  Стерлитамак    Евгений  Абрамович  2018-06-17   \n",
       "3     1003   23        NaN       Москва      Белла   Белякова  2018-08-17   \n",
       "4     1004   68        NaN  Новокузнецк    Татьяна   Авдеенко  2018-05-14   \n",
       "\n",
       "  tariff  \n",
       "0  ultra  \n",
       "1  smart  \n",
       "2  smart  \n",
       "3  ultra  \n",
       "4  ultra  "
      ]
     },
     "execution_count": 9,
     "metadata": {},
     "output_type": "execute_result"
    }
   ],
   "source": [
    "users.head()"
   ]
  },
  {
   "cell_type": "code",
   "execution_count": 10,
   "metadata": {},
   "outputs": [
    {
     "name": "stdout",
     "output_type": "stream",
     "text": [
      "<class 'pandas.core.frame.DataFrame'>\n",
      "RangeIndex: 500 entries, 0 to 499\n",
      "Data columns (total 8 columns):\n",
      " #   Column      Non-Null Count  Dtype \n",
      "---  ------      --------------  ----- \n",
      " 0   user_id     500 non-null    int64 \n",
      " 1   age         500 non-null    int64 \n",
      " 2   churn_date  38 non-null     object\n",
      " 3   city        500 non-null    object\n",
      " 4   first_name  500 non-null    object\n",
      " 5   last_name   500 non-null    object\n",
      " 6   reg_date    500 non-null    object\n",
      " 7   tariff      500 non-null    object\n",
      "dtypes: int64(2), object(6)\n",
      "memory usage: 31.4+ KB\n"
     ]
    }
   ],
   "source": [
    "users.info() "
   ]
  },
  {
   "cell_type": "markdown",
   "metadata": {},
   "source": [
    "Проверим, есть ли дубликаты."
   ]
  },
  {
   "cell_type": "code",
   "execution_count": 11,
   "metadata": {},
   "outputs": [
    {
     "data": {
      "text/plain": [
       "0"
      ]
     },
     "execution_count": 11,
     "metadata": {},
     "output_type": "execute_result"
    }
   ],
   "source": [
    "users.duplicated().sum() "
   ]
  },
  {
   "cell_type": "markdown",
   "metadata": {},
   "source": [
    "* Дубликатов нет.\n",
    "\n",
    "* Имеем большое число пропусков в колонке *'churn_date'*. Причина пропусков - тариф ещё действовал на момент выгрузки данных. Данный столбец не используется в анализе. Поэтому оставим всё без изменений.\n",
    "\n",
    "* Необходимо изменить типа данных *'reg_date'* с object на datetime.\n",
    "\n",
    "* Также надо изменить название столбца *'tariff'* на *'tariff_name'*. Это будет необходимо при объединении таблиц. "
   ]
  },
  {
   "cell_type": "markdown",
   "metadata": {},
   "source": [
    "**[3] Таблица о звонках** <a id='calls'></a>"
   ]
  },
  {
   "cell_type": "code",
   "execution_count": 12,
   "metadata": {},
   "outputs": [
    {
     "data": {
      "text/html": [
       "<div>\n",
       "<style scoped>\n",
       "    .dataframe tbody tr th:only-of-type {\n",
       "        vertical-align: middle;\n",
       "    }\n",
       "\n",
       "    .dataframe tbody tr th {\n",
       "        vertical-align: top;\n",
       "    }\n",
       "\n",
       "    .dataframe thead th {\n",
       "        text-align: right;\n",
       "    }\n",
       "</style>\n",
       "<table border=\"1\" class=\"dataframe\">\n",
       "  <thead>\n",
       "    <tr style=\"text-align: right;\">\n",
       "      <th></th>\n",
       "      <th>id</th>\n",
       "      <th>call_date</th>\n",
       "      <th>duration</th>\n",
       "      <th>user_id</th>\n",
       "    </tr>\n",
       "  </thead>\n",
       "  <tbody>\n",
       "    <tr>\n",
       "      <th>0</th>\n",
       "      <td>1000_0</td>\n",
       "      <td>2018-07-25</td>\n",
       "      <td>0.00</td>\n",
       "      <td>1000</td>\n",
       "    </tr>\n",
       "    <tr>\n",
       "      <th>1</th>\n",
       "      <td>1000_1</td>\n",
       "      <td>2018-08-17</td>\n",
       "      <td>0.00</td>\n",
       "      <td>1000</td>\n",
       "    </tr>\n",
       "    <tr>\n",
       "      <th>2</th>\n",
       "      <td>1000_2</td>\n",
       "      <td>2018-06-11</td>\n",
       "      <td>2.85</td>\n",
       "      <td>1000</td>\n",
       "    </tr>\n",
       "    <tr>\n",
       "      <th>3</th>\n",
       "      <td>1000_3</td>\n",
       "      <td>2018-09-21</td>\n",
       "      <td>13.80</td>\n",
       "      <td>1000</td>\n",
       "    </tr>\n",
       "    <tr>\n",
       "      <th>4</th>\n",
       "      <td>1000_4</td>\n",
       "      <td>2018-12-15</td>\n",
       "      <td>5.18</td>\n",
       "      <td>1000</td>\n",
       "    </tr>\n",
       "  </tbody>\n",
       "</table>\n",
       "</div>"
      ],
      "text/plain": [
       "       id   call_date  duration  user_id\n",
       "0  1000_0  2018-07-25      0.00     1000\n",
       "1  1000_1  2018-08-17      0.00     1000\n",
       "2  1000_2  2018-06-11      2.85     1000\n",
       "3  1000_3  2018-09-21     13.80     1000\n",
       "4  1000_4  2018-12-15      5.18     1000"
      ]
     },
     "execution_count": 12,
     "metadata": {},
     "output_type": "execute_result"
    }
   ],
   "source": [
    "calls.head() "
   ]
  },
  {
   "cell_type": "code",
   "execution_count": 13,
   "metadata": {},
   "outputs": [
    {
     "name": "stdout",
     "output_type": "stream",
     "text": [
      "<class 'pandas.core.frame.DataFrame'>\n",
      "RangeIndex: 202607 entries, 0 to 202606\n",
      "Data columns (total 4 columns):\n",
      " #   Column     Non-Null Count   Dtype  \n",
      "---  ------     --------------   -----  \n",
      " 0   id         202607 non-null  object \n",
      " 1   call_date  202607 non-null  object \n",
      " 2   duration   202607 non-null  float64\n",
      " 3   user_id    202607 non-null  int64  \n",
      "dtypes: float64(1), int64(1), object(2)\n",
      "memory usage: 6.2+ MB\n"
     ]
    }
   ],
   "source": [
    "calls.info() "
   ]
  },
  {
   "cell_type": "markdown",
   "metadata": {},
   "source": [
    "Столбец *'duration'* один из основных для исследования. Посмотрим на его статистику:"
   ]
  },
  {
   "cell_type": "code",
   "execution_count": 14,
   "metadata": {
    "scrolled": true
   },
   "outputs": [
    {
     "data": {
      "text/html": [
       "<div>\n",
       "<style scoped>\n",
       "    .dataframe tbody tr th:only-of-type {\n",
       "        vertical-align: middle;\n",
       "    }\n",
       "\n",
       "    .dataframe tbody tr th {\n",
       "        vertical-align: top;\n",
       "    }\n",
       "\n",
       "    .dataframe thead th {\n",
       "        text-align: right;\n",
       "    }\n",
       "</style>\n",
       "<table border=\"1\" class=\"dataframe\">\n",
       "  <thead>\n",
       "    <tr style=\"text-align: right;\">\n",
       "      <th></th>\n",
       "      <th>duration</th>\n",
       "    </tr>\n",
       "  </thead>\n",
       "  <tbody>\n",
       "    <tr>\n",
       "      <th>count</th>\n",
       "      <td>202607.000000</td>\n",
       "    </tr>\n",
       "    <tr>\n",
       "      <th>mean</th>\n",
       "      <td>6.755887</td>\n",
       "    </tr>\n",
       "    <tr>\n",
       "      <th>std</th>\n",
       "      <td>5.843365</td>\n",
       "    </tr>\n",
       "    <tr>\n",
       "      <th>min</th>\n",
       "      <td>0.000000</td>\n",
       "    </tr>\n",
       "    <tr>\n",
       "      <th>25%</th>\n",
       "      <td>1.300000</td>\n",
       "    </tr>\n",
       "    <tr>\n",
       "      <th>50%</th>\n",
       "      <td>6.000000</td>\n",
       "    </tr>\n",
       "    <tr>\n",
       "      <th>75%</th>\n",
       "      <td>10.700000</td>\n",
       "    </tr>\n",
       "    <tr>\n",
       "      <th>max</th>\n",
       "      <td>38.000000</td>\n",
       "    </tr>\n",
       "  </tbody>\n",
       "</table>\n",
       "</div>"
      ],
      "text/plain": [
       "            duration\n",
       "count  202607.000000\n",
       "mean        6.755887\n",
       "std         5.843365\n",
       "min         0.000000\n",
       "25%         1.300000\n",
       "50%         6.000000\n",
       "75%        10.700000\n",
       "max        38.000000"
      ]
     },
     "execution_count": 14,
     "metadata": {},
     "output_type": "execute_result"
    }
   ],
   "source": [
    "calls[['duration']].describe() "
   ]
  },
  {
   "cell_type": "markdown",
   "metadata": {},
   "source": [
    "Имеем нулевую длительность звонков. Судя по всему, это входящие/исходящие пропущенные/неотвеченные звонки. \n",
    "\n",
    "Выясним минимальный по длительности зафиксированный звонок. Посмотрим на срез данных от 0 до 1 минуты с сортировкой по возрастанию:"
   ]
  },
  {
   "cell_type": "code",
   "execution_count": 15,
   "metadata": {},
   "outputs": [
    {
     "data": {
      "text/plain": [
       "169056    0.01\n",
       "155792    0.01\n",
       "196972    0.01\n",
       "199992    0.01\n",
       "71994     0.01\n",
       "          ... \n",
       "192884    0.99\n",
       "31478     0.99\n",
       "130329    0.99\n",
       "1649      0.99\n",
       "47075     0.99\n",
       "Name: duration, Length: 8314, dtype: float64"
      ]
     },
     "execution_count": 15,
     "metadata": {},
     "output_type": "execute_result"
    }
   ],
   "source": [
    "calls.query('1 > duration > 0')['duration'].sort_values() "
   ]
  },
  {
   "cell_type": "markdown",
   "metadata": {},
   "source": [
    "Связь фиксируется даже в случае продолжительности звонка 0.01 минуты. Значит, '0' служит показателем, указывающим на несостоявшееся соединение. \n",
    "\n",
    "Вычислим число 'нулевых' звонков: "
   ]
  },
  {
   "cell_type": "code",
   "execution_count": 16,
   "metadata": {},
   "outputs": [
    {
     "data": {
      "text/plain": [
       "39613"
      ]
     },
     "execution_count": 16,
     "metadata": {},
     "output_type": "execute_result"
    }
   ],
   "source": [
    "calls[calls['duration'] == 0].count()[0] "
   ]
  },
  {
   "cell_type": "markdown",
   "metadata": {},
   "source": [
    "Доля \"нулевых\" звонков составляет примерно 20% от общей выборки, что довольно много. Тем не менее, так как эти звонки не состоялись и не имеют даже околонулевого значения, оставим данные без изменений. Пусть нули остаются нулями - так устроена мобильная связь и таковы условия. Округление в большую сторону происходит только при значениях больше нуля."
   ]
  },
  {
   "cell_type": "markdown",
   "metadata": {},
   "source": [
    "В таблице есть атрибут *'call_date'* и его нужно преобразовать из object в dataframe. \n",
    "\n",
    "В остальном таблица выглядит нормально. "
   ]
  },
  {
   "cell_type": "markdown",
   "metadata": {},
   "source": [
    "**[4] Таблица о сообщениях** <a id='messages'></a>"
   ]
  },
  {
   "cell_type": "code",
   "execution_count": 17,
   "metadata": {},
   "outputs": [
    {
     "data": {
      "text/html": [
       "<div>\n",
       "<style scoped>\n",
       "    .dataframe tbody tr th:only-of-type {\n",
       "        vertical-align: middle;\n",
       "    }\n",
       "\n",
       "    .dataframe tbody tr th {\n",
       "        vertical-align: top;\n",
       "    }\n",
       "\n",
       "    .dataframe thead th {\n",
       "        text-align: right;\n",
       "    }\n",
       "</style>\n",
       "<table border=\"1\" class=\"dataframe\">\n",
       "  <thead>\n",
       "    <tr style=\"text-align: right;\">\n",
       "      <th></th>\n",
       "      <th>id</th>\n",
       "      <th>message_date</th>\n",
       "      <th>user_id</th>\n",
       "    </tr>\n",
       "  </thead>\n",
       "  <tbody>\n",
       "    <tr>\n",
       "      <th>0</th>\n",
       "      <td>1000_0</td>\n",
       "      <td>2018-06-27</td>\n",
       "      <td>1000</td>\n",
       "    </tr>\n",
       "    <tr>\n",
       "      <th>1</th>\n",
       "      <td>1000_1</td>\n",
       "      <td>2018-10-08</td>\n",
       "      <td>1000</td>\n",
       "    </tr>\n",
       "    <tr>\n",
       "      <th>2</th>\n",
       "      <td>1000_2</td>\n",
       "      <td>2018-08-04</td>\n",
       "      <td>1000</td>\n",
       "    </tr>\n",
       "    <tr>\n",
       "      <th>3</th>\n",
       "      <td>1000_3</td>\n",
       "      <td>2018-06-16</td>\n",
       "      <td>1000</td>\n",
       "    </tr>\n",
       "    <tr>\n",
       "      <th>4</th>\n",
       "      <td>1000_4</td>\n",
       "      <td>2018-12-05</td>\n",
       "      <td>1000</td>\n",
       "    </tr>\n",
       "  </tbody>\n",
       "</table>\n",
       "</div>"
      ],
      "text/plain": [
       "       id message_date  user_id\n",
       "0  1000_0   2018-06-27     1000\n",
       "1  1000_1   2018-10-08     1000\n",
       "2  1000_2   2018-08-04     1000\n",
       "3  1000_3   2018-06-16     1000\n",
       "4  1000_4   2018-12-05     1000"
      ]
     },
     "execution_count": 17,
     "metadata": {},
     "output_type": "execute_result"
    }
   ],
   "source": [
    "messages.head() "
   ]
  },
  {
   "cell_type": "code",
   "execution_count": 18,
   "metadata": {},
   "outputs": [
    {
     "name": "stdout",
     "output_type": "stream",
     "text": [
      "<class 'pandas.core.frame.DataFrame'>\n",
      "RangeIndex: 123036 entries, 0 to 123035\n",
      "Data columns (total 3 columns):\n",
      " #   Column        Non-Null Count   Dtype \n",
      "---  ------        --------------   ----- \n",
      " 0   id            123036 non-null  object\n",
      " 1   message_date  123036 non-null  object\n",
      " 2   user_id       123036 non-null  int64 \n",
      "dtypes: int64(1), object(2)\n",
      "memory usage: 2.8+ MB\n"
     ]
    }
   ],
   "source": [
    "messages.info() "
   ]
  },
  {
   "cell_type": "markdown",
   "metadata": {},
   "source": [
    "С таблицей все в порядке. Необходимо только произвести изменение типа данных в колонке *'message_date'*."
   ]
  },
  {
   "cell_type": "markdown",
   "metadata": {},
   "source": [
    "**[5] Таблица об интернет-сессии** <a id='internet'></a>"
   ]
  },
  {
   "cell_type": "code",
   "execution_count": 19,
   "metadata": {},
   "outputs": [
    {
     "data": {
      "text/html": [
       "<div>\n",
       "<style scoped>\n",
       "    .dataframe tbody tr th:only-of-type {\n",
       "        vertical-align: middle;\n",
       "    }\n",
       "\n",
       "    .dataframe tbody tr th {\n",
       "        vertical-align: top;\n",
       "    }\n",
       "\n",
       "    .dataframe thead th {\n",
       "        text-align: right;\n",
       "    }\n",
       "</style>\n",
       "<table border=\"1\" class=\"dataframe\">\n",
       "  <thead>\n",
       "    <tr style=\"text-align: right;\">\n",
       "      <th></th>\n",
       "      <th>Unnamed: 0</th>\n",
       "      <th>id</th>\n",
       "      <th>mb_used</th>\n",
       "      <th>session_date</th>\n",
       "      <th>user_id</th>\n",
       "    </tr>\n",
       "  </thead>\n",
       "  <tbody>\n",
       "    <tr>\n",
       "      <th>0</th>\n",
       "      <td>0</td>\n",
       "      <td>1000_0</td>\n",
       "      <td>112.95</td>\n",
       "      <td>2018-11-25</td>\n",
       "      <td>1000</td>\n",
       "    </tr>\n",
       "    <tr>\n",
       "      <th>1</th>\n",
       "      <td>1</td>\n",
       "      <td>1000_1</td>\n",
       "      <td>1052.81</td>\n",
       "      <td>2018-09-07</td>\n",
       "      <td>1000</td>\n",
       "    </tr>\n",
       "    <tr>\n",
       "      <th>2</th>\n",
       "      <td>2</td>\n",
       "      <td>1000_2</td>\n",
       "      <td>1197.26</td>\n",
       "      <td>2018-06-25</td>\n",
       "      <td>1000</td>\n",
       "    </tr>\n",
       "    <tr>\n",
       "      <th>3</th>\n",
       "      <td>3</td>\n",
       "      <td>1000_3</td>\n",
       "      <td>550.27</td>\n",
       "      <td>2018-08-22</td>\n",
       "      <td>1000</td>\n",
       "    </tr>\n",
       "    <tr>\n",
       "      <th>4</th>\n",
       "      <td>4</td>\n",
       "      <td>1000_4</td>\n",
       "      <td>302.56</td>\n",
       "      <td>2018-09-24</td>\n",
       "      <td>1000</td>\n",
       "    </tr>\n",
       "  </tbody>\n",
       "</table>\n",
       "</div>"
      ],
      "text/plain": [
       "   Unnamed: 0      id  mb_used session_date  user_id\n",
       "0           0  1000_0   112.95   2018-11-25     1000\n",
       "1           1  1000_1  1052.81   2018-09-07     1000\n",
       "2           2  1000_2  1197.26   2018-06-25     1000\n",
       "3           3  1000_3   550.27   2018-08-22     1000\n",
       "4           4  1000_4   302.56   2018-09-24     1000"
      ]
     },
     "execution_count": 19,
     "metadata": {},
     "output_type": "execute_result"
    }
   ],
   "source": [
    "internet.head() "
   ]
  },
  {
   "cell_type": "code",
   "execution_count": 20,
   "metadata": {},
   "outputs": [
    {
     "name": "stdout",
     "output_type": "stream",
     "text": [
      "<class 'pandas.core.frame.DataFrame'>\n",
      "RangeIndex: 149396 entries, 0 to 149395\n",
      "Data columns (total 5 columns):\n",
      " #   Column        Non-Null Count   Dtype  \n",
      "---  ------        --------------   -----  \n",
      " 0   Unnamed: 0    149396 non-null  int64  \n",
      " 1   id            149396 non-null  object \n",
      " 2   mb_used       149396 non-null  float64\n",
      " 3   session_date  149396 non-null  object \n",
      " 4   user_id       149396 non-null  int64  \n",
      "dtypes: float64(1), int64(2), object(2)\n",
      "memory usage: 5.7+ MB\n"
     ]
    }
   ],
   "source": [
    "internet.info() "
   ]
  },
  {
   "cell_type": "markdown",
   "metadata": {},
   "source": [
    "Столбец *'mb_used'* один из основных для исследования. Посмотрим на его статистику:"
   ]
  },
  {
   "cell_type": "code",
   "execution_count": 21,
   "metadata": {},
   "outputs": [
    {
     "data": {
      "text/html": [
       "<div>\n",
       "<style scoped>\n",
       "    .dataframe tbody tr th:only-of-type {\n",
       "        vertical-align: middle;\n",
       "    }\n",
       "\n",
       "    .dataframe tbody tr th {\n",
       "        vertical-align: top;\n",
       "    }\n",
       "\n",
       "    .dataframe thead th {\n",
       "        text-align: right;\n",
       "    }\n",
       "</style>\n",
       "<table border=\"1\" class=\"dataframe\">\n",
       "  <thead>\n",
       "    <tr style=\"text-align: right;\">\n",
       "      <th></th>\n",
       "      <th>mb_used</th>\n",
       "    </tr>\n",
       "  </thead>\n",
       "  <tbody>\n",
       "    <tr>\n",
       "      <th>count</th>\n",
       "      <td>149396.000000</td>\n",
       "    </tr>\n",
       "    <tr>\n",
       "      <th>mean</th>\n",
       "      <td>370.192426</td>\n",
       "    </tr>\n",
       "    <tr>\n",
       "      <th>std</th>\n",
       "      <td>278.300951</td>\n",
       "    </tr>\n",
       "    <tr>\n",
       "      <th>min</th>\n",
       "      <td>0.000000</td>\n",
       "    </tr>\n",
       "    <tr>\n",
       "      <th>25%</th>\n",
       "      <td>138.187500</td>\n",
       "    </tr>\n",
       "    <tr>\n",
       "      <th>50%</th>\n",
       "      <td>348.015000</td>\n",
       "    </tr>\n",
       "    <tr>\n",
       "      <th>75%</th>\n",
       "      <td>559.552500</td>\n",
       "    </tr>\n",
       "    <tr>\n",
       "      <th>max</th>\n",
       "      <td>1724.830000</td>\n",
       "    </tr>\n",
       "  </tbody>\n",
       "</table>\n",
       "</div>"
      ],
      "text/plain": [
       "             mb_used\n",
       "count  149396.000000\n",
       "mean      370.192426\n",
       "std       278.300951\n",
       "min         0.000000\n",
       "25%       138.187500\n",
       "50%       348.015000\n",
       "75%       559.552500\n",
       "max      1724.830000"
      ]
     },
     "execution_count": 21,
     "metadata": {},
     "output_type": "execute_result"
    }
   ],
   "source": [
    "internet[['mb_used']].describe() "
   ]
  },
  {
   "cell_type": "markdown",
   "metadata": {},
   "source": [
    "Имеем нулевой объем использованного трафика. Судя по всему, это сбои при выходе в интернет. \n",
    "\n",
    "Выделим срез от 0 до 1 объема Мб с сортировкой по возрастанию:"
   ]
  },
  {
   "cell_type": "code",
   "execution_count": 22,
   "metadata": {},
   "outputs": [
    {
     "data": {
      "text/plain": [
       "15944     0.03\n",
       "85722     0.04\n",
       "108198    0.06\n",
       "11027     0.07\n",
       "11399     0.07\n",
       "          ... \n",
       "55902     0.93\n",
       "1593      0.93\n",
       "11618     0.95\n",
       "30493     0.96\n",
       "59711     0.97\n",
       "Name: mb_used, Length: 101, dtype: float64"
      ]
     },
     "execution_count": 22,
     "metadata": {},
     "output_type": "execute_result"
    }
   ],
   "source": [
    "internet.query('1 > mb_used > 0')['mb_used'].sort_values() "
   ]
  },
  {
   "cell_type": "markdown",
   "metadata": {},
   "source": [
    "Факт выхода в интернет фиксируется даже в случае использования совсем небольшого объема - 0.03 Мб. Значит, как и в случае со звонками, '0' - значемый показатель: попытка выхода в интернет была, но связь оборвалась. \n",
    "\n",
    "Вычислим число таких случаев:"
   ]
  },
  {
   "cell_type": "code",
   "execution_count": 23,
   "metadata": {},
   "outputs": [
    {
     "data": {
      "text/plain": [
       "19598"
      ]
     },
     "execution_count": 23,
     "metadata": {},
     "output_type": "execute_result"
    }
   ],
   "source": [
    "internet[internet['mb_used'] == 0].count()[0] "
   ]
  },
  {
   "cell_type": "markdown",
   "metadata": {},
   "source": [
    "Почти 16% случаев выхода в интернет являются несостоявшимися. Причины могут быть совершенно разными. Это и сбои в работе системы Мегалайн из-за внутренних проблем. Или внешние факторы: пользователь оказался вне зоны действия сети, разрядился телефон и т.д. Тем не менее, если выход в интернет не получился, объем трафика не зайдействован - оставляем нули нулями. "
   ]
  },
  {
   "cell_type": "markdown",
   "metadata": {},
   "source": [
    "Также, как и в других таблицах, необходимо привести данные колонки *'session_date'* к типу dataframe. В остальном все нормально.  "
   ]
  },
  {
   "cell_type": "markdown",
   "metadata": {},
   "source": [
    "# Вывод <a id='summary_1'></a>"
   ]
  },
  {
   "cell_type": "markdown",
   "metadata": {},
   "source": [
    "[1] `Пропуски`. \n",
    "Пропущенные значения встречаются только в датасете *users* колонке *'churn_date'*. Пропуски связаны с тем, что абонент продолжал использовать тариф на момент выгрузки данных. Оставляем данные без изменений.\n",
    "\n",
    "[2] `Нулевые значения`.\n",
    "Есть нулевые значения в категории 'длительность звонков' и объему использованного интернета - сохраняем нули как показатель несостоявшегося соединения.\n",
    "\n",
    "[3] `Округление данных`.\n",
    "Согласно условиям тарифа длительность звонков и объем трафика округляются в большую сторону. Поэтому необходимо произвести подобные изменения.\n",
    "\n",
    "[4] `Изменение типа данных`.\n",
    "Меняем тип данны в колонках с датами: *'reg_date'*, *'call_date'*, *'message_date'*, *'session_date'*.\n",
    "\n",
    "[5]`Изменение названия колонки`. В таблицах **tariffs** и **users** есть столбец с определением тарифа. В одном случае он имеет название *'tariff_name'*, в другом - *'tariff'* соответственно. Нужно переименовать одну из колонок, чтобы не допустить сбоя при объединении данных. "
   ]
  },
  {
   "cell_type": "markdown",
   "metadata": {},
   "source": [
    "## Подготовка данных <a id='data_preparation'></a>"
   ]
  },
  {
   "cell_type": "markdown",
   "metadata": {},
   "source": [
    "Небольшое отступление. \n",
    "\n",
    "В процессе работы над проектом появится необходимость возвращаться к параметрам тарифных планов. Создадим для удобства кнопку, которая выведит нужные параметры. Добавим кнопку в те разделы исследования, где это необходимо."
   ]
  },
  {
   "cell_type": "code",
   "execution_count": 24,
   "metadata": {},
   "outputs": [],
   "source": [
    "button = Button(description=\"Тариф\",button_style='info') \n",
    "\n",
    "def on_button_clicked(b): \n",
    "    print(tariffs)\n",
    "\n",
    "button.on_click(on_button_clicked) "
   ]
  },
  {
   "cell_type": "markdown",
   "metadata": {},
   "source": [
    "Теперь перейдем к предподготовке данных."
   ]
  },
  {
   "cell_type": "markdown",
   "metadata": {},
   "source": [
    "При подготовке к анализу первым делом откорректируем данные, а затем создадим новые столбцы с дополнительными сведениями, которые будем использовать в исследовании."
   ]
  },
  {
   "cell_type": "markdown",
   "metadata": {},
   "source": [
    "**[1] Предобработка данных** <a id='data_preprocessing'></a>"
   ]
  },
  {
   "cell_type": "markdown",
   "metadata": {},
   "source": [
    "* `Изменение типа данных` \n",
    "\n",
    "Приведем данные *'reg_date', 'call_date', 'message_date', 'session_date'* к нужному типу с помощью модуля *datetime*:"
   ]
  },
  {
   "cell_type": "code",
   "execution_count": 25,
   "metadata": {},
   "outputs": [],
   "source": [
    "users['reg_date'] = pd.to_datetime(users['reg_date'], format='%Y-%m-%d')\n",
    "calls['call_date'] = pd.to_datetime(calls['call_date'], format='%Y-%m-%d')\n",
    "messages['message_date'] = pd.to_datetime(messages['message_date'], format='%Y-%m-%d')\n",
    "internet['session_date'] = pd.to_datetime(internet['session_date'], format='%Y-%m-%d')"
   ]
  },
  {
   "cell_type": "markdown",
   "metadata": {},
   "source": [
    "Проверим результат:"
   ]
  },
  {
   "cell_type": "code",
   "execution_count": 26,
   "metadata": {},
   "outputs": [
    {
     "name": "stdout",
     "output_type": "stream",
     "text": [
      "<class 'pandas.core.frame.DataFrame'>\n",
      "RangeIndex: 202607 entries, 0 to 202606\n",
      "Data columns (total 4 columns):\n",
      " #   Column     Non-Null Count   Dtype         \n",
      "---  ------     --------------   -----         \n",
      " 0   id         202607 non-null  object        \n",
      " 1   call_date  202607 non-null  datetime64[ns]\n",
      " 2   duration   202607 non-null  float64       \n",
      " 3   user_id    202607 non-null  int64         \n",
      "dtypes: datetime64[ns](1), float64(1), int64(1), object(1)\n",
      "memory usage: 6.2+ MB\n"
     ]
    }
   ],
   "source": [
    "calls.info() "
   ]
  },
  {
   "cell_type": "markdown",
   "metadata": {},
   "source": [
    "Все в порядке. Двигаемся дальше."
   ]
  },
  {
   "cell_type": "markdown",
   "metadata": {},
   "source": [
    "* `Округление данных`\n",
    "\n",
    "Округлим длительность звонков и объем интернета до целых чисел. \n",
    "\n",
    "Согласно условиям тарифов минуты и Мб округляются в большую сторону. Применим функцию *ceil()* для массива *'duration'* и *'mb_used'* и преобразуем к целочисленному типу.  "
   ]
  },
  {
   "cell_type": "code",
   "execution_count": 27,
   "metadata": {},
   "outputs": [],
   "source": [
    "calls['duration'] = (np.ceil(calls[['duration']])).astype('int')\n",
    "internet['mb_used'] = (np.ceil(internet[['mb_used']])).astype('int')"
   ]
  },
  {
   "cell_type": "markdown",
   "metadata": {},
   "source": [
    "* `Изменение названия колонки`\n",
    "\n",
    "Изменим название колонки в *'tariff'* на *'tariff_name'* в датасете **users**:"
   ]
  },
  {
   "cell_type": "code",
   "execution_count": 28,
   "metadata": {},
   "outputs": [
    {
     "data": {
      "text/plain": [
       "Index(['user_id', 'age', 'churn_date', 'city', 'first_name', 'last_name',\n",
       "       'reg_date', 'tariff_name'],\n",
       "      dtype='object')"
      ]
     },
     "execution_count": 28,
     "metadata": {},
     "output_type": "execute_result"
    }
   ],
   "source": [
    "users.rename(columns={'tariff':'tariff_name'}, inplace=True) \n",
    "users.columns "
   ]
  },
  {
   "cell_type": "markdown",
   "metadata": {},
   "source": [
    "Предобработка данных выполнена. Можем переходить к дальнешей работе."
   ]
  },
  {
   "cell_type": "markdown",
   "metadata": {},
   "source": [
    "**[2] Формирование дополнительных данных** <a id='working_with_data'></a>"
   ]
  },
  {
   "cell_type": "markdown",
   "metadata": {},
   "source": [
    "Выполним следующие действия:\n",
    "\n",
    "1. Посчитаем для каждого пользователя количество сделанных звонков и израсходованных минут разговора по месяцам, количество отправленных сообщений и объем израсходованного интернет-трафика по месяцам; \n",
    "\n",
    "2. Вычислим помесячную выручку с каждого пользователя: вычтем бесплатный лимит из суммарного количества звонков, сообщений и интернет-трафика; остаток умножим на значение из тарифного плана; прибавим абонентскую плату, соответствующую тарифному плану."
   ]
  },
  {
   "cell_type": "markdown",
   "metadata": {},
   "source": [
    "* **Объем израсходованных услуг для каждого пользователя по месяцам.** <a id='tariff_spent'></a>"
   ]
  },
  {
   "cell_type": "markdown",
   "metadata": {},
   "source": [
    "Итак, определяем количество израсходованных минут, смс и интернета."
   ]
  },
  {
   "cell_type": "markdown",
   "metadata": {},
   "source": [
    "Сначала создадим столбец *'month'* для датасетов **calls, messages, internet**:"
   ]
  },
  {
   "cell_type": "code",
   "execution_count": 29,
   "metadata": {},
   "outputs": [],
   "source": [
    "calls['month'] = calls['call_date'].dt.month\n",
    "messages['month'] = messages['message_date'].dt.month\n",
    "internet['month'] = internet['session_date'].dt.month"
   ]
  },
  {
   "cell_type": "markdown",
   "metadata": {},
   "source": [
    "Сформируем таблицы расхода звонков, смс и интернета по месяцам:"
   ]
  },
  {
   "cell_type": "code",
   "execution_count": 30,
   "metadata": {},
   "outputs": [
    {
     "name": "stdout",
     "output_type": "stream",
     "text": [
      "<class 'pandas.core.frame.DataFrame'>\n",
      "RangeIndex: 3174 entries, 0 to 3173\n",
      "Data columns (total 4 columns):\n",
      " #   Column          Non-Null Count  Dtype\n",
      "---  ------          --------------  -----\n",
      " 0   user_id         3174 non-null   int64\n",
      " 1   month           3174 non-null   int64\n",
      " 2   month_calls     3174 non-null   int64\n",
      " 3   month_duration  3174 non-null   int32\n",
      "dtypes: int32(1), int64(3)\n",
      "memory usage: 86.9 KB\n"
     ]
    }
   ],
   "source": [
    "# формирование датасета calls_by_month по длительности звонков по месяцам\n",
    "\n",
    "calls_by_month = calls.pivot_table(index=['user_id','month'], values='duration',aggfunc=['count','sum'])\n",
    "calls_by_month.reset_index(inplace=True) \n",
    "calls_by_month.columns=['user_id', 'month', 'month_calls','month_duration']\n",
    "calls_by_month.info()"
   ]
  },
  {
   "cell_type": "code",
   "execution_count": 31,
   "metadata": {},
   "outputs": [
    {
     "name": "stdout",
     "output_type": "stream",
     "text": [
      "<class 'pandas.core.frame.DataFrame'>\n",
      "RangeIndex: 2717 entries, 0 to 2716\n",
      "Data columns (total 3 columns):\n",
      " #   Column     Non-Null Count  Dtype\n",
      "---  ------     --------------  -----\n",
      " 0   user_id    2717 non-null   int64\n",
      " 1   month      2717 non-null   int64\n",
      " 2   month_sms  2717 non-null   int64\n",
      "dtypes: int64(3)\n",
      "memory usage: 63.8 KB\n"
     ]
    }
   ],
   "source": [
    "# формирование датасета messages_by_month по объему числа смс по месяцам\n",
    "\n",
    "messages_by_month = messages.pivot_table(index=['user_id', 'month'], values='id', aggfunc='count')\n",
    "messages_by_month.reset_index(inplace=True)                   \n",
    "messages_by_month.rename(columns={'id':'month_sms'}, inplace=True)\n",
    "messages_by_month.info()"
   ]
  },
  {
   "cell_type": "code",
   "execution_count": 32,
   "metadata": {},
   "outputs": [
    {
     "name": "stdout",
     "output_type": "stream",
     "text": [
      "<class 'pandas.core.frame.DataFrame'>\n",
      "RangeIndex: 3203 entries, 0 to 3202\n",
      "Data columns (total 3 columns):\n",
      " #   Column    Non-Null Count  Dtype\n",
      "---  ------    --------------  -----\n",
      " 0   user_id   3203 non-null   int64\n",
      " 1   month     3203 non-null   int64\n",
      " 2   month_mb  3203 non-null   int32\n",
      "dtypes: int32(1), int64(2)\n",
      "memory usage: 62.7 KB\n"
     ]
    }
   ],
   "source": [
    "# формирование датасета internet_by_month по объему интернет-трафика по месяцам\n",
    "\n",
    "internet_by_month = internet.pivot_table(index=['user_id', 'month'], values='mb_used',aggfunc='sum')\n",
    "internet_by_month.reset_index(inplace=True)\n",
    "internet_by_month.rename(columns={'mb_used':'month_mb'}, inplace=True)\n",
    "internet_by_month.info()"
   ]
  },
  {
   "cell_type": "markdown",
   "metadata": {},
   "source": [
    "Объединим все полученные таблицы в одну *data_month*:"
   ]
  },
  {
   "cell_type": "code",
   "execution_count": 33,
   "metadata": {
    "scrolled": true
   },
   "outputs": [
    {
     "name": "stdout",
     "output_type": "stream",
     "text": [
      "<class 'pandas.core.frame.DataFrame'>\n",
      "Int64Index: 3214 entries, 0 to 3213\n",
      "Data columns (total 6 columns):\n",
      " #   Column          Non-Null Count  Dtype  \n",
      "---  ------          --------------  -----  \n",
      " 0   user_id         3214 non-null   int64  \n",
      " 1   month           3214 non-null   int64  \n",
      " 2   month_calls     3174 non-null   float64\n",
      " 3   month_duration  3174 non-null   float64\n",
      " 4   month_sms       2717 non-null   float64\n",
      " 5   month_mb        3203 non-null   float64\n",
      "dtypes: float64(4), int64(2)\n",
      "memory usage: 175.8 KB\n"
     ]
    }
   ],
   "source": [
    "# сгенерируем список полученных таблиц \n",
    "\n",
    "data = [calls_by_month, messages_by_month, internet_by_month] \n",
    "\n",
    "# создаем объединенную таблицу \n",
    "\n",
    "data_month = reduce(lambda  left, right: pd.merge(left,right, on=['user_id','month'], how='outer'), data)\n",
    "data_month.info()"
   ]
  },
  {
   "cell_type": "markdown",
   "metadata": {},
   "source": [
    "Добавим названием тарифа к полученной таблице и выведим результат на экран:"
   ]
  },
  {
   "cell_type": "code",
   "execution_count": 34,
   "metadata": {},
   "outputs": [
    {
     "name": "stdout",
     "output_type": "stream",
     "text": [
      "<class 'pandas.core.frame.DataFrame'>\n",
      "Int64Index: 3216 entries, 0 to 3215\n",
      "Data columns (total 7 columns):\n",
      " #   Column          Non-Null Count  Dtype  \n",
      "---  ------          --------------  -----  \n",
      " 0   user_id         3216 non-null   int64  \n",
      " 1   month           3214 non-null   float64\n",
      " 2   month_calls     3174 non-null   float64\n",
      " 3   month_duration  3174 non-null   float64\n",
      " 4   month_sms       2717 non-null   float64\n",
      " 5   month_mb        3203 non-null   float64\n",
      " 6   tariff_name     3216 non-null   object \n",
      "dtypes: float64(5), int64(1), object(1)\n",
      "memory usage: 201.0+ KB\n"
     ]
    }
   ],
   "source": [
    "data_month = data_month.merge(users[['user_id', 'tariff_name']], on='user_id', how='outer')\n",
    "data_month.info()"
   ]
  },
  {
   "cell_type": "markdown",
   "metadata": {},
   "source": [
    "В сформированной таблице есть пропуски, что вполне объяснимо. Есть пользователи, которые в течение месяца не совершали звонков, не отправляли смс или не пользовались интернетом. Больше всего пропусков в количестве смс. А вот интернет остается неиспользованным намного реже. \n",
    "\n",
    "Оставлять пропуски не стоит. Заполним их нулями:"
   ]
  },
  {
   "cell_type": "code",
   "execution_count": 35,
   "metadata": {
    "scrolled": true
   },
   "outputs": [
    {
     "name": "stdout",
     "output_type": "stream",
     "text": [
      "<class 'pandas.core.frame.DataFrame'>\n",
      "Int64Index: 3216 entries, 0 to 3215\n",
      "Data columns (total 7 columns):\n",
      " #   Column          Non-Null Count  Dtype  \n",
      "---  ------          --------------  -----  \n",
      " 0   user_id         3216 non-null   int64  \n",
      " 1   month           3216 non-null   float64\n",
      " 2   month_calls     3216 non-null   float64\n",
      " 3   month_duration  3216 non-null   float64\n",
      " 4   month_sms       3216 non-null   float64\n",
      " 5   month_mb        3216 non-null   float64\n",
      " 6   tariff_name     3216 non-null   object \n",
      "dtypes: float64(5), int64(1), object(1)\n",
      "memory usage: 201.0+ KB\n"
     ]
    }
   ],
   "source": [
    "data_month = data_month.fillna(0) \n",
    "data_month.info()"
   ]
  },
  {
   "cell_type": "markdown",
   "metadata": {},
   "source": [
    "Пропуски заполнены, все в порядке. "
   ]
  },
  {
   "cell_type": "markdown",
   "metadata": {},
   "source": [
    "Переходим к пункту 2. \n",
    "\n",
    "* **Вычисление помесячной выручки с каждого пользователя.** <a id='users_revenue'></a>"
   ]
  },
  {
   "cell_type": "markdown",
   "metadata": {},
   "source": [
    "Добавим параметры тарифов к нашей таблице **data_month**:"
   ]
  },
  {
   "cell_type": "code",
   "execution_count": 36,
   "metadata": {},
   "outputs": [],
   "source": [
    "data_month = data_month.merge(tariffs, on='tariff_name', how='outer')"
   ]
  },
  {
   "cell_type": "markdown",
   "metadata": {},
   "source": [
    "Создадим функцию подсчета переплат пользователей по месяцам. Учтем, что в тариффах указана сумма переплаты за 1 Гб, а данные пользователей выводятся в мегабайтах. "
   ]
  },
  {
   "cell_type": "code",
   "execution_count": 37,
   "metadata": {},
   "outputs": [],
   "source": [
    "def overpaiment(row):\n",
    "    duration = (row['month_duration'] - row['minutes_included']) * row['rub_per_minute']\n",
    "    message = (row['month_sms'] - row['messages_included']) * row['rub_per_message']\n",
    "    internet = (row['month_mb'] - row['mb_per_month_included']) * (row['rub_per_gb'] / 1024) \n",
    "    total = 0\n",
    "    for i in [duration, message, internet]:\n",
    "        if i > 0:\n",
    "            total += i \n",
    "    return total"
   ]
  },
  {
   "cell_type": "markdown",
   "metadata": {},
   "source": [
    "Создадим новый столбец *'overpaiment'* и включим его в *data_month*:"
   ]
  },
  {
   "cell_type": "code",
   "execution_count": 38,
   "metadata": {},
   "outputs": [],
   "source": [
    "data_month['overpaiment'] = round(data_month.apply(lambda x: overpaiment(x), axis=1))"
   ]
  },
  {
   "cell_type": "markdown",
   "metadata": {},
   "source": [
    "И, наконец, создадим столбец выручки *'revenue'*, приписав ему суммы ежемесячных переплат и абонентской платы для каждого пользователя:"
   ]
  },
  {
   "cell_type": "code",
   "execution_count": 39,
   "metadata": {},
   "outputs": [],
   "source": [
    "data_month['revenue'] = round(data_month['overpaiment'] + data_month['rub_monthly_fee'])"
   ]
  },
  {
   "cell_type": "markdown",
   "metadata": {},
   "source": [
    "Выведим на экран несколько наиболее информативных столбцов полученной таблицы, выстроив значения выручки по убыванию:"
   ]
  },
  {
   "cell_type": "code",
   "execution_count": 40,
   "metadata": {},
   "outputs": [
    {
     "data": {
      "text/html": [
       "<div>\n",
       "<style scoped>\n",
       "    .dataframe tbody tr th:only-of-type {\n",
       "        vertical-align: middle;\n",
       "    }\n",
       "\n",
       "    .dataframe tbody tr th {\n",
       "        vertical-align: top;\n",
       "    }\n",
       "\n",
       "    .dataframe thead th {\n",
       "        text-align: right;\n",
       "    }\n",
       "</style>\n",
       "<table border=\"1\" class=\"dataframe\">\n",
       "  <thead>\n",
       "    <tr style=\"text-align: right;\">\n",
       "      <th></th>\n",
       "      <th>user_id</th>\n",
       "      <th>month</th>\n",
       "      <th>month_calls</th>\n",
       "      <th>month_duration</th>\n",
       "      <th>month_sms</th>\n",
       "      <th>month_mb</th>\n",
       "      <th>overpaiment</th>\n",
       "      <th>revenue</th>\n",
       "      <th>tariff_name</th>\n",
       "    </tr>\n",
       "  </thead>\n",
       "  <tbody>\n",
       "    <tr>\n",
       "      <th>3158</th>\n",
       "      <td>1486</td>\n",
       "      <td>12.0</td>\n",
       "      <td>133.0</td>\n",
       "      <td>1007.0</td>\n",
       "      <td>83.0</td>\n",
       "      <td>38610.0</td>\n",
       "      <td>6161.0</td>\n",
       "      <td>6711.0</td>\n",
       "      <td>smart</td>\n",
       "    </tr>\n",
       "    <tr>\n",
       "      <th>2178</th>\n",
       "      <td>1261</td>\n",
       "      <td>12.0</td>\n",
       "      <td>141.0</td>\n",
       "      <td>1074.0</td>\n",
       "      <td>22.0</td>\n",
       "      <td>32697.0</td>\n",
       "      <td>5108.0</td>\n",
       "      <td>5658.0</td>\n",
       "      <td>smart</td>\n",
       "    </tr>\n",
       "    <tr>\n",
       "      <th>1184</th>\n",
       "      <td>1042</td>\n",
       "      <td>12.0</td>\n",
       "      <td>121.0</td>\n",
       "      <td>728.0</td>\n",
       "      <td>75.0</td>\n",
       "      <td>37219.0</td>\n",
       "      <td>5028.0</td>\n",
       "      <td>5578.0</td>\n",
       "      <td>smart</td>\n",
       "    </tr>\n",
       "    <tr>\n",
       "      <th>3157</th>\n",
       "      <td>1486</td>\n",
       "      <td>11.0</td>\n",
       "      <td>108.0</td>\n",
       "      <td>764.0</td>\n",
       "      <td>96.0</td>\n",
       "      <td>36319.0</td>\n",
       "      <td>5024.0</td>\n",
       "      <td>5574.0</td>\n",
       "      <td>smart</td>\n",
       "    </tr>\n",
       "    <tr>\n",
       "      <th>2299</th>\n",
       "      <td>1286</td>\n",
       "      <td>12.0</td>\n",
       "      <td>95.0</td>\n",
       "      <td>739.0</td>\n",
       "      <td>68.0</td>\n",
       "      <td>35151.0</td>\n",
       "      <td>4636.0</td>\n",
       "      <td>5186.0</td>\n",
       "      <td>smart</td>\n",
       "    </tr>\n",
       "  </tbody>\n",
       "</table>\n",
       "</div>"
      ],
      "text/plain": [
       "      user_id  month  month_calls  month_duration  month_sms  month_mb  \\\n",
       "3158     1486   12.0        133.0          1007.0       83.0   38610.0   \n",
       "2178     1261   12.0        141.0          1074.0       22.0   32697.0   \n",
       "1184     1042   12.0        121.0           728.0       75.0   37219.0   \n",
       "3157     1486   11.0        108.0           764.0       96.0   36319.0   \n",
       "2299     1286   12.0         95.0           739.0       68.0   35151.0   \n",
       "\n",
       "      overpaiment  revenue tariff_name  \n",
       "3158       6161.0   6711.0       smart  \n",
       "2178       5108.0   5658.0       smart  \n",
       "1184       5028.0   5578.0       smart  \n",
       "3157       5024.0   5574.0       smart  \n",
       "2299       4636.0   5186.0       smart  "
      ]
     },
     "execution_count": 40,
     "metadata": {},
     "output_type": "execute_result"
    }
   ],
   "source": [
    "data_month[['user_id', 'month', 'month_calls', 'month_duration', 'month_sms', 'month_mb', 'overpaiment', 'revenue', 'tariff_name']].sort_values(by='revenue', ascending=False).head()"
   ]
  },
  {
   "cell_type": "code",
   "execution_count": 41,
   "metadata": {},
   "outputs": [
    {
     "data": {
      "application/vnd.jupyter.widget-view+json": {
       "model_id": "d1eeea41308d4516a1d35c0431e35725",
       "version_major": 2,
       "version_minor": 0
      },
      "text/plain": [
       "Button(button_style='info', description='Тариф', style=ButtonStyle())"
      ]
     },
     "metadata": {},
     "output_type": "display_data"
    }
   ],
   "source": [
    "display(button)"
   ]
  },
  {
   "cell_type": "markdown",
   "metadata": {},
   "source": [
    "Видим, что верхние строки заняли абоненты \"Смарт\" с довольно большой суммой переплат. В некоторых случаях объем израсходованных ими услуг превышет даже пакет \"Ультра\". Ну, что же, активные пользователи вносят бóльший вклад в доход компании."
   ]
  },
  {
   "cell_type": "markdown",
   "metadata": {},
   "source": [
    "Посмотрим, как распределяются переплаты пользователей разных тарифов. "
   ]
  },
  {
   "cell_type": "code",
   "execution_count": 42,
   "metadata": {},
   "outputs": [
    {
     "data": {
      "text/plain": [
       "1665"
      ]
     },
     "execution_count": 42,
     "metadata": {},
     "output_type": "execute_result"
    }
   ],
   "source": [
    "# число случаев переплаты у пользователей тарифа \"Смарт\"\n",
    "\n",
    "len(data_month.loc[(data_month['overpaiment'] > 0) & (data_month['tariff_name'] == 'smart')])"
   ]
  },
  {
   "cell_type": "code",
   "execution_count": 43,
   "metadata": {},
   "outputs": [
    {
     "data": {
      "text/plain": [
       "134"
      ]
     },
     "execution_count": 43,
     "metadata": {},
     "output_type": "execute_result"
    }
   ],
   "source": [
    "# число случаев переплаты у пользователей тарифа  \"Ультра\"\n",
    "\n",
    "len(data_month.loc[(data_month['overpaiment'] > 0) & (data_month['tariff_name'] == 'ultra')])"
   ]
  },
  {
   "cell_type": "markdown",
   "metadata": {},
   "source": [
    "Чаще всего переплаты наблюдаются у пользователей тарифов \"Смарт\". Это вполне понятно, так как разница в пакетах включенных минут, смс и интернет трафика разительно отличается для обоих тарифов."
   ]
  },
  {
   "cell_type": "markdown",
   "metadata": {},
   "source": [
    "# Вывод <a id='summary_2'></a>"
   ]
  },
  {
   "cell_type": "markdown",
   "metadata": {},
   "source": [
    "Мы произвели замену типов данных, округлили значения длительности звонков и объема использованного интернета в большую сторону, заменили название столбца в таблице **users**, сформировали таблицу **data_month** со сгруппированными по месяцам данными и вычислили выручку с каждого пользователя в месяц. Можем приступать к анализу данных."
   ]
  },
  {
   "cell_type": "markdown",
   "metadata": {},
   "source": [
    "## Анализ данных <a id='data_analysis'></a>"
   ]
  },
  {
   "cell_type": "markdown",
   "metadata": {},
   "source": [
    "Наща задача - описать поведение клиентов оператора, исходя из выборки. \n",
    "\n",
    "**[1] Средний показатель по услугам тарифного пакета.** <a id='tariff_median'></a>"
   ]
  },
  {
   "cell_type": "markdown",
   "metadata": {},
   "source": [
    "Вычислим сколько в среднем минут разговора, количетсво сообщений и объём интернет-трафика требуется пользователям каждого тарифа в месяц. \n",
    "\n",
    "\n",
    "Сформируем новую таблицу *data_median* с данными средних значений по требуемым выборкам:"
   ]
  },
  {
   "cell_type": "code",
   "execution_count": 44,
   "metadata": {},
   "outputs": [],
   "source": [
    "data_median = data_month.pivot_table(index='user_id', values=['month_duration', 'month_sms', 'month_mb'], aggfunc='median')"
   ]
  },
  {
   "cell_type": "markdown",
   "metadata": {},
   "source": [
    "Добавим столбец с названием тарифа:"
   ]
  },
  {
   "cell_type": "code",
   "execution_count": 45,
   "metadata": {},
   "outputs": [],
   "source": [
    "data_median = data_median.merge(users[['user_id', 'tariff_name']], on = 'user_id', how='outer')"
   ]
  },
  {
   "cell_type": "markdown",
   "metadata": {},
   "source": [
    "Посмотим на таблицу, сортировав значения параметру длительности звонков:"
   ]
  },
  {
   "cell_type": "code",
   "execution_count": 46,
   "metadata": {},
   "outputs": [
    {
     "name": "stdout",
     "output_type": "stream",
     "text": [
      "<class 'pandas.core.frame.DataFrame'>\n",
      "Int64Index: 500 entries, 377 to 328\n",
      "Data columns (total 5 columns):\n",
      " #   Column          Non-Null Count  Dtype  \n",
      "---  ------          --------------  -----  \n",
      " 0   user_id         500 non-null    int64  \n",
      " 1   month_duration  500 non-null    float64\n",
      " 2   month_mb        500 non-null    float64\n",
      " 3   month_sms       500 non-null    float64\n",
      " 4   tariff_name     500 non-null    object \n",
      "dtypes: float64(3), int64(1), object(1)\n",
      "memory usage: 23.4+ KB\n"
     ]
    }
   ],
   "source": [
    "data_median.sort_values(by='month_duration', ascending=False).info()"
   ]
  },
  {
   "cell_type": "code",
   "execution_count": 47,
   "metadata": {},
   "outputs": [
    {
     "data": {
      "application/vnd.jupyter.widget-view+json": {
       "model_id": "d1eeea41308d4516a1d35c0431e35725",
       "version_major": 2,
       "version_minor": 0
      },
      "text/plain": [
       "Button(button_style='info', description='Тариф', style=ButtonStyle())"
      ]
     },
     "metadata": {},
     "output_type": "display_data"
    }
   ],
   "source": [
    "display(button)"
   ]
  },
  {
   "cell_type": "markdown",
   "metadata": {},
   "source": [
    "Верхние строки выборки заняли абоненты \"Ультра\". И даже при этом они расходуют в среднем только треть предоставленного им пакета минут. Явно переплачивают."
   ]
  },
  {
   "cell_type": "markdown",
   "metadata": {},
   "source": [
    "**[2] Median, var, std.** <a id='med_var_std'></a>\n",
    "\n",
    "Теперь вычислим среднее количество, дисперсию и стандартное отклонение для каждой из услуг тарифных пакетов. "
   ]
  },
  {
   "cell_type": "code",
   "execution_count": 48,
   "metadata": {},
   "outputs": [
    {
     "data": {
      "text/html": [
       "<div>\n",
       "<style scoped>\n",
       "    .dataframe tbody tr th:only-of-type {\n",
       "        vertical-align: middle;\n",
       "    }\n",
       "\n",
       "    .dataframe tbody tr th {\n",
       "        vertical-align: top;\n",
       "    }\n",
       "\n",
       "    .dataframe thead th {\n",
       "        text-align: right;\n",
       "    }\n",
       "</style>\n",
       "<table border=\"1\" class=\"dataframe\">\n",
       "  <thead>\n",
       "    <tr style=\"text-align: right;\">\n",
       "      <th></th>\n",
       "      <th>calls_median</th>\n",
       "      <th>calls_mean</th>\n",
       "      <th>calls_var</th>\n",
       "      <th>calls_std</th>\n",
       "    </tr>\n",
       "    <tr>\n",
       "      <th>tariff_name</th>\n",
       "      <th></th>\n",
       "      <th></th>\n",
       "      <th></th>\n",
       "      <th></th>\n",
       "    </tr>\n",
       "  </thead>\n",
       "  <tbody>\n",
       "    <tr>\n",
       "      <th>smart</th>\n",
       "      <td>439.5</td>\n",
       "      <td>436.22</td>\n",
       "      <td>26157.24</td>\n",
       "      <td>161.73</td>\n",
       "    </tr>\n",
       "    <tr>\n",
       "      <th>ultra</th>\n",
       "      <td>533.5</td>\n",
       "      <td>553.76</td>\n",
       "      <td>93752.96</td>\n",
       "      <td>306.19</td>\n",
       "    </tr>\n",
       "  </tbody>\n",
       "</table>\n",
       "</div>"
      ],
      "text/plain": [
       "             calls_median  calls_mean  calls_var  calls_std\n",
       "tariff_name                                                \n",
       "smart               439.5      436.22   26157.24     161.73\n",
       "ultra               533.5      553.76   93752.96     306.19"
      ]
     },
     "execution_count": 48,
     "metadata": {},
     "output_type": "execute_result"
    }
   ],
   "source": [
    "data_calls_stat = data_median.pivot_table(index='tariff_name', values='month_duration', aggfunc=['median','mean', 'var', 'std']) \n",
    "data_calls_stat.columns=['calls_median', 'calls_mean', 'calls_var', 'calls_std']\n",
    "data_calls_stat.round(2)"
   ]
  },
  {
   "cell_type": "code",
   "execution_count": 49,
   "metadata": {},
   "outputs": [
    {
     "data": {
      "application/vnd.jupyter.widget-view+json": {
       "model_id": "d1eeea41308d4516a1d35c0431e35725",
       "version_major": 2,
       "version_minor": 0
      },
      "text/plain": [
       "Button(button_style='info', description='Тариф', style=ButtonStyle())"
      ]
     },
     "metadata": {},
     "output_type": "display_data"
    }
   ],
   "source": [
    "display(button)"
   ]
  },
  {
   "cell_type": "markdown",
   "metadata": {},
   "source": [
    "Пользователи тарифа \"Смарт\", как правило, исчерпывающе расходуют пакет минут и нередко выходят за его рамки. В то время, как пользователи тарифа \"Ультра\", как правило, остаются в рамках положенных в тарифе объема минут и еще сохраняют довольно большой запас к концу расчетного периода. "
   ]
  },
  {
   "cell_type": "code",
   "execution_count": 50,
   "metadata": {},
   "outputs": [
    {
     "data": {
      "text/html": [
       "<div>\n",
       "<style scoped>\n",
       "    .dataframe tbody tr th:only-of-type {\n",
       "        vertical-align: middle;\n",
       "    }\n",
       "\n",
       "    .dataframe tbody tr th {\n",
       "        vertical-align: top;\n",
       "    }\n",
       "\n",
       "    .dataframe thead th {\n",
       "        text-align: right;\n",
       "    }\n",
       "</style>\n",
       "<table border=\"1\" class=\"dataframe\">\n",
       "  <thead>\n",
       "    <tr style=\"text-align: right;\">\n",
       "      <th></th>\n",
       "      <th>sms_median</th>\n",
       "      <th>sms_var</th>\n",
       "      <th>sms_std</th>\n",
       "    </tr>\n",
       "    <tr>\n",
       "      <th>tariff_name</th>\n",
       "      <th></th>\n",
       "      <th></th>\n",
       "      <th></th>\n",
       "    </tr>\n",
       "  </thead>\n",
       "  <tbody>\n",
       "    <tr>\n",
       "      <th>smart</th>\n",
       "      <td>28.5</td>\n",
       "      <td>785.60</td>\n",
       "      <td>28.03</td>\n",
       "    </tr>\n",
       "    <tr>\n",
       "      <th>ultra</th>\n",
       "      <td>47.5</td>\n",
       "      <td>2429.68</td>\n",
       "      <td>49.29</td>\n",
       "    </tr>\n",
       "  </tbody>\n",
       "</table>\n",
       "</div>"
      ],
      "text/plain": [
       "             sms_median  sms_var  sms_std\n",
       "tariff_name                              \n",
       "smart              28.5   785.60    28.03\n",
       "ultra              47.5  2429.68    49.29"
      ]
     },
     "execution_count": 50,
     "metadata": {},
     "output_type": "execute_result"
    }
   ],
   "source": [
    "data_sms_stat = data_median.pivot_table(index='tariff_name', values='month_sms', aggfunc=['median', 'var', 'std']) \n",
    "data_sms_stat.columns=['sms_median', 'sms_var', 'sms_std']\n",
    "data_sms_stat.round(2)"
   ]
  },
  {
   "cell_type": "code",
   "execution_count": 51,
   "metadata": {},
   "outputs": [
    {
     "data": {
      "application/vnd.jupyter.widget-view+json": {
       "model_id": "d1eeea41308d4516a1d35c0431e35725",
       "version_major": 2,
       "version_minor": 0
      },
      "text/plain": [
       "Button(button_style='info', description='Тариф', style=ButtonStyle())"
      ]
     },
     "metadata": {},
     "output_type": "display_data"
    }
   ],
   "source": [
    "display(button)"
   ]
  },
  {
   "cell_type": "markdown",
   "metadata": {},
   "source": [
    "Видим, что в среднем пользователи \"Смарт\" склонны незначительно превышать расход смс, включенных в ежемесячный пакет. Абоненты другого тарифа, хотя и отправляют сообщения в два раза чаще, тем не менее, оставляют неиспользованными почти 90% влюченных в тариф смс."
   ]
  },
  {
   "cell_type": "code",
   "execution_count": 52,
   "metadata": {},
   "outputs": [
    {
     "data": {
      "text/html": [
       "<div>\n",
       "<style scoped>\n",
       "    .dataframe tbody tr th:only-of-type {\n",
       "        vertical-align: middle;\n",
       "    }\n",
       "\n",
       "    .dataframe tbody tr th {\n",
       "        vertical-align: top;\n",
       "    }\n",
       "\n",
       "    .dataframe thead th {\n",
       "        text-align: right;\n",
       "    }\n",
       "</style>\n",
       "<table border=\"1\" class=\"dataframe\">\n",
       "  <thead>\n",
       "    <tr style=\"text-align: right;\">\n",
       "      <th></th>\n",
       "      <th>mb_median</th>\n",
       "      <th>mb_var</th>\n",
       "      <th>mb_std</th>\n",
       "    </tr>\n",
       "    <tr>\n",
       "      <th>tariff_name</th>\n",
       "      <th></th>\n",
       "      <th></th>\n",
       "      <th></th>\n",
       "    </tr>\n",
       "  </thead>\n",
       "  <tbody>\n",
       "    <tr>\n",
       "      <th>smart</th>\n",
       "      <td>16935.0</td>\n",
       "      <td>18227930.63</td>\n",
       "      <td>4269.42</td>\n",
       "    </tr>\n",
       "    <tr>\n",
       "      <th>ultra</th>\n",
       "      <td>19675.0</td>\n",
       "      <td>81467297.18</td>\n",
       "      <td>9025.92</td>\n",
       "    </tr>\n",
       "  </tbody>\n",
       "</table>\n",
       "</div>"
      ],
      "text/plain": [
       "             mb_median       mb_var   mb_std\n",
       "tariff_name                                 \n",
       "smart          16935.0  18227930.63  4269.42\n",
       "ultra          19675.0  81467297.18  9025.92"
      ]
     },
     "execution_count": 52,
     "metadata": {},
     "output_type": "execute_result"
    }
   ],
   "source": [
    "data_internet_stat = data_median.pivot_table(index='tariff_name', values='month_mb', aggfunc=['median', 'var', 'std']) \n",
    "data_internet_stat.columns=['mb_median', 'mb_var', 'mb_std']\n",
    "data_internet_stat.round(2)"
   ]
  },
  {
   "cell_type": "code",
   "execution_count": 53,
   "metadata": {},
   "outputs": [
    {
     "data": {
      "application/vnd.jupyter.widget-view+json": {
       "model_id": "d1eeea41308d4516a1d35c0431e35725",
       "version_major": 2,
       "version_minor": 0
      },
      "text/plain": [
       "Button(button_style='info', description='Тариф', style=ButtonStyle())"
      ]
     },
     "metadata": {},
     "output_type": "display_data"
    }
   ],
   "source": [
    "display(button)"
   ]
  },
  {
   "cell_type": "markdown",
   "metadata": {},
   "source": [
    "Абоненты \"Смарт\" в используют 16,5 ± 4 Гб, т.е. бывают случаи выхода за рамки включенного в тариф объема интернета. Пользователи тарифа \"Смарт\" отражают больший разброс значений: при использовании в среднем 19 ± 8,7 Гб интернета в месяц, таким образом, неисчерпывая ежемесячный трафик.  "
   ]
  },
  {
   "cell_type": "markdown",
   "metadata": {},
   "source": [
    "**[3] Гистограммы, графики и распределения.** <a id='hist_dist'></a> "
   ]
  },
  {
   "cell_type": "markdown",
   "metadata": {},
   "source": [
    "Построим гистограммы для каждой из услуг тарифных пакетов и опишем полученные распределения. Для проверки нормальности распределения дополнительно построим графики квантилей."
   ]
  },
  {
   "cell_type": "markdown",
   "metadata": {},
   "source": [
    "### Исследования длительности звонков"
   ]
  },
  {
   "cell_type": "code",
   "execution_count": 54,
   "metadata": {},
   "outputs": [],
   "source": [
    "smart_duration = data_median[data_median['tariff_name'] == 'smart']['month_duration'] #данные по тарифу смарт\n",
    "ultra_duration = data_median[data_median['tariff_name'] == 'ultra']['month_duration'] #данные по тарифу ультра"
   ]
  },
  {
   "cell_type": "code",
   "execution_count": 55,
   "metadata": {
    "scrolled": false
   },
   "outputs": [
    {
     "data": {
      "image/png": "[encoded data removed]",
      "text/plain": [
       "<Figure size 432x288 with 1 Axes>"
      ]
     },
     "metadata": {
      "needs_background": "light"
     },
     "output_type": "display_data"
    }
   ],
   "source": [
    "smart_duration.plot(kind='hist', grid=True, color='darkgreen', edgecolor='black')\n",
    "ultra_duration.plot(kind='hist', grid=True, color='gold', edgecolor='black', alpha=0.7)\n",
    "\n",
    "plt.axvline(smart_duration.mean(), color='green', alpha=0.8, linestyle='dashed')\n",
    "plt.axvline(ultra_duration.mean(), color='gold', alpha=0.8, linestyle='dashed')\n",
    "\n",
    "plt.title('Гистограмма распределения длительности звонков')\n",
    "plt.xlabel('Длительность звонков, мин')\n",
    "plt.ylabel('Частота')\n",
    "plt.legend(['Смарт', 'Ультра']);"
   ]
  },
  {
   "cell_type": "code",
   "execution_count": 56,
   "metadata": {},
   "outputs": [
    {
     "data": {
      "image/png": "[encoded data removed]",
      "text/plain": [
       "<Figure size 432x288 with 1 Axes>"
      ]
     },
     "metadata": {
      "needs_background": "light"
     },
     "output_type": "display_data"
    },
    {
     "data": {
      "image/png": "[encoded data removed]",
      "text/plain": [
       "<Figure size 432x288 with 1 Axes>"
      ]
     },
     "metadata": {
      "needs_background": "light"
     },
     "output_type": "display_data"
    }
   ],
   "source": [
    "# КК график с выборкой по числу длительности звонков\n",
    "\n",
    "sm.qqplot(data_median[data_median['tariff_name']=='smart']['month_duration'], line = 's',  alpha=0.3)\n",
    "plt.title('КК-тест длительности звонков. Тариф \"Смарт\"')\n",
    "plt.grid(True)\n",
    "\n",
    "sm.qqplot(data_median[data_median['tariff_name']=='ultra']['month_duration'], line = 's',  alpha=0.3)\n",
    "plt.title('КК-тест длительности звонков. Тариф \"Ультра\"')\n",
    "plt.grid(True);"
   ]
  },
  {
   "cell_type": "markdown",
   "metadata": {},
   "source": [
    "Распределение данных по двум тарифам отличается. Значения \"Смарта\" значительно больше тяготеет к нормальнумо, практически Пуассоновскому распределению. Разброс значений \"Ультра\" значительно шире.\n",
    "\n",
    "Как подтверждают графики квантилей, наши данные не имеют серьезных отклонений от теоретического нормального распределения."
   ]
  },
  {
   "cell_type": "markdown",
   "metadata": {},
   "source": [
    "### Исследования количества смс"
   ]
  },
  {
   "cell_type": "code",
   "execution_count": 57,
   "metadata": {},
   "outputs": [],
   "source": [
    "smart_sms = data_median[data_median['tariff_name'] == 'smart']['month_sms'] #данные по тарифу смарт\n",
    "ultra_sms = data_median[data_median['tariff_name'] == 'ultra']['month_sms'] #данные по тарифу ультра"
   ]
  },
  {
   "cell_type": "code",
   "execution_count": 58,
   "metadata": {},
   "outputs": [
    {
     "data": {
      "image/png": "[encoded data removed]",
      "text/plain": [
       "<Figure size 432x288 with 1 Axes>"
      ]
     },
     "metadata": {
      "needs_background": "light"
     },
     "output_type": "display_data"
    }
   ],
   "source": [
    "# гистограмма распределения количетсва смс\n",
    "\n",
    "smart_sms.plot(kind='hist', grid=True, color='darkgreen', edgecolor='black')\n",
    "ultra_sms.plot(kind='hist', grid=True, color='gold', edgecolor='black', alpha=0.7)\n",
    "\n",
    "plt.axvline(smart_sms.mean(), color='green', alpha=0.8, linestyle='dashed')\n",
    "plt.axvline(ultra_sms.mean(), color='gold', alpha=0.8, linestyle='dashed')\n",
    "\n",
    "plt.title('Гистограмма распределения количества смс')\n",
    "plt.xlabel('Число смс')\n",
    "plt.ylabel('Частота')\n",
    "plt.legend(['Смарт', 'Ультра']);"
   ]
  },
  {
   "cell_type": "markdown",
   "metadata": {},
   "source": [
    "Бросается в глаза огромное количество нулевых значений. Оба датасета сильно скошены вправо, т.е. имеют ярко выраженную положительную скошенностью. Распределение данных по двум тарифам отличается, что особенно заметно на данных \"Ультра\". Судя по всему, стремление к \"нормальности\" находится на полпути )). "
   ]
  },
  {
   "cell_type": "code",
   "execution_count": 59,
   "metadata": {},
   "outputs": [
    {
     "data": {
      "image/png": "[encoded data removed]",
      "text/plain": [
       "<Figure size 432x288 with 1 Axes>"
      ]
     },
     "metadata": {
      "needs_background": "light"
     },
     "output_type": "display_data"
    },
    {
     "data": {
      "image/png": "[encoded data removed]",
      "text/plain": [
       "<Figure size 432x288 with 1 Axes>"
      ]
     },
     "metadata": {
      "needs_background": "light"
     },
     "output_type": "display_data"
    }
   ],
   "source": [
    "# КК график с выборкой по числу смс\n",
    "\n",
    "sm.qqplot(data_median[data_median['tariff_name']=='smart']['month_sms'], line = 's',  alpha=0.3)\n",
    "plt.title('КК-тест количества смс. Тариф \"Смарт\"')\n",
    "plt.grid(True)\n",
    "\n",
    "sm.qqplot(data_median[data_median['tariff_name']=='ultra']['month_sms'], line = 's',  alpha=0.3)\n",
    "plt.title('КК-тест количества смс. Тариф \"Ультра\"')\n",
    "plt.grid(True);"
   ]
  },
  {
   "cell_type": "markdown",
   "metadata": {},
   "source": [
    "График вторит гистограмме - нормальным это распределение назвать сложно, отклонения слева - наши бесчисленные нули. Некоторая доля выбросов у правого хвоста."
   ]
  },
  {
   "cell_type": "markdown",
   "metadata": {},
   "source": [
    "### Исследования трафика"
   ]
  },
  {
   "cell_type": "code",
   "execution_count": 60,
   "metadata": {},
   "outputs": [],
   "source": [
    "smart_mb = data_median[data_median['tariff_name'] == 'smart']['month_mb'] #данные по тарифу смарт\n",
    "ultra_mb = data_median[data_median['tariff_name'] == 'ultra']['month_mb'] #данные по тарифу ультра"
   ]
  },
  {
   "cell_type": "code",
   "execution_count": 61,
   "metadata": {},
   "outputs": [
    {
     "data": {
      "image/png": "[encoded data removed]",
      "text/plain": [
       "<Figure size 432x288 with 1 Axes>"
      ]
     },
     "metadata": {
      "needs_background": "light"
     },
     "output_type": "display_data"
    }
   ],
   "source": [
    "# гистограмма распределения объема интернета\n",
    "\n",
    "smart_mb.plot(kind='hist', grid=True, color='darkgreen', edgecolor='black')\n",
    "ultra_mb.plot(kind='hist', grid=True, color='gold',edgecolor='black', alpha=0.7)\n",
    "\n",
    "plt.axvline(smart_mb.mean(), color='green', alpha=0.8, linestyle='dashed')\n",
    "plt.axvline(ultra_mb.mean(), color='gold', alpha=0.8, linestyle='dashed')\n",
    "\n",
    "plt.title('Гистограмма распределения объема интернета')\n",
    "plt.xlabel('Объем трафика')\n",
    "plt.ylabel('Частота')\n",
    "plt.legend(['Смарт', 'Ультра']);"
   ]
  },
  {
   "cell_type": "markdown",
   "metadata": {},
   "source": [
    "С интернетом ситуация напоминает минуты звонков: данные \"Смарт\" - почти что \"колокол\", \"Ультра\" к этому тяготеет, но и разброс шире и мода выражена хуже. "
   ]
  },
  {
   "cell_type": "code",
   "execution_count": 62,
   "metadata": {},
   "outputs": [
    {
     "data": {
      "image/png": "[encoded data removed]",
      "text/plain": [
       "<Figure size 432x288 with 1 Axes>"
      ]
     },
     "metadata": {
      "needs_background": "light"
     },
     "output_type": "display_data"
    },
    {
     "data": {
      "image/png": "[encoded data removed]",
      "text/plain": [
       "<Figure size 432x288 with 1 Axes>"
      ]
     },
     "metadata": {
      "needs_background": "light"
     },
     "output_type": "display_data"
    }
   ],
   "source": [
    "# КК график с выборкой по объему интернета\n",
    "\n",
    "sm.qqplot(data_median[data_median['tariff_name']=='smart']['month_mb'], line = 's',  alpha=0.3)\n",
    "plt.title('КК-тест интернет-трафика. Тариф \"Смарт\"')\n",
    "plt.grid(True)\n",
    "\n",
    "sm.qqplot(data_median[data_median['tariff_name']=='ultra']['month_mb'], line = 's',  alpha=0.3)\n",
    "plt.title('КК-тест интернет-трафика. Тариф \"Ультра\"')\n",
    "plt.grid(True);"
   ]
  },
  {
   "cell_type": "markdown",
   "metadata": {},
   "source": [
    "Графики квантилей позволяют утверждать, что данные имеют нормальное распределение, хотя и заметны выбросы. Куда же без них."
   ]
  },
  {
   "cell_type": "markdown",
   "metadata": {},
   "source": [
    "Подведем итог.\n",
    "\n",
    "Визуазилация данных подтвердила значения дисперсии и среднего отклонения: дисперсия на \"Смарт\" заметно меньше, чем у абонентов \"Ультра\", что особенно видно по звонкам и интернету. В свою очередь, смс оказались наименее востребованным способом общения - весомая часть собрана вначале гистограммы - нулевое и околонулевое распределение. \n",
    "\n",
    "Графики в основном отражают приближение данных к нормальному распределению для звонков и интернета, но не для смс. "
   ]
  },
  {
   "cell_type": "markdown",
   "metadata": {},
   "source": [
    "Дополнительно посмотрим, сколько пользователей выходят за рамки свомх тарифов:"
   ]
  },
  {
   "cell_type": "code",
   "execution_count": 63,
   "metadata": {},
   "outputs": [
    {
     "data": {
      "text/plain": [
       "423"
      ]
     },
     "execution_count": 63,
     "metadata": {},
     "output_type": "execute_result"
    }
   ],
   "source": [
    "# общее число внепакетных переплат для тарифа \"Смарт\"\n",
    "\n",
    "smart = len(data_median.query('month_duration > 500 or month_sms > 50 or month_mb > 15360'))\n",
    "smart"
   ]
  },
  {
   "cell_type": "code",
   "execution_count": 64,
   "metadata": {},
   "outputs": [
    {
     "data": {
      "text/plain": [
       "20"
      ]
     },
     "execution_count": 64,
     "metadata": {},
     "output_type": "execute_result"
    }
   ],
   "source": [
    "# общее число внепакетных переплат для тарифа \"Смарт\"\n",
    "\n",
    "ultra = len(data_median.query('month_duration > 3000 or month_sms > 1000 or month_mb > 30720'))\n",
    "ultra"
   ]
  },
  {
   "cell_type": "code",
   "execution_count": 65,
   "metadata": {},
   "outputs": [
    {
     "data": {
      "application/vnd.jupyter.widget-view+json": {
       "model_id": "d1eeea41308d4516a1d35c0431e35725",
       "version_major": 2,
       "version_minor": 0
      },
      "text/plain": [
       "Button(button_style='info', description='Тариф', style=ButtonStyle())"
      ]
     },
     "metadata": {},
     "output_type": "display_data"
    }
   ],
   "source": [
    "display(button)"
   ]
  },
  {
   "cell_type": "markdown",
   "metadata": {},
   "source": [
    "418 из 500 пользователям \"Смарт\" в том или ином месяце не хватало минут, смс или интернета, включенных в тарифный план. В сравнении: только 20 абонетов \"Ультра\" превысили один из параметров тарифа."
   ]
  },
  {
   "cell_type": "markdown",
   "metadata": {},
   "source": [
    "# Вывод"
   ]
  },
  {
   "cell_type": "markdown",
   "metadata": {},
   "source": [
    "**Визуализация**:\n",
    "\n",
    "Гистограммы и КК-графики показали, что звонки и интернет не имеют серьезных отклонений от теоретического нормального распределения и стремяться к нему. А вот область смс-значений имеет ярко выраженную положительную ассиметрию и распределение выглядит ненормальным.  \n",
    "\n",
    "Что касается дисперсии, то она заметна шире у тарифа \"Ультра\" по всем услугам пакета: звонкам, смс и интернету. \n",
    "\n",
    "\n",
    "**Характеристика пользователей:**\n",
    "\n",
    "Полученные результаты показывают, что абоненты \"Смарт\" хотя и стремятся не выходить за рамки объема минут, смс и интернет-трафика, включенных в тариф, очень часто превышают лимит, и это заставляет их вносить дополнительную плату. \n",
    "\n",
    "Абоненты более дорогого тарифа \"Ультра\", напротив, не только не ужимают себя, но и часто не расходуют всего положенного объема к концу расчетного периода."
   ]
  },
  {
   "cell_type": "markdown",
   "metadata": {},
   "source": [
    "## Проверка гипотез <a id='hypothesis_testing'></a>"
   ]
  },
  {
   "cell_type": "markdown",
   "metadata": {},
   "source": [
    "В рамках данного проекта нам необходимо выяснить:\n",
    "\n",
    "1. Есть ли зависимость между тарифом и средней выручкой;\n",
    "2. Если ли зависимость между тарифом и городом абонента."
   ]
  },
  {
   "cell_type": "markdown",
   "metadata": {},
   "source": [
    "Имея две выборки с данными, стремящимися к нормальному распределению , мы можем выяснить, является ли разница между этими выборками случайной или нет. Для этого будем использовать статистический критерий Стьюдента. "
   ]
  },
  {
   "cell_type": "markdown",
   "metadata": {},
   "source": [
    "**Гипотеза 1** - Средняя выручка пользователей тарифов «Ультра» и «Смарт» различается. <a id='hypothesis_1'></a>"
   ]
  },
  {
   "cell_type": "markdown",
   "metadata": {},
   "source": [
    "Посмотрим на дисперсию и стандартное отклонение обеих выборок:"
   ]
  },
  {
   "cell_type": "code",
   "execution_count": 66,
   "metadata": {},
   "outputs": [
    {
     "data": {
      "text/html": [
       "<div>\n",
       "<style scoped>\n",
       "    .dataframe tbody tr th:only-of-type {\n",
       "        vertical-align: middle;\n",
       "    }\n",
       "\n",
       "    .dataframe tbody tr th {\n",
       "        vertical-align: top;\n",
       "    }\n",
       "\n",
       "    .dataframe thead th {\n",
       "        text-align: right;\n",
       "    }\n",
       "</style>\n",
       "<table border=\"1\" class=\"dataframe\">\n",
       "  <thead>\n",
       "    <tr style=\"text-align: right;\">\n",
       "      <th></th>\n",
       "      <th>revenue</th>\n",
       "    </tr>\n",
       "    <tr>\n",
       "      <th>tariff_name</th>\n",
       "      <th></th>\n",
       "    </tr>\n",
       "  </thead>\n",
       "  <tbody>\n",
       "    <tr>\n",
       "      <th>smart</th>\n",
       "      <td>620389.0</td>\n",
       "    </tr>\n",
       "    <tr>\n",
       "      <th>ultra</th>\n",
       "      <td>126827.0</td>\n",
       "    </tr>\n",
       "  </tbody>\n",
       "</table>\n",
       "</div>"
      ],
      "text/plain": [
       "              revenue\n",
       "tariff_name          \n",
       "smart        620389.0\n",
       "ultra        126827.0"
      ]
     },
     "execution_count": 66,
     "metadata": {},
     "output_type": "execute_result"
    }
   ],
   "source": [
    "data_tariff_var = round(data_month.pivot_table(index='tariff_name', values=['revenue'], aggfunc='var'))\n",
    "data_tariff_var"
   ]
  },
  {
   "cell_type": "markdown",
   "metadata": {},
   "source": [
    "Дисперсии значительно отличаются, что необходимо учесть в проводимом тесте."
   ]
  },
  {
   "cell_type": "markdown",
   "metadata": {},
   "source": [
    "Предположем наиболее очевидный вариант, что тариф влияет на сумму выручки и, следовательно, средняя выручка на разных тарифах различается. \n",
    "\n",
    "Для проверки используем H₀ - нулевую гипотезу для средних данных - *гипотеза равенства*. \n",
    "\n",
    "*Альтернативная гипотеза,* H₁, должна подтвердить или опровергнуть факт влияние тарифа на выручку."
   ]
  },
  {
   "cell_type": "markdown",
   "metadata": {},
   "source": [
    "H₀  — средняя выручка пользователей тарифа \"Смарт\" и \"Ультра\" равны; \n",
    "\n",
    "H₁ — средняя выручка пользователей тарифов \"Смарт\" и \"Ультра\" различаются.\n",
    "\n",
    "Для проверки гипотезы используем метод ttest_ind из пакета scipy.stats.\n",
    "Уровень значимости устновим α=5%. Из-за различий в дисперсиях установим параметр equal_var=False (случай t-теста Уэлча)."
   ]
  },
  {
   "cell_type": "code",
   "execution_count": 67,
   "metadata": {},
   "outputs": [
    {
     "name": "stdout",
     "output_type": "stream",
     "text": [
      "p-значение: 3.657624008634559e-296\n",
      "Отвергаем нулевую гипотезу\n"
     ]
    }
   ],
   "source": [
    "smart = data_month.query('tariff_name == \"smart\"')['revenue']\n",
    "ultra = data_month.query('tariff_name == \"ultra\"')['revenue']\n",
    "\n",
    "alpha = .05\n",
    "\n",
    "results = st.ttest_ind(\n",
    "    smart,\n",
    "    ultra,\n",
    "    equal_var=False)\n",
    "     \n",
    "    \n",
    "\n",
    "print('p-значение:', results.pvalue)\n",
    "\n",
    "if (results.pvalue < alpha):\n",
    "    print(\"Отвергаем нулевую гипотезу\")\n",
    "else:\n",
    "    print(\"Не получилось отвергнуть нулевую гипотезу\")"
   ]
  },
  {
   "cell_type": "markdown",
   "metadata": {},
   "source": [
    "Результат с практически 100% уверенностью позволил нам отвергнуть нулевую гипотезу. "
   ]
  },
  {
   "cell_type": "markdown",
   "metadata": {},
   "source": [
    "Посмотрим на различия в средней выручке и переплате по тарифу:"
   ]
  },
  {
   "cell_type": "code",
   "execution_count": 68,
   "metadata": {},
   "outputs": [
    {
     "data": {
      "text/html": [
       "<div>\n",
       "<style scoped>\n",
       "    .dataframe tbody tr th:only-of-type {\n",
       "        vertical-align: middle;\n",
       "    }\n",
       "\n",
       "    .dataframe tbody tr th {\n",
       "        vertical-align: top;\n",
       "    }\n",
       "\n",
       "    .dataframe thead tr th {\n",
       "        text-align: left;\n",
       "    }\n",
       "\n",
       "    .dataframe thead tr:last-of-type th {\n",
       "        text-align: right;\n",
       "    }\n",
       "</style>\n",
       "<table border=\"1\" class=\"dataframe\">\n",
       "  <thead>\n",
       "    <tr>\n",
       "      <th></th>\n",
       "      <th colspan=\"2\" halign=\"left\">sum</th>\n",
       "      <th colspan=\"2\" halign=\"left\">median</th>\n",
       "    </tr>\n",
       "    <tr>\n",
       "      <th></th>\n",
       "      <th>overpaiment</th>\n",
       "      <th>revenue</th>\n",
       "      <th>overpaiment</th>\n",
       "      <th>revenue</th>\n",
       "    </tr>\n",
       "    <tr>\n",
       "      <th>tariff_name</th>\n",
       "      <th></th>\n",
       "      <th></th>\n",
       "      <th></th>\n",
       "      <th></th>\n",
       "    </tr>\n",
       "  </thead>\n",
       "  <tbody>\n",
       "    <tr>\n",
       "      <th>smart</th>\n",
       "      <td>1523199.0</td>\n",
       "      <td>2749699.0</td>\n",
       "      <td>409.5</td>\n",
       "      <td>959.5</td>\n",
       "    </tr>\n",
       "    <tr>\n",
       "      <th>ultra</th>\n",
       "      <td>108872.0</td>\n",
       "      <td>2031572.0</td>\n",
       "      <td>0.0</td>\n",
       "      <td>1950.0</td>\n",
       "    </tr>\n",
       "  </tbody>\n",
       "</table>\n",
       "</div>"
      ],
      "text/plain": [
       "                    sum                 median        \n",
       "            overpaiment    revenue overpaiment revenue\n",
       "tariff_name                                           \n",
       "smart         1523199.0  2749699.0       409.5   959.5\n",
       "ultra          108872.0  2031572.0         0.0  1950.0"
      ]
     },
     "execution_count": 68,
     "metadata": {},
     "output_type": "execute_result"
    }
   ],
   "source": [
    "data_month.pivot_table(index='tariff_name', values=['overpaiment','revenue'], aggfunc=['sum','median'])"
   ]
  },
  {
   "cell_type": "markdown",
   "metadata": {},
   "source": [
    "Проведенный статистический анализ позволил опровергнуть нулевую гипотезу, что подтверждает зависимость средней выручки от тарифа. И мы видим, что средние значения выручки по тарифам различаются более, чем в 2 раза. Тариф \"Ультра\" в среднем приносить 1950 руб в месяц от каждого пользователя. Тариф \"Смарт\" приносит в среднем выручку в 960 руб в ежемесячно."
   ]
  },
  {
   "cell_type": "markdown",
   "metadata": {},
   "source": [
    "Перейдем ко второй гипотезе:"
   ]
  },
  {
   "cell_type": "markdown",
   "metadata": {},
   "source": [
    "**Гипотеза 2** - Средняя выручка пользователей из Москвы отличается от выручки пользователей из других регионов. <a id='hypothesis_2'></a>"
   ]
  },
  {
   "cell_type": "markdown",
   "metadata": {},
   "source": [
    "Для проведения данного статистического анализа добавим столбец *'city'* к имеющейся таблице:"
   ]
  },
  {
   "cell_type": "code",
   "execution_count": 69,
   "metadata": {},
   "outputs": [],
   "source": [
    "data_month = data_month.merge(users[['user_id', 'city']], on='user_id', how='left')"
   ]
  },
  {
   "cell_type": "markdown",
   "metadata": {},
   "source": [
    "Теперь категоризируем города по группам: \"Москва\", \"Другой регион\":"
   ]
  },
  {
   "cell_type": "code",
   "execution_count": 70,
   "metadata": {},
   "outputs": [],
   "source": [
    "# функция для формирование двух основных категорий регионов\n",
    "\n",
    "def det_region(city):\n",
    "    if city == 'Москва': \n",
    "        return 'Москва'\n",
    "    else: \n",
    "        return 'Другой регион'"
   ]
  },
  {
   "cell_type": "code",
   "execution_count": 71,
   "metadata": {},
   "outputs": [],
   "source": [
    "# формирование нового столбца 'region' с сгруппированными данными\n",
    "\n",
    "data_month['region'] = data_month['city'].apply(det_region) "
   ]
  },
  {
   "cell_type": "markdown",
   "metadata": {},
   "source": [
    "Теперь посмотрим, каковы различия в дисперсиях:"
   ]
  },
  {
   "cell_type": "code",
   "execution_count": 72,
   "metadata": {},
   "outputs": [
    {
     "data": {
      "text/html": [
       "<div>\n",
       "<style scoped>\n",
       "    .dataframe tbody tr th:only-of-type {\n",
       "        vertical-align: middle;\n",
       "    }\n",
       "\n",
       "    .dataframe tbody tr th {\n",
       "        vertical-align: top;\n",
       "    }\n",
       "\n",
       "    .dataframe thead th {\n",
       "        text-align: right;\n",
       "    }\n",
       "</style>\n",
       "<table border=\"1\" class=\"dataframe\">\n",
       "  <thead>\n",
       "    <tr style=\"text-align: right;\">\n",
       "      <th></th>\n",
       "      <th>revenue</th>\n",
       "    </tr>\n",
       "    <tr>\n",
       "      <th>region</th>\n",
       "      <th></th>\n",
       "    </tr>\n",
       "  </thead>\n",
       "  <tbody>\n",
       "    <tr>\n",
       "      <th>Другой регион</th>\n",
       "      <td>630435.0</td>\n",
       "    </tr>\n",
       "    <tr>\n",
       "      <th>Москва</th>\n",
       "      <td>547245.0</td>\n",
       "    </tr>\n",
       "  </tbody>\n",
       "</table>\n",
       "</div>"
      ],
      "text/plain": [
       "                revenue\n",
       "region                 \n",
       "Другой регион  630435.0\n",
       "Москва         547245.0"
      ]
     },
     "execution_count": 72,
     "metadata": {},
     "output_type": "execute_result"
    }
   ],
   "source": [
    "data_region_var = round(data_month.pivot_table(index='region', values='revenue', aggfunc='var'))\n",
    "data_region_var"
   ]
  },
  {
   "cell_type": "markdown",
   "metadata": {},
   "source": [
    "Различия в данные не столь велики, как в выборкам по тарифам, но все же значимы. "
   ]
  },
  {
   "cell_type": "markdown",
   "metadata": {},
   "source": [
    "Перейдем к формулировке и проверке гипотез."
   ]
  },
  {
   "cell_type": "markdown",
   "metadata": {},
   "source": [
    "H₀  — средняя выручка пользователей из Москвы и других регионов равны.\n",
    "\n",
    "H₁ — средняя выручка пользователей из Москвы других регионов различны. \n",
    "\n",
    "α=5%\n",
    "\n",
    "equal_var=False"
   ]
  },
  {
   "cell_type": "code",
   "execution_count": 73,
   "metadata": {},
   "outputs": [
    {
     "name": "stdout",
     "output_type": "stream",
     "text": [
      "p-значение: 0.4516693741165556\n",
      "Не получилось отвергнуть нулевую гипотезу\n"
     ]
    }
   ],
   "source": [
    "# Проверка гипотезы о зависимости средней выручки от города использования тарифа \n",
    "\n",
    "moscow = data_month.query('region == \"Москва\"')['revenue']\n",
    "others = data_month.query('region != \"Москва\"')['revenue']\n",
    "\n",
    "alpha = .05\n",
    "\n",
    "results = st.ttest_ind(\n",
    "    moscow, \n",
    "    others,\n",
    "    equal_var=False)\n",
    "        \n",
    "   \n",
    "print('p-значение:', results.pvalue)\n",
    "\n",
    "if (results.pvalue < alpha):\n",
    "    print(\"Отвергаем нулевую гипотезу\")\n",
    "else:\n",
    "    print(\"Не получилось отвергнуть нулевую гипотезу\")"
   ]
  },
  {
   "cell_type": "markdown",
   "metadata": {},
   "source": [
    "Как видим средняя выручка от трат на сотовую связь москвичей практически не отличаются от других населенных пунктов. Утверждай мы обратное, мы бы ошиблись с вероятностью 45%."
   ]
  },
  {
   "cell_type": "markdown",
   "metadata": {},
   "source": [
    "Посмотрим различия в средней переплате и выручке в зависимости от региона:"
   ]
  },
  {
   "cell_type": "code",
   "execution_count": 74,
   "metadata": {},
   "outputs": [
    {
     "data": {
      "text/html": [
       "<div>\n",
       "<style scoped>\n",
       "    .dataframe tbody tr th:only-of-type {\n",
       "        vertical-align: middle;\n",
       "    }\n",
       "\n",
       "    .dataframe tbody tr th {\n",
       "        vertical-align: top;\n",
       "    }\n",
       "\n",
       "    .dataframe thead tr th {\n",
       "        text-align: left;\n",
       "    }\n",
       "\n",
       "    .dataframe thead tr:last-of-type th {\n",
       "        text-align: right;\n",
       "    }\n",
       "</style>\n",
       "<table border=\"1\" class=\"dataframe\">\n",
       "  <thead>\n",
       "    <tr>\n",
       "      <th></th>\n",
       "      <th colspan=\"2\" halign=\"left\">sum</th>\n",
       "      <th colspan=\"2\" halign=\"left\">median</th>\n",
       "    </tr>\n",
       "    <tr>\n",
       "      <th></th>\n",
       "      <th>overpaiment</th>\n",
       "      <th>revenue</th>\n",
       "      <th>overpaiment</th>\n",
       "      <th>revenue</th>\n",
       "    </tr>\n",
       "    <tr>\n",
       "      <th>region</th>\n",
       "      <th></th>\n",
       "      <th></th>\n",
       "      <th></th>\n",
       "      <th></th>\n",
       "    </tr>\n",
       "  </thead>\n",
       "  <tbody>\n",
       "    <tr>\n",
       "      <th>Другой регион</th>\n",
       "      <td>1362170.0</td>\n",
       "      <td>3860320.0</td>\n",
       "      <td>123.0</td>\n",
       "      <td>1518.0</td>\n",
       "    </tr>\n",
       "    <tr>\n",
       "      <th>Москва</th>\n",
       "      <td>269901.0</td>\n",
       "      <td>920951.0</td>\n",
       "      <td>49.0</td>\n",
       "      <td>1705.0</td>\n",
       "    </tr>\n",
       "  </tbody>\n",
       "</table>\n",
       "</div>"
      ],
      "text/plain": [
       "                      sum                 median        \n",
       "              overpaiment    revenue overpaiment revenue\n",
       "region                                                  \n",
       "Другой регион   1362170.0  3860320.0       123.0  1518.0\n",
       "Москва           269901.0   920951.0        49.0  1705.0"
      ]
     },
     "execution_count": 74,
     "metadata": {},
     "output_type": "execute_result"
    }
   ],
   "source": [
    "data_month.pivot_table(index='region', values=['overpaiment', 'revenue'], aggfunc=['sum','median'])"
   ]
  },
  {
   "cell_type": "markdown",
   "metadata": {},
   "source": [
    "Действительно, различия в среднем значение выручки невелики. Поэтому выдвинутая изначально гипотеза о том, что Москва приносит Мегалайну больший доход, неверна. Каждый из абонентов Москвы в среднем  приносить 1705 руб дохода в месяц. Средняя выручка из других регионов составляет 1518 руб с одного клиента. Хотя отметим, что из предоставленной Мегалайн информации о 500 абонентах, только 99 являются Москвичами, 401 - живут в других регионах. И, как видим, это отразилось на общем доходе за 2018 год."
   ]
  },
  {
   "cell_type": "markdown",
   "metadata": {},
   "source": [
    "# Вывод <a id='summary_4'></a>"
   ]
  },
  {
   "cell_type": "markdown",
   "metadata": {},
   "source": [
    "Мы выдвинуди две гипотезы: о влиянии тарифа и региона на доход Мегалайна. Первая гипотеза подтверлилась - тариф \"Ультра\" с большей абоненской платой и значительно большим объемом услуг приносит в среднем и больше ежемесячного дохода. \n",
    "\n",
    "Вторая гипотеза не подтвердилась. Явной зависимсти средней выручки от региона нет."
   ]
  },
  {
   "cell_type": "markdown",
   "metadata": {},
   "source": [
    "## Общий вывод <a id='conslusion'></a>"
   ]
  },
  {
   "cell_type": "markdown",
   "metadata": {},
   "source": [
    "После проведенного исследования мы можем сделать следующие выводы:\n",
    "\n",
    "[1] Средний ежемесячный доход Мегалайн от тарифа \"Ультра\" в два раза больше, чем от тарифа \"Смарт\".В среднем «Мегалайн» получает ежемесячно 960 руб от одного абонента \"Смарт\" и 1950 руб от \"Ультра\" - разница значительна - 990 руб. При этом доход от \"Ультра\" в основном формируется благодаря абонентской плате. В то время, как выручка от тарифа \"Смарт\" основана практически в равной мере на абонентской плате (46% выручки) и переплатах сверх объема предоставленных услуг (54% выручки). "
   ]
  },
  {
   "cell_type": "markdown",
   "metadata": {},
   "source": [
    "[2] Мегалайн получает в среднем примерно равный доход от пользователей Москвы и других регионов: 1705 руб от пользователя Москвы и 1518 руб от каждого из абонентов других регионов - разница незначительная 187 руб. Несмотря на это, из имеющейся у нас выборки 99 из 500 клиентов относятся к столичному региону. И, если количество абонентов в Москве увеличится, то и вероятность более высокой выручки от жителей столицы может возрасти. "
   ]
  },
  {
   "cell_type": "markdown",
   "metadata": {},
   "source": [
    "[3] Из 500 клиентов Мегалайн 341 подключены к \"Смарт\" и 149 к \"Ультра\". Абонентам \"Смарт\" часто не хватает включенного в тариф объема услуг и, они вынуждены переплачивать за дополнительные минуты, смс или интернет. В то время, как в тарифе \"Ультра\" остается большое количество неизрасходованного пакета. Мегалайну имеет смысл откорректировать тарифы, увеличив пакет услуг тарифа \"Смарт\", чтобы не упустить оттока клиентов, не готовых платить 1950 в месяц за сотовую связь. Вместе с тем, надо сократить пакет услуг в тарифе \"Ультра\", чтобы не тратить впустую большой объем включенных услуг и не терять вероятностный доход. "
   ]
  },
  {
   "cell_type": "markdown",
   "metadata": {},
   "source": [
    "В заключении ответим на главный вопрос: какой из тарифов лучше? \n",
    "\n",
    "С точки зрения дохода для компании выгоднее оказался тариф \"Ультра\". И все же, если посмотреть на общую сумму выручки за 2018 год, тариф \"Смарт\" принес Мегалайну 2749699 руб, \"Ультра\" - 2031572 руб. Разница составляет более 30%\n",
    "\n",
    "В свою очередь для абонентов оба тарифа в различной степени не соответствует среднему потреблению: \"Смарт\" выглядит несколько тесным и в большей мере это касается интернета, в меньшей - смс. Тариф \"Ультра\" смотрится чересчур просторным, в особенности это касается количества смс, интернетом абонентны \"Ультра\" пользуется чаще."
   ]
  }
 ],
 "metadata": {
  "kernelspec": {
   "display_name": "Python 3 (ipykernel)",
   "language": "python",
   "name": "python3"
  },
  "language_info": {
   "codemirror_mode": {
    "name": "ipython",
    "version": 3
   },
   "file_extension": ".py",
   "mimetype": "text/x-python",
   "name": "python",
   "nbconvert_exporter": "python",
   "pygments_lexer": "ipython3",
   "version": "3.9.7"
  },
  "toc": {
   "base_numbering": 1,
   "nav_menu": {},
   "number_sections": true,
   "sideBar": true,
   "skip_h1_title": true,
   "title_cell": "Table of Contents",
   "title_sidebar": "Contents",
   "toc_cell": false,
   "toc_position": {},
   "toc_section_display": true,
   "toc_window_display": false
  }
 },
 "nbformat": 4,
 "nbformat_minor": 2
}
