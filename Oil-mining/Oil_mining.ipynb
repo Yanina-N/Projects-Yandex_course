{
 "cells": [
  {
   "cell_type": "markdown",
   "metadata": {},
   "source": [
    "# Выбор локации для скважины"
   ]
  },
  {
   "cell_type": "markdown",
   "metadata": {},
   "source": [
    "Допустим, мы работаем в добывающей компании «ГлавРосГосНефть». Нужно решить, где бурить новую скважину.\n",
    "\n",
    "Нам предоставлены пробы нефти в трёх регионах: в каждом 10 000 месторождений, где измерили качество нефти и объём её запасов. Необходимо построить модель машинного обучения, которая поможет определить регион, где добыча принесёт наибольшую прибыль. Проанализируем возможную прибыль и риски техникой *Bootstrap.*\n",
    "\n",
    "Шаги для выбора локации:\n",
    "\n",
    "- В избранном регионе ищут месторождения, для каждого определяют значения признаков;\n",
    "- Строят модель и оценивают объём запасов;\n",
    "- Выбирают месторождения с самым высокими оценками значений. Количество месторождений зависит от бюджета компании и стоимости разработки одной скважины;\n",
    "- Прибыль равна суммарной прибыли отобранных месторождений."
   ]
  },
  {
   "cell_type": "markdown",
   "metadata": {},
   "source": [
    "# Описание данных"
   ]
  },
  {
   "cell_type": "markdown",
   "metadata": {},
   "source": [
    "Данные геологоразведки трёх регионов находятся в файлах:\n",
    "\n",
    "* geo_data_0.csv. Скачать датасет: https://code.s3.yandex.net/datasets/geo_data_0.csv\n",
    "* geo_data_1.csv. Скачать датасет: https://code.s3.yandex.net/datasets/geo_data_1.csv\n",
    "* geo_data_2.csv. Скачать датасет: https://code.s3.yandex.net/datasets/geo_data_2.csv"
   ]
  },
  {
   "cell_type": "markdown",
   "metadata": {},
   "source": [
    "**Данные таблицы**: \n",
    "\n",
    "1. **id** — уникальный идентификатор скважины.\n",
    "\n",
    "2. **f0, f1, f2** — три признака точек (неважно, что они означают, но сами признаки значимы).\n",
    "\n",
    "3. **product** — объём запасов в скважине (тыс. баррелей)."
   ]
  },
  {
   "cell_type": "markdown",
   "metadata": {},
   "source": [
    "**Условия задачи:**\n",
    "\n",
    "Для обучения модели подходит только линейная регрессия (остальные — недостаточно предсказуемые).\n",
    "\n",
    "* При разведке региона исследуют 500 точек, из которых выбирают 200 лучших для расчёта прибыли.\n",
    "\n",
    "* Бюджет на разработку скважин в регионе — 10 млрд рублей.\n",
    "\n",
    "* Один баррель сырья приносит 450 рублей дохода. Доход с каждой единицы продукта составляет 450 тыс. рублей, поскольку объём указан в тысячах баррелей.\n",
    "\n",
    "* После оценки рисков нужно оставить лишь те регионы, в которых вероятность убытков меньше 2.5%. Среди них выбирают регион с наибольшей средней прибылью.\n",
    "\n",
    "Данные синтетические: детали контрактов и характеристики месторождений не разглашаются."
   ]
  },
  {
   "cell_type": "markdown",
   "metadata": {},
   "source": [
    "## Загрузка и подготовка данных"
   ]
  },
  {
   "cell_type": "markdown",
   "metadata": {},
   "source": [
    "### Открытие и изучение файлов"
   ]
  },
  {
   "cell_type": "markdown",
   "metadata": {},
   "source": [
    "Импортируем требуемые библиотеки:"
   ]
  },
  {
   "cell_type": "code",
   "execution_count": 1,
   "metadata": {},
   "outputs": [],
   "source": [
    "import pandas as pd\n",
    "import numpy as np\n",
    "\n",
    "from sklearn.model_selection import train_test_split\n",
    "from sklearn.linear_model import LinearRegression\n",
    "from sklearn.metrics import mean_squared_error, r2_score, mean_absolute_error\n",
    "\n",
    "import matplotlib.pyplot as plt\n",
    "import seaborn as sns\n",
    "sns.set_style('darkgrid')"
   ]
  },
  {
   "cell_type": "markdown",
   "metadata": {},
   "source": [
    "Прочитаем файлы и сохраним датасеты в переменных *geo_data_0*, *geo_data_1*, *geo_data_2*:"
   ]
  },
  {
   "cell_type": "code",
   "execution_count": 2,
   "metadata": {},
   "outputs": [],
   "source": [
    "geo_data_0 = pd.read_csv('/datasets/geo_data_0.csv')\n",
    "geo_data_1 = pd.read_csv('/datasets/geo_data_1.csv') \n",
    "geo_data_2 = pd.read_csv('/datasets/geo_data_2.csv')"
   ]
  },
  {
   "cell_type": "markdown",
   "metadata": {},
   "source": [
    "Посмотрим на таблицы:"
   ]
  },
  {
   "cell_type": "code",
   "execution_count": 3,
   "metadata": {},
   "outputs": [
    {
     "name": "stdout",
     "output_type": "stream",
     "text": [
      "      id        f0        f1        f2     product\n",
      "0  txEyH  0.705745 -0.497823  1.221170  105.280062\n",
      "1  2acmU  1.334711 -0.340164  4.365080   73.037750\n",
      "2  409Wp  1.022732  0.151990  1.419926   85.265647\n",
      "3  iJLyR -0.032172  0.139033  2.978566  168.620776\n",
      "4  Xdl7t  1.988431  0.155413  4.751769  154.036647\n",
      "--------------------------------------------------\n",
      "      id         f0         f1        f2     product\n",
      "0  kBEdx -15.001348  -8.276000 -0.005876    3.179103\n",
      "1  62mP7  14.272088  -3.475083  0.999183   26.953261\n",
      "2  vyE1P   6.263187  -5.948386  5.001160  134.766305\n",
      "3  KcrkZ -13.081196 -11.506057  4.999415  137.945408\n",
      "4  AHL4O  12.702195  -8.147433  5.004363  134.766305\n",
      "--------------------------------------------------\n",
      "      id        f0        f1        f2     product\n",
      "0  fwXo0 -1.146987  0.963328 -0.828965   27.758673\n",
      "1  WJtFt  0.262778  0.269839 -2.530187   56.069697\n",
      "2  ovLUW  0.194587  0.289035 -5.586433   62.871910\n",
      "3  q6cA6  2.236060 -0.553760  0.930038  114.572842\n",
      "4  WPMUX -0.515993  1.716266  5.899011  149.600746\n",
      "--------------------------------------------------\n"
     ]
    }
   ],
   "source": [
    "# с помощью цикла выведим на экран первые строки датасетов\n",
    "\n",
    "for data in geo_data_0, geo_data_1, geo_data_2:\n",
    "    head = data.head()\n",
    "    print(head)\n",
    "    print('--------------------------------------------------')    "
   ]
  },
  {
   "cell_type": "markdown",
   "metadata": {},
   "source": [
    "Проверим общую информацию: "
   ]
  },
  {
   "cell_type": "code",
   "execution_count": 4,
   "metadata": {},
   "outputs": [
    {
     "name": "stdout",
     "output_type": "stream",
     "text": [
      "<class 'pandas.core.frame.DataFrame'>\n",
      "RangeIndex: 100000 entries, 0 to 99999\n",
      "Data columns (total 5 columns):\n",
      "id         100000 non-null object\n",
      "f0         100000 non-null float64\n",
      "f1         100000 non-null float64\n",
      "f2         100000 non-null float64\n",
      "product    100000 non-null float64\n",
      "dtypes: float64(4), object(1)\n",
      "memory usage: 3.8+ MB\n",
      "None\n",
      "--------------------------------------------------\n",
      "<class 'pandas.core.frame.DataFrame'>\n",
      "RangeIndex: 100000 entries, 0 to 99999\n",
      "Data columns (total 5 columns):\n",
      "id         100000 non-null object\n",
      "f0         100000 non-null float64\n",
      "f1         100000 non-null float64\n",
      "f2         100000 non-null float64\n",
      "product    100000 non-null float64\n",
      "dtypes: float64(4), object(1)\n",
      "memory usage: 3.8+ MB\n",
      "None\n",
      "--------------------------------------------------\n",
      "<class 'pandas.core.frame.DataFrame'>\n",
      "RangeIndex: 100000 entries, 0 to 99999\n",
      "Data columns (total 5 columns):\n",
      "id         100000 non-null object\n",
      "f0         100000 non-null float64\n",
      "f1         100000 non-null float64\n",
      "f2         100000 non-null float64\n",
      "product    100000 non-null float64\n",
      "dtypes: float64(4), object(1)\n",
      "memory usage: 3.8+ MB\n",
      "None\n",
      "--------------------------------------------------\n"
     ]
    }
   ],
   "source": [
    "# с помощью цикла получим общую информацию о датасетах\n",
    "\n",
    "for data in geo_data_0, geo_data_1, geo_data_2:\n",
    "    info = data.info()\n",
    "    print(info)\n",
    "    print('--------------------------------------------------')  "
   ]
  },
  {
   "cell_type": "markdown",
   "metadata": {},
   "source": [
    "Пропускив нет. Кроме колонки *id*, остальные данные имеют вещественный тип. "
   ]
  },
  {
   "cell_type": "markdown",
   "metadata": {},
   "source": [
    "Проверим таблицу на наличие дубликатов:"
   ]
  },
  {
   "cell_type": "code",
   "execution_count": 5,
   "metadata": {},
   "outputs": [
    {
     "name": "stdout",
     "output_type": "stream",
     "text": [
      "0\n",
      "0\n",
      "0\n"
     ]
    }
   ],
   "source": [
    "# с помощью цикла проверим дубликаты \n",
    "for data in geo_data_0, geo_data_1, geo_data_2:\n",
    "    duplicates = data.duplicated().sum()\n",
    "    print(duplicates)"
   ]
  },
  {
   "cell_type": "code",
   "execution_count": 6,
   "metadata": {},
   "outputs": [
    {
     "name": "stdout",
     "output_type": "stream",
     "text": [
      "10\n",
      "4\n",
      "4\n"
     ]
    }
   ],
   "source": [
    "# с помощью цикла проверим дубликаты в столбце 'id'\n",
    "for data in geo_data_0, geo_data_1, geo_data_2:\n",
    "    duplicates = data['id'].duplicated().sum()\n",
    "    print(duplicates)"
   ]
  },
  {
   "cell_type": "markdown",
   "metadata": {},
   "source": [
    "Дубликаты обнаружены только в столбце *id*. Этот столбец не будет использоваться в дальнейшей работе, поэтому оставим его без изменений. "
   ]
  },
  {
   "cell_type": "markdown",
   "metadata": {},
   "source": [
    "### Визуализация данных "
   ]
  },
  {
   "cell_type": "markdown",
   "metadata": {},
   "source": [
    "Построем график «ящик с усами» по объемам нефти в разных регионах и посмотрим, велика ли разница. "
   ]
  },
  {
   "cell_type": "code",
   "execution_count": 7,
   "metadata": {},
   "outputs": [
    {
     "data": {
      "image/png": "[encoded data removed]",
      "text/plain": [
       "<Figure size 720x432 with 3 Axes>"
      ]
     },
     "metadata": {},
     "output_type": "display_data"
    }
   ],
   "source": [
    "fig,  ax = plt.subplots(1, 3, figsize=(10, 6), sharey=True)\n",
    "\n",
    "sns.boxplot(geo_data_0['product'], orient='v', ax=ax[0]).set(ylabel=None, title='Регион 1')\n",
    "sns.boxplot(geo_data_1['product'], orient='v', ax=ax[1], color='g').set(ylabel=None, title='Регион 2')\n",
    "sns.boxplot(geo_data_2['product'], orient='v', ax=ax[2], color='r').set(ylabel=None, title='Регион 3')\n",
    "\n",
    "fig.suptitle('Распределение запасов нефти по регионам (тыс. баррелей)', fontsize = 16, color='black')\n",
    "plt.show()"
   ]
  },
  {
   "cell_type": "markdown",
   "metadata": {},
   "source": [
    "Первый и третий регионы практически полностью совпадают. Объем нефти во втором регионе меньше. Судя по медиане и \"усам\", значения в первом и втором регионах симметричны. Во втором - несколько ассиметричны и смещены в меньшую сторону, но и разброс здесь меньше. Выбросов нет. "
   ]
  },
  {
   "cell_type": "markdown",
   "metadata": {},
   "source": [
    "Теперь построим гистограмму по объемам нефти в разных регионах и посмотрим на распределение: "
   ]
  },
  {
   "cell_type": "code",
   "execution_count": 8,
   "metadata": {},
   "outputs": [
    {
     "data": {
      "image/png": "[encoded data removed]",
      "text/plain": [
       "<Figure size 1008x288 with 3 Axes>"
      ]
     },
     "metadata": {},
     "output_type": "display_data"
    }
   ],
   "source": [
    "fig,  ax = plt.subplots(1, 3, figsize=(14, 4))\n",
    "fig.suptitle('Распределение запасов нефти по регионам (тыс. баррелей)', y=1.1, fontsize = 14, color='black')\n",
    "\n",
    "geo_data_0['product'].plot(kind='hist', bins=50, ax=ax[0]).set(xlabel='Объем нефти', ylabel='Количество скважин', title='Регион 1')\n",
    "geo_data_1['product'].plot(kind='hist', bins=50, ax=ax[1], color='g').set(xlabel='Объем нефти',  ylabel=None, title='Регион 2')\n",
    "geo_data_2['product'].plot(kind='hist', bins=50, ax=ax[2], color='r').set(xlabel='Объем нефти', ylabel=None, title='Регион 3')\n",
    "\n",
    "plt.show()"
   ]
  },
  {
   "cell_type": "markdown",
   "metadata": {},
   "source": [
    "Распределения во всех случаях ненормальное. Во втором регионе оно еще и дискретное."
   ]
  },
  {
   "cell_type": "markdown",
   "metadata": {},
   "source": [
    "Визуализируем распределение данных признаков в каждом из регионов:"
   ]
  },
  {
   "cell_type": "code",
   "execution_count": 9,
   "metadata": {
    "scrolled": true
   },
   "outputs": [
    {
     "data": {
      "image/png": "[encoded data removed]",
      "text/plain": [
       "<Figure size 1440x720 with 9 Axes>"
      ]
     },
     "metadata": {},
     "output_type": "display_data"
    }
   ],
   "source": [
    "fig,  ax = plt.subplots(3, 3, figsize=(20, 10))\n",
    "fig.suptitle('Распределение признаков по регионам', fontsize = 18, color='black')\n",
    "\n",
    "geo_data_0['f0'].plot(kind='hist', bins=50, ax=ax[0,0]).set(ylabel='Регион 1', title='f0')\n",
    "geo_data_0['f1'].plot(kind='hist', bins=50, ax=ax[0,1]).set(xlabel=None, ylabel=None, title='f1')\n",
    "geo_data_0['f2'].plot(kind='hist', bins=50, ax=ax[0,2]).set(xlabel=None, ylabel=None, title='f2')\n",
    "\n",
    "geo_data_1['f0'].plot(kind='hist', bins=50, ax=ax[1,0], color='g').set(xlabel=None, ylabel='Регион 2')\n",
    "geo_data_1['f1'].plot(kind='hist', bins=50, ax=ax[1,1], color='g').set(xlabel=None, ylabel=None)\n",
    "geo_data_1['f2'].plot(kind='hist', bins=50, ax=ax[1,2], color='g').set(xlabel=None, ylabel=None)\n",
    "\n",
    "geo_data_2['f0'].plot(kind='hist', bins=50, ax=ax[2,0], color='r').set(xlabel=None, ylabel='Регион 3')\n",
    "geo_data_2['f1'].plot(kind='hist', bins=50, ax=ax[2,1], color='r').set(xlabel=None, ylabel=None)\n",
    "geo_data_2['f2'].plot(kind='hist', bins=50, ax=ax[2,2], color='r').set(xlabel=None, ylabel=None)\n",
    "\n",
    "plt.show()"
   ]
  },
  {
   "cell_type": "markdown",
   "metadata": {},
   "source": [
    "Только в регионе 3 все признаки имеют нормальное гауссово распределение. В первом и втором регионе нормальными являются только по одному признаку - *f2* и *f1* соответственно. Интерес представляет признак *f2* во втором регионе: подобное дискретное распределение данных, как и в целевом признаке."
   ]
  },
  {
   "cell_type": "markdown",
   "metadata": {},
   "source": [
    "**Построим матрицу корреляции и посмотрим на зависимости:**"
   ]
  },
  {
   "cell_type": "code",
   "execution_count": 10,
   "metadata": {},
   "outputs": [
    {
     "data": {
      "text/html": [
       "<style  type=\"text/css\" >\n",
       "    #T_1fe76e5c_afff_11eb_9e54_02420a390420row0_col0 {\n",
       "            background-color:  #b40426;\n",
       "            color:  #f1f1f1;\n",
       "        }    #T_1fe76e5c_afff_11eb_9e54_02420a390420row0_col1 {\n",
       "            background-color:  #3b4cc0;\n",
       "            color:  #f1f1f1;\n",
       "        }    #T_1fe76e5c_afff_11eb_9e54_02420a390420row0_col2 {\n",
       "            background-color:  #3b4cc0;\n",
       "            color:  #f1f1f1;\n",
       "        }    #T_1fe76e5c_afff_11eb_9e54_02420a390420row0_col3 {\n",
       "            background-color:  #98b9ff;\n",
       "            color:  #000000;\n",
       "        }    #T_1fe76e5c_afff_11eb_9e54_02420a390420row1_col0 {\n",
       "            background-color:  #3b4cc0;\n",
       "            color:  #f1f1f1;\n",
       "        }    #T_1fe76e5c_afff_11eb_9e54_02420a390420row1_col1 {\n",
       "            background-color:  #b40426;\n",
       "            color:  #f1f1f1;\n",
       "        }    #T_1fe76e5c_afff_11eb_9e54_02420a390420row1_col2 {\n",
       "            background-color:  #3c4ec2;\n",
       "            color:  #f1f1f1;\n",
       "        }    #T_1fe76e5c_afff_11eb_9e54_02420a390420row1_col3 {\n",
       "            background-color:  #3b4cc0;\n",
       "            color:  #f1f1f1;\n",
       "        }    #T_1fe76e5c_afff_11eb_9e54_02420a390420row2_col0 {\n",
       "            background-color:  #9fbfff;\n",
       "            color:  #000000;\n",
       "        }    #T_1fe76e5c_afff_11eb_9e54_02420a390420row2_col1 {\n",
       "            background-color:  #a1c0ff;\n",
       "            color:  #000000;\n",
       "        }    #T_1fe76e5c_afff_11eb_9e54_02420a390420row2_col2 {\n",
       "            background-color:  #b40426;\n",
       "            color:  #f1f1f1;\n",
       "        }    #T_1fe76e5c_afff_11eb_9e54_02420a390420row2_col3 {\n",
       "            background-color:  #edd2c3;\n",
       "            color:  #000000;\n",
       "        }    #T_1fe76e5c_afff_11eb_9e54_02420a390420row3_col0 {\n",
       "            background-color:  #c1d4f4;\n",
       "            color:  #000000;\n",
       "        }    #T_1fe76e5c_afff_11eb_9e54_02420a390420row3_col1 {\n",
       "            background-color:  #7295f4;\n",
       "            color:  #000000;\n",
       "        }    #T_1fe76e5c_afff_11eb_9e54_02420a390420row3_col2 {\n",
       "            background-color:  #d9dce1;\n",
       "            color:  #000000;\n",
       "        }    #T_1fe76e5c_afff_11eb_9e54_02420a390420row3_col3 {\n",
       "            background-color:  #b40426;\n",
       "            color:  #f1f1f1;\n",
       "        }</style><table id=\"T_1fe76e5c_afff_11eb_9e54_02420a390420\" ><thead>    <tr>        <th class=\"blank level0\" ></th>        <th class=\"col_heading level0 col0\" >f0</th>        <th class=\"col_heading level0 col1\" >f1</th>        <th class=\"col_heading level0 col2\" >f2</th>        <th class=\"col_heading level0 col3\" >product</th>    </tr></thead><tbody>\n",
       "                <tr>\n",
       "                        <th id=\"T_1fe76e5c_afff_11eb_9e54_02420a390420level0_row0\" class=\"row_heading level0 row0\" >f0</th>\n",
       "                        <td id=\"T_1fe76e5c_afff_11eb_9e54_02420a390420row0_col0\" class=\"data row0 col0\" >1</td>\n",
       "                        <td id=\"T_1fe76e5c_afff_11eb_9e54_02420a390420row0_col1\" class=\"data row0 col1\" >-0.440723</td>\n",
       "                        <td id=\"T_1fe76e5c_afff_11eb_9e54_02420a390420row0_col2\" class=\"data row0 col2\" >-0.00315334</td>\n",
       "                        <td id=\"T_1fe76e5c_afff_11eb_9e54_02420a390420row0_col3\" class=\"data row0 col3\" >0.143536</td>\n",
       "            </tr>\n",
       "            <tr>\n",
       "                        <th id=\"T_1fe76e5c_afff_11eb_9e54_02420a390420level0_row1\" class=\"row_heading level0 row1\" >f1</th>\n",
       "                        <td id=\"T_1fe76e5c_afff_11eb_9e54_02420a390420row1_col0\" class=\"data row1 col0\" >-0.440723</td>\n",
       "                        <td id=\"T_1fe76e5c_afff_11eb_9e54_02420a390420row1_col1\" class=\"data row1 col1\" >1</td>\n",
       "                        <td id=\"T_1fe76e5c_afff_11eb_9e54_02420a390420row1_col2\" class=\"data row1 col2\" >0.00172443</td>\n",
       "                        <td id=\"T_1fe76e5c_afff_11eb_9e54_02420a390420row1_col3\" class=\"data row1 col3\" >-0.192356</td>\n",
       "            </tr>\n",
       "            <tr>\n",
       "                        <th id=\"T_1fe76e5c_afff_11eb_9e54_02420a390420level0_row2\" class=\"row_heading level0 row2\" >f2</th>\n",
       "                        <td id=\"T_1fe76e5c_afff_11eb_9e54_02420a390420row2_col0\" class=\"data row2 col0\" >-0.00315334</td>\n",
       "                        <td id=\"T_1fe76e5c_afff_11eb_9e54_02420a390420row2_col1\" class=\"data row2 col1\" >0.00172443</td>\n",
       "                        <td id=\"T_1fe76e5c_afff_11eb_9e54_02420a390420row2_col2\" class=\"data row2 col2\" >1</td>\n",
       "                        <td id=\"T_1fe76e5c_afff_11eb_9e54_02420a390420row2_col3\" class=\"data row2 col3\" >0.483663</td>\n",
       "            </tr>\n",
       "            <tr>\n",
       "                        <th id=\"T_1fe76e5c_afff_11eb_9e54_02420a390420level0_row3\" class=\"row_heading level0 row3\" >product</th>\n",
       "                        <td id=\"T_1fe76e5c_afff_11eb_9e54_02420a390420row3_col0\" class=\"data row3 col0\" >0.143536</td>\n",
       "                        <td id=\"T_1fe76e5c_afff_11eb_9e54_02420a390420row3_col1\" class=\"data row3 col1\" >-0.192356</td>\n",
       "                        <td id=\"T_1fe76e5c_afff_11eb_9e54_02420a390420row3_col2\" class=\"data row3 col2\" >0.483663</td>\n",
       "                        <td id=\"T_1fe76e5c_afff_11eb_9e54_02420a390420row3_col3\" class=\"data row3 col3\" >1</td>\n",
       "            </tr>\n",
       "    </tbody></table>"
      ],
      "text/plain": [
       "<pandas.io.formats.style.Styler at 0x7ff36d648bd0>"
      ]
     },
     "execution_count": 10,
     "metadata": {},
     "output_type": "execute_result"
    }
   ],
   "source": [
    "# Значения корреляции для Региона 1\n",
    "corr_0 = geo_data_0.corr()\n",
    "corr_0.style.background_gradient(cmap='coolwarm')"
   ]
  },
  {
   "cell_type": "code",
   "execution_count": 11,
   "metadata": {},
   "outputs": [
    {
     "data": {
      "text/html": [
       "<style  type=\"text/css\" >\n",
       "    #T_1feebc98_afff_11eb_9e54_02420a390420row0_col0 {\n",
       "            background-color:  #b40426;\n",
       "            color:  #f1f1f1;\n",
       "        }    #T_1feebc98_afff_11eb_9e54_02420a390420row0_col1 {\n",
       "            background-color:  #779af7;\n",
       "            color:  #000000;\n",
       "        }    #T_1feebc98_afff_11eb_9e54_02420a390420row0_col2 {\n",
       "            background-color:  #3b4cc0;\n",
       "            color:  #f1f1f1;\n",
       "        }    #T_1feebc98_afff_11eb_9e54_02420a390420row0_col3 {\n",
       "            background-color:  #3b4cc0;\n",
       "            color:  #f1f1f1;\n",
       "        }    #T_1feebc98_afff_11eb_9e54_02420a390420row1_col0 {\n",
       "            background-color:  #7da0f9;\n",
       "            color:  #000000;\n",
       "        }    #T_1feebc98_afff_11eb_9e54_02420a390420row1_col1 {\n",
       "            background-color:  #b40426;\n",
       "            color:  #f1f1f1;\n",
       "        }    #T_1feebc98_afff_11eb_9e54_02420a390420row1_col2 {\n",
       "            background-color:  #3b4cc0;\n",
       "            color:  #f1f1f1;\n",
       "        }    #T_1feebc98_afff_11eb_9e54_02420a390420row1_col3 {\n",
       "            background-color:  #4055c8;\n",
       "            color:  #f1f1f1;\n",
       "        }    #T_1feebc98_afff_11eb_9e54_02420a390420row2_col0 {\n",
       "            background-color:  #4358cb;\n",
       "            color:  #f1f1f1;\n",
       "        }    #T_1feebc98_afff_11eb_9e54_02420a390420row2_col1 {\n",
       "            background-color:  #3c4ec2;\n",
       "            color:  #f1f1f1;\n",
       "        }    #T_1feebc98_afff_11eb_9e54_02420a390420row2_col2 {\n",
       "            background-color:  #b40426;\n",
       "            color:  #f1f1f1;\n",
       "        }    #T_1feebc98_afff_11eb_9e54_02420a390420row2_col3 {\n",
       "            background-color:  #b40426;\n",
       "            color:  #f1f1f1;\n",
       "        }    #T_1feebc98_afff_11eb_9e54_02420a390420row3_col0 {\n",
       "            background-color:  #3b4cc0;\n",
       "            color:  #f1f1f1;\n",
       "        }    #T_1feebc98_afff_11eb_9e54_02420a390420row3_col1 {\n",
       "            background-color:  #3b4cc0;\n",
       "            color:  #f1f1f1;\n",
       "        }    #T_1feebc98_afff_11eb_9e54_02420a390420row3_col2 {\n",
       "            background-color:  #b40426;\n",
       "            color:  #f1f1f1;\n",
       "        }    #T_1feebc98_afff_11eb_9e54_02420a390420row3_col3 {\n",
       "            background-color:  #b40426;\n",
       "            color:  #f1f1f1;\n",
       "        }</style><table id=\"T_1feebc98_afff_11eb_9e54_02420a390420\" ><thead>    <tr>        <th class=\"blank level0\" ></th>        <th class=\"col_heading level0 col0\" >f0</th>        <th class=\"col_heading level0 col1\" >f1</th>        <th class=\"col_heading level0 col2\" >f2</th>        <th class=\"col_heading level0 col3\" >product</th>    </tr></thead><tbody>\n",
       "                <tr>\n",
       "                        <th id=\"T_1feebc98_afff_11eb_9e54_02420a390420level0_row0\" class=\"row_heading level0 row0\" >f0</th>\n",
       "                        <td id=\"T_1feebc98_afff_11eb_9e54_02420a390420row0_col0\" class=\"data row0 col0\" >1</td>\n",
       "                        <td id=\"T_1feebc98_afff_11eb_9e54_02420a390420row0_col1\" class=\"data row0 col1\" >0.182287</td>\n",
       "                        <td id=\"T_1feebc98_afff_11eb_9e54_02420a390420row0_col2\" class=\"data row0 col2\" >-0.00177704</td>\n",
       "                        <td id=\"T_1feebc98_afff_11eb_9e54_02420a390420row0_col3\" class=\"data row0 col3\" >-0.0304905</td>\n",
       "            </tr>\n",
       "            <tr>\n",
       "                        <th id=\"T_1feebc98_afff_11eb_9e54_02420a390420level0_row1\" class=\"row_heading level0 row1\" >f1</th>\n",
       "                        <td id=\"T_1feebc98_afff_11eb_9e54_02420a390420row1_col0\" class=\"data row1 col0\" >0.182287</td>\n",
       "                        <td id=\"T_1feebc98_afff_11eb_9e54_02420a390420row1_col1\" class=\"data row1 col1\" >1</td>\n",
       "                        <td id=\"T_1feebc98_afff_11eb_9e54_02420a390420row1_col2\" class=\"data row1 col2\" >-0.00259532</td>\n",
       "                        <td id=\"T_1feebc98_afff_11eb_9e54_02420a390420row1_col3\" class=\"data row1 col3\" >-0.0101549</td>\n",
       "            </tr>\n",
       "            <tr>\n",
       "                        <th id=\"T_1feebc98_afff_11eb_9e54_02420a390420level0_row2\" class=\"row_heading level0 row2\" >f2</th>\n",
       "                        <td id=\"T_1feebc98_afff_11eb_9e54_02420a390420row2_col0\" class=\"data row2 col0\" >-0.00177704</td>\n",
       "                        <td id=\"T_1feebc98_afff_11eb_9e54_02420a390420row2_col1\" class=\"data row2 col1\" >-0.00259532</td>\n",
       "                        <td id=\"T_1feebc98_afff_11eb_9e54_02420a390420row2_col2\" class=\"data row2 col2\" >1</td>\n",
       "                        <td id=\"T_1feebc98_afff_11eb_9e54_02420a390420row2_col3\" class=\"data row2 col3\" >0.999397</td>\n",
       "            </tr>\n",
       "            <tr>\n",
       "                        <th id=\"T_1feebc98_afff_11eb_9e54_02420a390420level0_row3\" class=\"row_heading level0 row3\" >product</th>\n",
       "                        <td id=\"T_1feebc98_afff_11eb_9e54_02420a390420row3_col0\" class=\"data row3 col0\" >-0.0304905</td>\n",
       "                        <td id=\"T_1feebc98_afff_11eb_9e54_02420a390420row3_col1\" class=\"data row3 col1\" >-0.0101549</td>\n",
       "                        <td id=\"T_1feebc98_afff_11eb_9e54_02420a390420row3_col2\" class=\"data row3 col2\" >0.999397</td>\n",
       "                        <td id=\"T_1feebc98_afff_11eb_9e54_02420a390420row3_col3\" class=\"data row3 col3\" >1</td>\n",
       "            </tr>\n",
       "    </tbody></table>"
      ],
      "text/plain": [
       "<pandas.io.formats.style.Styler at 0x7ff364ffaed0>"
      ]
     },
     "execution_count": 11,
     "metadata": {},
     "output_type": "execute_result"
    }
   ],
   "source": [
    "# Значения корреляции для Региона 2\n",
    "corr_1 = geo_data_1.corr()\n",
    "corr_1.style.background_gradient(cmap='coolwarm')"
   ]
  },
  {
   "cell_type": "code",
   "execution_count": 12,
   "metadata": {},
   "outputs": [
    {
     "data": {
      "text/html": [
       "<style  type=\"text/css\" >\n",
       "    #T_1ff8dafc_afff_11eb_9e54_02420a390420row0_col0 {\n",
       "            background-color:  #b40426;\n",
       "            color:  #f1f1f1;\n",
       "        }    #T_1ff8dafc_afff_11eb_9e54_02420a390420row0_col1 {\n",
       "            background-color:  #3b4cc0;\n",
       "            color:  #f1f1f1;\n",
       "        }    #T_1ff8dafc_afff_11eb_9e54_02420a390420row0_col2 {\n",
       "            background-color:  #3b4cc0;\n",
       "            color:  #f1f1f1;\n",
       "        }    #T_1ff8dafc_afff_11eb_9e54_02420a390420row0_col3 {\n",
       "            background-color:  #3b4cc0;\n",
       "            color:  #f1f1f1;\n",
       "        }    #T_1ff8dafc_afff_11eb_9e54_02420a390420row1_col0 {\n",
       "            background-color:  #3b4cc0;\n",
       "            color:  #f1f1f1;\n",
       "        }    #T_1ff8dafc_afff_11eb_9e54_02420a390420row1_col1 {\n",
       "            background-color:  #b40426;\n",
       "            color:  #f1f1f1;\n",
       "        }    #T_1ff8dafc_afff_11eb_9e54_02420a390420row1_col2 {\n",
       "            background-color:  #3b4cc0;\n",
       "            color:  #f1f1f1;\n",
       "        }    #T_1ff8dafc_afff_11eb_9e54_02420a390420row1_col3 {\n",
       "            background-color:  #3b4cc0;\n",
       "            color:  #f1f1f1;\n",
       "        }    #T_1ff8dafc_afff_11eb_9e54_02420a390420row2_col0 {\n",
       "            background-color:  #3b4cc0;\n",
       "            color:  #f1f1f1;\n",
       "        }    #T_1ff8dafc_afff_11eb_9e54_02420a390420row2_col1 {\n",
       "            background-color:  #3b4cc0;\n",
       "            color:  #f1f1f1;\n",
       "        }    #T_1ff8dafc_afff_11eb_9e54_02420a390420row2_col2 {\n",
       "            background-color:  #b40426;\n",
       "            color:  #f1f1f1;\n",
       "        }    #T_1ff8dafc_afff_11eb_9e54_02420a390420row2_col3 {\n",
       "            background-color:  #cedaeb;\n",
       "            color:  #000000;\n",
       "        }    #T_1ff8dafc_afff_11eb_9e54_02420a390420row3_col0 {\n",
       "            background-color:  #3b4cc0;\n",
       "            color:  #f1f1f1;\n",
       "        }    #T_1ff8dafc_afff_11eb_9e54_02420a390420row3_col1 {\n",
       "            background-color:  #3b4cc0;\n",
       "            color:  #f1f1f1;\n",
       "        }    #T_1ff8dafc_afff_11eb_9e54_02420a390420row3_col2 {\n",
       "            background-color:  #cedaeb;\n",
       "            color:  #000000;\n",
       "        }    #T_1ff8dafc_afff_11eb_9e54_02420a390420row3_col3 {\n",
       "            background-color:  #b40426;\n",
       "            color:  #f1f1f1;\n",
       "        }</style><table id=\"T_1ff8dafc_afff_11eb_9e54_02420a390420\" ><thead>    <tr>        <th class=\"blank level0\" ></th>        <th class=\"col_heading level0 col0\" >f0</th>        <th class=\"col_heading level0 col1\" >f1</th>        <th class=\"col_heading level0 col2\" >f2</th>        <th class=\"col_heading level0 col3\" >product</th>    </tr></thead><tbody>\n",
       "                <tr>\n",
       "                        <th id=\"T_1ff8dafc_afff_11eb_9e54_02420a390420level0_row0\" class=\"row_heading level0 row0\" >f0</th>\n",
       "                        <td id=\"T_1ff8dafc_afff_11eb_9e54_02420a390420row0_col0\" class=\"data row0 col0\" >1</td>\n",
       "                        <td id=\"T_1ff8dafc_afff_11eb_9e54_02420a390420row0_col1\" class=\"data row0 col1\" >0.000528283</td>\n",
       "                        <td id=\"T_1ff8dafc_afff_11eb_9e54_02420a390420row0_col2\" class=\"data row0 col2\" >-0.000448133</td>\n",
       "                        <td id=\"T_1ff8dafc_afff_11eb_9e54_02420a390420row0_col3\" class=\"data row0 col3\" >-0.00198706</td>\n",
       "            </tr>\n",
       "            <tr>\n",
       "                        <th id=\"T_1ff8dafc_afff_11eb_9e54_02420a390420level0_row1\" class=\"row_heading level0 row1\" >f1</th>\n",
       "                        <td id=\"T_1ff8dafc_afff_11eb_9e54_02420a390420row1_col0\" class=\"data row1 col0\" >0.000528283</td>\n",
       "                        <td id=\"T_1ff8dafc_afff_11eb_9e54_02420a390420row1_col1\" class=\"data row1 col1\" >1</td>\n",
       "                        <td id=\"T_1ff8dafc_afff_11eb_9e54_02420a390420row1_col2\" class=\"data row1 col2\" >0.000778661</td>\n",
       "                        <td id=\"T_1ff8dafc_afff_11eb_9e54_02420a390420row1_col3\" class=\"data row1 col3\" >-0.00101239</td>\n",
       "            </tr>\n",
       "            <tr>\n",
       "                        <th id=\"T_1ff8dafc_afff_11eb_9e54_02420a390420level0_row2\" class=\"row_heading level0 row2\" >f2</th>\n",
       "                        <td id=\"T_1ff8dafc_afff_11eb_9e54_02420a390420row2_col0\" class=\"data row2 col0\" >-0.000448133</td>\n",
       "                        <td id=\"T_1ff8dafc_afff_11eb_9e54_02420a390420row2_col1\" class=\"data row2 col1\" >0.000778661</td>\n",
       "                        <td id=\"T_1ff8dafc_afff_11eb_9e54_02420a390420row2_col2\" class=\"data row2 col2\" >1</td>\n",
       "                        <td id=\"T_1ff8dafc_afff_11eb_9e54_02420a390420row2_col3\" class=\"data row2 col3\" >0.445871</td>\n",
       "            </tr>\n",
       "            <tr>\n",
       "                        <th id=\"T_1ff8dafc_afff_11eb_9e54_02420a390420level0_row3\" class=\"row_heading level0 row3\" >product</th>\n",
       "                        <td id=\"T_1ff8dafc_afff_11eb_9e54_02420a390420row3_col0\" class=\"data row3 col0\" >-0.00198706</td>\n",
       "                        <td id=\"T_1ff8dafc_afff_11eb_9e54_02420a390420row3_col1\" class=\"data row3 col1\" >-0.00101239</td>\n",
       "                        <td id=\"T_1ff8dafc_afff_11eb_9e54_02420a390420row3_col2\" class=\"data row3 col2\" >0.445871</td>\n",
       "                        <td id=\"T_1ff8dafc_afff_11eb_9e54_02420a390420row3_col3\" class=\"data row3 col3\" >1</td>\n",
       "            </tr>\n",
       "    </tbody></table>"
      ],
      "text/plain": [
       "<pandas.io.formats.style.Styler at 0x7ff36d60d990>"
      ]
     },
     "execution_count": 12,
     "metadata": {},
     "output_type": "execute_result"
    }
   ],
   "source": [
    "# Значения корреляции для Региона 3\n",
    "corr_2 = geo_data_2.corr()\n",
    "corr_2.style.background_gradient(cmap='coolwarm')"
   ]
  },
  {
   "cell_type": "markdown",
   "metadata": {},
   "source": [
    "Признак *f2* значительно влияет на объем нефти, что особенно характерно для Региона 2. "
   ]
  },
  {
   "cell_type": "markdown",
   "metadata": {},
   "source": [
    "# Вывод"
   ]
  },
  {
   "cell_type": "markdown",
   "metadata": {},
   "source": [
    "Данные проверены:\n",
    "\n",
    "* Пропусков нет; \n",
    "* Обнаружили несколько повторов уникальных идентификаторов скважин, но нет необходимости их удалять;\n",
    "* Визуализировали данные по объему нефти. В Регионах 1 и 3 нефти больше, чем в Регионе 2;\n",
    "* Распределение данных по объему нефти во всех регионах ненормальное. В Регионе 2 к тому же еще и дискретное.\n",
    "* Только в Регионе 3 все три признака имеют гауссово распределение. В Регионе 2 в признаке *f2* значения распределены дискретно. \n",
    "* Очевидна положительная корреляция признака *f2* с целевым признаком, особенно для Региона 2.\n",
    "\n",
    "Данные не требуют никаких исправлений. Можем приступать к исследованию."
   ]
  },
  {
   "cell_type": "markdown",
   "metadata": {},
   "source": [
    "## Обучение и проверка модели"
   ]
  },
  {
   "cell_type": "markdown",
   "metadata": {},
   "source": [
    "Согласно проекту для обучения модели подходит только линейнай регрессия. Ее и будем использовать.\n",
    "\n",
    "Для обучения модели создадим функцию, в которой:\n",
    "\n",
    "* подготовим данные для обучения, разбив их на две выборки: обучающую и валидационную в соотношении 75:25;\n",
    "* проведем обучение модели;\n",
    "* вернем правильные ответы, предсказания, средний предсказанный объем нефти и значения метрики RMSE."
   ]
  },
  {
   "cell_type": "code",
   "execution_count": 13,
   "metadata": {},
   "outputs": [],
   "source": [
    "def region_prediction(region):\n",
    "    \n",
    "    # разделение данных на признаки (X) и целевую переменную (y)\n",
    "    X = region[['f0', 'f1', 'f2']] # \n",
    "    y = region['product']\n",
    "    \n",
    "    # разбивка датасета на две выборки\n",
    "    X_train, X_valid, y_train, y_valid = train_test_split(X, y, test_size=0.25, random_state=12345)\n",
    "        \n",
    "    model=LinearRegression() # создание модели линейной регрессии \n",
    "    predicted = pd.Series(model.fit(X_train, y_train).predict(X_valid), index=y_valid.index) # создание объекта данных \n",
    "                                                                                             # со списком предсказанных значений\n",
    "  \n",
    "    rmse = round(mean_squared_error(y_valid, predicted)**0.5, 3) # вычисление RMSE\n",
    "    target_mean = round(region['product'].mean(), 3) # вычисление среднего реального объема запаса сырья\n",
    "    pred_mean = round(predicted.mean(), 3) # вычисление среднего предсказанного объема запаса сырья\n",
    "    \n",
    "    return y_valid, predicted, rmse, target_mean, pred_mean # возвращение полученных результатов"
   ]
  },
  {
   "cell_type": "markdown",
   "metadata": {},
   "source": [
    "Сохраним значения функции в переменных для каждого региона:\n",
    "\n",
    "* target_geo[ i ] - значение реального объема сырья в скважине\n",
    "* pred_geo[ i ] - значение предсказанного объем сырья в скважине\n",
    "* rmse_geo[ i ] - значение метрики RMSE\n",
    "* target_mean_geo[ i ] - среднее значение реального объема сырья в регионе\n",
    "* pred_mean_geo[ i ] - среднее значение предсказанного объема сырья в регионе"
   ]
  },
  {
   "cell_type": "code",
   "execution_count": 14,
   "metadata": {},
   "outputs": [],
   "source": [
    "target_geo_0, pred_geo_0, rmse_geo_0, target_mean_geo_0, pred_mean_geo_0 = region_prediction(geo_data_0) # значения Региона 1\n",
    "target_geo_1, pred_geo_1, rmse_geo_1, target_mean_geo_1, pred_mean_geo_1 = region_prediction(geo_data_1) # значения Региона 2\n",
    "target_geo_2, pred_geo_2, rmse_geo_2, target_mean_geo_2, pred_mean_geo_2 = region_prediction(geo_data_2) # значения Региона 3"
   ]
  },
  {
   "cell_type": "markdown",
   "metadata": {},
   "source": [
    "Создадим таблицу с данными о среднем объеме нефти до и после предсказаний и со значениями RMSE:"
   ]
  },
  {
   "cell_type": "code",
   "execution_count": 15,
   "metadata": {
    "scrolled": true
   },
   "outputs": [
    {
     "data": {
      "text/html": [
       "<div>\n",
       "<style scoped>\n",
       "    .dataframe tbody tr th:only-of-type {\n",
       "        vertical-align: middle;\n",
       "    }\n",
       "\n",
       "    .dataframe tbody tr th {\n",
       "        vertical-align: top;\n",
       "    }\n",
       "\n",
       "    .dataframe thead th {\n",
       "        text-align: right;\n",
       "    }\n",
       "</style>\n",
       "<table border=\"1\" class=\"dataframe\">\n",
       "  <thead>\n",
       "    <tr style=\"text-align: right;\">\n",
       "      <th></th>\n",
       "      <th>Реальный объем</th>\n",
       "      <th>Предсказанный объем</th>\n",
       "      <th>RMSE</th>\n",
       "    </tr>\n",
       "  </thead>\n",
       "  <tbody>\n",
       "    <tr>\n",
       "      <td>Регион 1</td>\n",
       "      <td>92.500</td>\n",
       "      <td>92.593</td>\n",
       "      <td>37.579</td>\n",
       "    </tr>\n",
       "    <tr>\n",
       "      <td>Регион 2</td>\n",
       "      <td>68.825</td>\n",
       "      <td>68.729</td>\n",
       "      <td>0.893</td>\n",
       "    </tr>\n",
       "    <tr>\n",
       "      <td>Регион 3</td>\n",
       "      <td>95.000</td>\n",
       "      <td>94.965</td>\n",
       "      <td>40.030</td>\n",
       "    </tr>\n",
       "  </tbody>\n",
       "</table>\n",
       "</div>"
      ],
      "text/plain": [
       "          Реальный объем  Предсказанный объем    RMSE\n",
       "Регион 1          92.500               92.593  37.579\n",
       "Регион 2          68.825               68.729   0.893\n",
       "Регион 3          95.000               94.965  40.030"
      ]
     },
     "execution_count": 15,
     "metadata": {},
     "output_type": "execute_result"
    }
   ],
   "source": [
    "geo_table = pd.DataFrame(data=[[target_mean_geo_0, pred_mean_geo_0, rmse_geo_0], \n",
    "                             [target_mean_geo_1, pred_mean_geo_1, rmse_geo_1], \n",
    "                             [target_mean_geo_2, pred_mean_geo_2, rmse_geo_2]],\n",
    "                       index=['Регион 1', 'Регион 2', 'Регион 3'],\n",
    "                       columns=['Реальный объем', 'Предсказанный объем', 'RMSE'])               \n",
    "geo_table            "
   ]
  },
  {
   "cell_type": "markdown",
   "metadata": {},
   "source": [
    "Модель предсказывает объем довольно точно. Средние значения объема сырья практически полностью совпадают. \n",
    "\n",
    "Значение RMSE лучшее во втором регионе. В своих предсказаниях модель ошибается в среднем всего лишь на 893 бареля.  В первом и третьем регионах разброс ошибок шире: 38-40 тыс баррелей соответсвенно."
   ]
  },
  {
   "cell_type": "markdown",
   "metadata": {},
   "source": [
    "# Вывод"
   ]
  },
  {
   "cell_type": "markdown",
   "metadata": {},
   "source": [
    "Мы провели обучение модели в трех регионах и получили предсказания на валидационных данных. Средние запасы сырья во втором регионе меньше, чем в первом и третьем. Тем не менее, показатель RMSE указывает на практически максимальную точность модели Региона 2. Можно предположить, что это связано с высоким уровнем положительной корреляции признака *f2* с целевым признаком."
   ]
  },
  {
   "cell_type": "markdown",
   "metadata": {},
   "source": [
    "## Подготовка к расчёту прибыли"
   ]
  },
  {
   "cell_type": "markdown",
   "metadata": {},
   "source": [
    "Прежде всего создадим константы для ключевых значений расчётов:"
   ]
  },
  {
   "cell_type": "code",
   "execution_count": 16,
   "metadata": {},
   "outputs": [],
   "source": [
    "TOTAL_BUDGET = 10000000000 # Максимальный бюджет на разработку месторождений \n",
    "TOTAL_WELLS = 500 # Количество месторождений, исследуемых при разведке региона\n",
    "BEST_WELLS = 200 # Количество месторождений с самым высокими оценками значений\n",
    "BARREL_PROFIT = 450000 # Стоимость тысячи баррелей нефти "
   ]
  },
  {
   "cell_type": "markdown",
   "metadata": {},
   "source": [
    "Рассчитаем достаточный объём сырья для безубыточной разработки новой скважины. \n",
    "\n",
    "Передадим переменной *profit_mining* значение минимального объема нефти:"
   ]
  },
  {
   "cell_type": "code",
   "execution_count": 17,
   "metadata": {
    "scrolled": false
   },
   "outputs": [
    {
     "data": {
      "text/plain": [
       "111.11111111111111"
      ]
     },
     "execution_count": 17,
     "metadata": {},
     "output_type": "execute_result"
    }
   ],
   "source": [
    "profit_mining = TOTAL_BUDGET / (BARREL_PROFIT * BEST_WELLS) # расчет точки безубыточности\n",
    "profit_mining"
   ]
  },
  {
   "cell_type": "markdown",
   "metadata": {},
   "source": [
    "Для безубыточной разработки новой скважины требуется добыть не менее 111.11 тыс. баррелей. Средний запас сырья на скважину в каждом из регионов ниже этого показателя. Предварительно можно заключить, что все регионы выглядят убыточными. "
   ]
  },
  {
   "cell_type": "markdown",
   "metadata": {},
   "source": [
    "Напишем функцию для расчёта прибыли по выбранным скважинам и предсказаниям модели:"
   ]
  },
  {
   "cell_type": "code",
   "execution_count": 18,
   "metadata": {},
   "outputs": [],
   "source": [
    "def revenue(target, predicted):\n",
    "       \n",
    "    probs_sorted = predicted.sort_values(ascending=False)\n",
    "    target_selected = target[probs_sorted.index][:BEST_WELLS] # выбор таргетов по индексу, выбор лучших 200\n",
    "    target_revenue = BARREL_PROFIT* target_selected.sum() - TOTAL_BUDGET # расчет вероятной прибыли\n",
    "   \n",
    "    return  round(target_revenue / 1000000000, 2) # значение прибыли в млрд "
   ]
  },
  {
   "cell_type": "markdown",
   "metadata": {},
   "source": [
    "# Вывод"
   ]
  },
  {
   "cell_type": "markdown",
   "metadata": {},
   "source": [
    "Мы провели расчет требуемого минимального объема сырья для безубыточной разработки новой скважины. Месторождение со средним запасом нефти в скважине более 111 тыс. баррелей можно считать потенциально прибыльным."
   ]
  },
  {
   "cell_type": "markdown",
   "metadata": {},
   "source": [
    "## Расчёт прибыли и рисков "
   ]
  },
  {
   "cell_type": "markdown",
   "metadata": {},
   "source": [
    "Определим среднюю прибыль, 95%-й квантиль выручки и риск убытков при разработке скважин в каждом из регионов. Для этого выполним процедуру Bootstrap с 1000 повторениями. Создадим функцию, производящую все требуемые расчеты:"
   ]
  },
  {
   "cell_type": "code",
   "execution_count": 19,
   "metadata": {},
   "outputs": [],
   "source": [
    "state=np.random.RandomState(12345)\n",
    "\n",
    "def bootstrap_1000(targets, predicteds):\n",
    "    \n",
    "    values=[] \n",
    "\n",
    "    for i in range(1000):\n",
    "        target_sample = targets.sample(n=TOTAL_WELLS, replace=True, random_state=state) # отбираем случайным образом 500 таргет значений\n",
    "        probs_sample = predicteds[target_sample.index] # отбираем предсказанные значения по таргет_индексу\n",
    "        profit = revenue(target_sample, probs_sample) # отсылаем в функцию прибыли таргет и предикт.\n",
    "        values.append(profit) # отсылаем в функцию прибыли таргет и предикт.\n",
    "\n",
    "    values = pd.Series(values)\n",
    "    \n",
    "    lower = round((values.quantile(0.05)), 2) # нижняя граница доверительного интервала средней прибыли\n",
    "    upper = round((values.quantile(0.95)), 2) # верхняя граница доверительного интервала средней прибыли\n",
    "    mean = round((values.mean()), 2) # средняя прибыль\n",
    "    risk = round((values < 0).mean()*100, 2)  # средняя вероятность убытка в процентах\n",
    "        \n",
    "    return lower, upper, mean, risk "
   ]
  },
  {
   "cell_type": "markdown",
   "metadata": {},
   "source": [
    "Создадим переменным для значений функции:\n",
    "\n",
    "* mean_geo[ i ] - значение среднего предсказанного объема сырья\n",
    "* lower_geo[ i ] - значение нижней границы интервала\n",
    "* upper_geo[ i ] - значение верхней границы интервала\n",
    "* risk_geo[ i ] - значение средней вероятности убытка"
   ]
  },
  {
   "cell_type": "code",
   "execution_count": 20,
   "metadata": {},
   "outputs": [],
   "source": [
    "lower_geo_0, upper_geo_0, mean_geo_0, risk_geo_0 = bootstrap_1000(target_geo_0, pred_geo_0) # значения Региона 1\n",
    "lower_geo_1, upper_geo_1, mean_geo_1, risk_geo_1 = bootstrap_1000(target_geo_1, pred_geo_1) # значения Региона 2\n",
    "lower_geo_2, upper_geo_2, mean_geo_2, risk_geo_2 = bootstrap_1000(target_geo_2, pred_geo_2) # значения Региона 3"
   ]
  },
  {
   "cell_type": "markdown",
   "metadata": {},
   "source": [
    "Сформируем итоговую таблицу по регионам с полученными данными:"
   ]
  },
  {
   "cell_type": "code",
   "execution_count": 21,
   "metadata": {},
   "outputs": [
    {
     "data": {
      "text/html": [
       "<div>\n",
       "<style scoped>\n",
       "    .dataframe tbody tr th:only-of-type {\n",
       "        vertical-align: middle;\n",
       "    }\n",
       "\n",
       "    .dataframe tbody tr th {\n",
       "        vertical-align: top;\n",
       "    }\n",
       "\n",
       "    .dataframe thead th {\n",
       "        text-align: right;\n",
       "    }\n",
       "</style>\n",
       "<table border=\"1\" class=\"dataframe\">\n",
       "  <thead>\n",
       "    <tr style=\"text-align: right;\">\n",
       "      <th></th>\n",
       "      <th>Средняя прибыль</th>\n",
       "      <th>Доверительный интервал</th>\n",
       "      <th>Средний риск убытка</th>\n",
       "    </tr>\n",
       "  </thead>\n",
       "  <tbody>\n",
       "    <tr>\n",
       "      <td>Регион 1</td>\n",
       "      <td>0.43</td>\n",
       "      <td>(-0.03, 0.88)</td>\n",
       "      <td>5.9</td>\n",
       "    </tr>\n",
       "    <tr>\n",
       "      <td>Регион 2</td>\n",
       "      <td>0.52</td>\n",
       "      <td>(0.19, 0.89)</td>\n",
       "      <td>0.2</td>\n",
       "    </tr>\n",
       "    <tr>\n",
       "      <td>Регион 3</td>\n",
       "      <td>0.42</td>\n",
       "      <td>(-0.03, 0.91)</td>\n",
       "      <td>5.8</td>\n",
       "    </tr>\n",
       "  </tbody>\n",
       "</table>\n",
       "</div>"
      ],
      "text/plain": [
       "          Средняя прибыль Доверительный интервал  Средний риск убытка\n",
       "Регион 1             0.43          (-0.03, 0.88)                  5.9\n",
       "Регион 2             0.52           (0.19, 0.89)                  0.2\n",
       "Регион 3             0.42          (-0.03, 0.91)                  5.8"
      ]
     },
     "execution_count": 21,
     "metadata": {},
     "output_type": "execute_result"
    }
   ],
   "source": [
    "results = pd.DataFrame(data=[[mean_geo_0, (lower_geo_0, upper_geo_0), risk_geo_0], \n",
    "                             [mean_geo_1, (lower_geo_1, upper_geo_1), risk_geo_1], \n",
    "                             [mean_geo_2, (lower_geo_2, upper_geo_2), risk_geo_2]],\n",
    "                       index=['Регион 1', 'Регион 2', 'Регион 3'],\n",
    "                       columns=['Средняя прибыль', 'Доверительный интервал','Средний риск убытка'])               \n",
    "results  "
   ]
  },
  {
   "cell_type": "markdown",
   "metadata": {},
   "source": [
    "# Вывод"
   ]
  },
  {
   "cell_type": "markdown",
   "metadata": {},
   "source": [
    "Результат работы показывает, что все регионы убыточны. Доход со скважин не окупает вложенний. Тем не менее, лучшим из регионов оказался Регион 1. "
   ]
  },
  {
   "cell_type": "markdown",
   "metadata": {},
   "source": [
    "# Общий вывод"
   ]
  },
  {
   "cell_type": "markdown",
   "metadata": {},
   "source": [
    "1. Мы изучили информацию о геологических данных нефтедобывающей компании «ГлавРосГосНефть». Данные были абсолютно чистыми, за исключением единичных случаев дубликатов уникальных идентификаторов скважин. Отмечается положительная корреляция признака *f2* с целевым признакам: 0.45 - для Региона 1, 0.999 - для Региона 2, 0.48 - для Региона 3.\n",
    "\n",
    "2. Используя линейную регрессию, мы провели обучение модели и сделали предсказания на валидационной выборке. Модели сделали предсказания среднего объема запаса нефти довольно точно. Однако, метрика RMSE показала сравнительно высокий разброс ошибок для Региона 1 и 3. Модель Региона 2 показала почти полную безошибочность предсказаний - RMSE = 0.893\n",
    "\n",
    "3. Далее мы вычислили объем нефти (в тыс баррелей) для безубыточной разработки одной скважины - 111.11 тыс. Средний запас сырья на точку в каждом из регионов значительно ниже, что позволило предположить о безусловной убыточности всех регионов. \n",
    "\n",
    "4. С помощью техники Бутстреп произвели расчет предсказаний средней прибыли на скважину, 95% доверительный интервал и риск убыточности. В итоге получили довольно низкую прибыль в каждом регионе (в интервале 0.42-0.54 млрд дохода с региона).\n",
    "\n",
    "Таким образом, компания «ГлавРосГосНефть» не стоит производить разработки ни в одном из регионов, так как даже минимальные вложения не окупятся."
   ]
  },
  {
   "cell_type": "markdown",
   "metadata": {},
   "source": [
    "## Чек-лист готовности проекта"
   ]
  },
  {
   "cell_type": "markdown",
   "metadata": {},
   "source": [
    "Поставьте 'x' в выполненных пунктах. Далее нажмите Shift+Enter."
   ]
  },
  {
   "cell_type": "markdown",
   "metadata": {},
   "source": [
    "- [x]  Jupyter Notebook открыт\n",
    "- [x]  Весь код выполняется без ошибок\n",
    "- [x]  Ячейки с кодом расположены в порядке исполнения\n",
    "- [x]  Выполнен шаг 1: данные подготовлены\n",
    "- [x]  Выполнен шаг 2: модели обучены и проверены\n",
    "    - [x]  Данные корректно разбиты на обучающую и валидационную выборки\n",
    "    - [x]  Модели обучены, предсказания сделаны\n",
    "    - [x]  Предсказания и правильные ответы на валидационной выборке сохранены\n",
    "    - [x]  На экране напечатаны результаты\n",
    "    - [x]  Сделаны выводы\n",
    "- [x]  Выполнен шаг 3: проведена подготовка к расчёту прибыли\n",
    "    - [x]  Для всех ключевых значений созданы константы Python\n",
    "    - [x]  Посчитано минимальное среднее количество продукта в месторождениях региона, достаточное для разработки\n",
    "    - [x]  По предыдущему пункту сделаны выводы\n",
    "    - [x]  Написана функция расчёта прибыли\n",
    "- [x]  Выполнен шаг 4: посчитаны риски и прибыль\n",
    "    - [x]  Проведена процедура *Bootstrap*\n",
    "    - [x]  Все параметры бутстрепа соответствуют условию\n",
    "    - [x]  Найдены все нужные величины\n",
    "    - [x]  Предложен регион для разработки месторождения\n",
    "    - [X]  Выбор региона обоснован"
   ]
  }
 ],
 "metadata": {
  "kernelspec": {
   "display_name": "Python 3",
   "language": "python",
   "name": "python3"
  },
  "language_info": {
   "codemirror_mode": {
    "name": "ipython",
    "version": 3
   },
   "file_extension": ".py",
   "mimetype": "text/x-python",
   "name": "python",
   "nbconvert_exporter": "python",
   "pygments_lexer": "ipython3",
   "version": "3.7.8"
  },
  "toc": {
   "base_numbering": 1,
   "nav_menu": {},
   "number_sections": true,
   "sideBar": true,
   "skip_h1_title": true,
   "title_cell": "Table of Contents",
   "title_sidebar": "Contents",
   "toc_cell": false,
   "toc_position": {},
   "toc_section_display": true,
   "toc_window_display": false
  }
 },
 "nbformat": 4,
 "nbformat_minor": 2
}
