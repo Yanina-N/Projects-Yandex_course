{
 "cells": [
  {
   "cell_type": "markdown",
   "metadata": {},
   "source": [
    "**ПЛАН РАБОТЫ**:"
   ]
  },
  {
   "cell_type": "markdown",
   "metadata": {},
   "source": [
    "1. Загрузить и подготовить данные;\n",
    "2. Выполнить ресемплирование данных по одному часу и провести анализ;\n",
    "3. Обучить разные модели, выбрав оптимальную. Требование - модель должна ошибатьcя не более, чем на 48 минут; \n",
    "4. Проверить модель на тестовой выборке."
   ]
  },
  {
   "cell_type": "markdown",
   "metadata": {},
   "source": [
    "## Подготовка"
   ]
  },
  {
   "cell_type": "markdown",
   "metadata": {},
   "source": [
    "Для начала загрузим необходимые библиотеки:"
   ]
  },
  {
   "cell_type": "code",
   "execution_count": 1,
   "metadata": {},
   "outputs": [],
   "source": [
    "import pandas as pd\n",
    "import numpy as np\n",
    "\n",
    "from statsmodels.tsa.seasonal import seasonal_decompose\n",
    "from sklearn.model_selection import train_test_split\n",
    "from sklearn.metrics import mean_squared_error\n",
    "\n",
    "from sklearn.linear_model import LinearRegression\n",
    "from sklearn.ensemble import RandomForestRegressor\n",
    "from catboost import CatBoostRegressor\n",
    "from lightgbm import LGBMRegressor\n",
    "\n",
    "import matplotlib.pyplot as plt\n",
    "import seaborn as sns\n",
    "plt.style.use('ggplot')\n",
    "\n",
    "import warnings\n",
    "warnings.simplefilter('ignore')"
   ]
  },
  {
   "cell_type": "markdown",
   "metadata": {},
   "source": [
    "Загрузим и прочитаем файл:"
   ]
  },
  {
   "cell_type": "code",
   "execution_count": 2,
   "metadata": {},
   "outputs": [],
   "source": [
    "data = pd.read_csv('/datasets/taxi.csv', parse_dates=[0], index_col=[0])"
   ]
  },
  {
   "cell_type": "markdown",
   "metadata": {},
   "source": [
    "Выведим на экран первые строки датасета:"
   ]
  },
  {
   "cell_type": "code",
   "execution_count": 3,
   "metadata": {},
   "outputs": [
    {
     "data": {
      "text/html": [
       "<div>\n",
       "<style scoped>\n",
       "    .dataframe tbody tr th:only-of-type {\n",
       "        vertical-align: middle;\n",
       "    }\n",
       "\n",
       "    .dataframe tbody tr th {\n",
       "        vertical-align: top;\n",
       "    }\n",
       "\n",
       "    .dataframe thead th {\n",
       "        text-align: right;\n",
       "    }\n",
       "</style>\n",
       "<table border=\"1\" class=\"dataframe\">\n",
       "  <thead>\n",
       "    <tr style=\"text-align: right;\">\n",
       "      <th></th>\n",
       "      <th>num_orders</th>\n",
       "    </tr>\n",
       "    <tr>\n",
       "      <th>datetime</th>\n",
       "      <th></th>\n",
       "    </tr>\n",
       "  </thead>\n",
       "  <tbody>\n",
       "    <tr>\n",
       "      <td>2018-03-01 00:00:00</td>\n",
       "      <td>9</td>\n",
       "    </tr>\n",
       "    <tr>\n",
       "      <td>2018-03-01 00:10:00</td>\n",
       "      <td>14</td>\n",
       "    </tr>\n",
       "    <tr>\n",
       "      <td>2018-03-01 00:20:00</td>\n",
       "      <td>28</td>\n",
       "    </tr>\n",
       "    <tr>\n",
       "      <td>2018-03-01 00:30:00</td>\n",
       "      <td>20</td>\n",
       "    </tr>\n",
       "    <tr>\n",
       "      <td>2018-03-01 00:40:00</td>\n",
       "      <td>32</td>\n",
       "    </tr>\n",
       "  </tbody>\n",
       "</table>\n",
       "</div>"
      ],
      "text/plain": [
       "                     num_orders\n",
       "datetime                       \n",
       "2018-03-01 00:00:00           9\n",
       "2018-03-01 00:10:00          14\n",
       "2018-03-01 00:20:00          28\n",
       "2018-03-01 00:30:00          20\n",
       "2018-03-01 00:40:00          32"
      ]
     },
     "execution_count": 3,
     "metadata": {},
     "output_type": "execute_result"
    }
   ],
   "source": [
    "data.head()"
   ]
  },
  {
   "cell_type": "markdown",
   "metadata": {},
   "source": [
    "Посмотрим общую информацию:"
   ]
  },
  {
   "cell_type": "code",
   "execution_count": 4,
   "metadata": {},
   "outputs": [
    {
     "name": "stdout",
     "output_type": "stream",
     "text": [
      "<class 'pandas.core.frame.DataFrame'>\n",
      "DatetimeIndex: 26496 entries, 2018-03-01 00:00:00 to 2018-08-31 23:50:00\n",
      "Data columns (total 1 columns):\n",
      "num_orders    26496 non-null int64\n",
      "dtypes: int64(1)\n",
      "memory usage: 414.0 KB\n"
     ]
    }
   ],
   "source": [
    "data.info()"
   ]
  },
  {
   "cell_type": "markdown",
   "metadata": {},
   "source": [
    "При загрузке датасета мы изменили тип данных Datetime с object на datetime64 и установили индекс таблицы равным столбцу Datetime. Данные в таблице представлены за период с 2018-03-01 по 2018-08-31."
   ]
  },
  {
   "cell_type": "markdown",
   "metadata": {},
   "source": [
    "Проверим, в хронолигическом ли порядке расположены дата и время: "
   ]
  },
  {
   "cell_type": "code",
   "execution_count": 5,
   "metadata": {},
   "outputs": [
    {
     "data": {
      "text/plain": [
       "True"
      ]
     },
     "execution_count": 5,
     "metadata": {},
     "output_type": "execute_result"
    }
   ],
   "source": [
    "data.sort_index(inplace=True)\n",
    "data.index.is_monotonic"
   ]
  },
  {
   "cell_type": "markdown",
   "metadata": {},
   "source": [
    "Все в порядке. Данные упорядочены во времени."
   ]
  },
  {
   "cell_type": "markdown",
   "metadata": {},
   "source": [
    "# Вывод"
   ]
  },
  {
   "cell_type": "markdown",
   "metadata": {},
   "source": [
    "Мы загрузили и прочитали файл. Подготовили данные для анализа временного ряда. "
   ]
  },
  {
   "cell_type": "markdown",
   "metadata": {},
   "source": [
    "## Анализ"
   ]
  },
  {
   "cell_type": "markdown",
   "metadata": {},
   "source": [
    "Выполним рессемплирование, выбрав интервал в один час:"
   ]
  },
  {
   "cell_type": "code",
   "execution_count": 6,
   "metadata": {},
   "outputs": [],
   "source": [
    "data=data['2018-03':'2018-08'].resample('1H').sum()"
   ]
  },
  {
   "cell_type": "markdown",
   "metadata": {},
   "source": [
    "Посмотрим на статистику:"
   ]
  },
  {
   "cell_type": "code",
   "execution_count": 7,
   "metadata": {},
   "outputs": [
    {
     "data": {
      "text/html": [
       "<div>\n",
       "<style scoped>\n",
       "    .dataframe tbody tr th:only-of-type {\n",
       "        vertical-align: middle;\n",
       "    }\n",
       "\n",
       "    .dataframe tbody tr th {\n",
       "        vertical-align: top;\n",
       "    }\n",
       "\n",
       "    .dataframe thead th {\n",
       "        text-align: right;\n",
       "    }\n",
       "</style>\n",
       "<table border=\"1\" class=\"dataframe\">\n",
       "  <thead>\n",
       "    <tr style=\"text-align: right;\">\n",
       "      <th></th>\n",
       "      <th>num_orders</th>\n",
       "    </tr>\n",
       "  </thead>\n",
       "  <tbody>\n",
       "    <tr>\n",
       "      <td>count</td>\n",
       "      <td>4416.000000</td>\n",
       "    </tr>\n",
       "    <tr>\n",
       "      <td>mean</td>\n",
       "      <td>84.422781</td>\n",
       "    </tr>\n",
       "    <tr>\n",
       "      <td>std</td>\n",
       "      <td>45.023853</td>\n",
       "    </tr>\n",
       "    <tr>\n",
       "      <td>min</td>\n",
       "      <td>0.000000</td>\n",
       "    </tr>\n",
       "    <tr>\n",
       "      <td>25%</td>\n",
       "      <td>54.000000</td>\n",
       "    </tr>\n",
       "    <tr>\n",
       "      <td>50%</td>\n",
       "      <td>78.000000</td>\n",
       "    </tr>\n",
       "    <tr>\n",
       "      <td>75%</td>\n",
       "      <td>107.000000</td>\n",
       "    </tr>\n",
       "    <tr>\n",
       "      <td>max</td>\n",
       "      <td>462.000000</td>\n",
       "    </tr>\n",
       "  </tbody>\n",
       "</table>\n",
       "</div>"
      ],
      "text/plain": [
       "        num_orders\n",
       "count  4416.000000\n",
       "mean     84.422781\n",
       "std      45.023853\n",
       "min       0.000000\n",
       "25%      54.000000\n",
       "50%      78.000000\n",
       "75%     107.000000\n",
       "max     462.000000"
      ]
     },
     "execution_count": 7,
     "metadata": {},
     "output_type": "execute_result"
    }
   ],
   "source": [
    "data.describe()"
   ]
  },
  {
   "cell_type": "markdown",
   "metadata": {},
   "source": [
    "В 50% случаев число заказов в час составляет 78. "
   ]
  },
  {
   "cell_type": "markdown",
   "metadata": {},
   "source": [
    "Построим график временного ряда со скользящими стандартным отклонением и средним значением:"
   ]
  },
  {
   "cell_type": "code",
   "execution_count": 8,
   "metadata": {},
   "outputs": [
    {
     "data": {
      "image/png": "[encoded data removed]",
      "text/plain": [
       "<Figure size 864x432 with 1 Axes>"
      ]
     },
     "metadata": {},
     "output_type": "display_data"
    }
   ],
   "source": [
    "data_analysis = data.copy()\n",
    "\n",
    "data_analysis['mean'] = data_analysis['num_orders'].rolling(20).mean()\n",
    "data_analysis['std'] = data_analysis['num_orders'].rolling(20).std()\n",
    "\n",
    "data_analysis.plot(figsize=(12,6))\n",
    "plt.show()"
   ]
  },
  {
   "cell_type": "markdown",
   "metadata": {},
   "source": [
    "Временной ряд показывает устойчиво возрастающий тренд. С августа увеличивается число заказов такси - время окончания отпускного периода. \n",
    "\n",
    "Стандартное отклонение изменяется не настолько сильно. В то время, как среднее значение очевидно указывает на нестационарность временного ряда."
   ]
  },
  {
   "cell_type": "markdown",
   "metadata": {},
   "source": [
    "Разберём тренды и сезонность:"
   ]
  },
  {
   "cell_type": "code",
   "execution_count": 9,
   "metadata": {},
   "outputs": [],
   "source": [
    "decomposed = seasonal_decompose(data['num_orders'])"
   ]
  },
  {
   "cell_type": "code",
   "execution_count": 10,
   "metadata": {},
   "outputs": [
    {
     "data": {
      "image/png": "[encoded data removed]",
      "text/plain": [
       "<Figure size 720x648 with 4 Axes>"
      ]
     },
     "metadata": {},
     "output_type": "display_data"
    }
   ],
   "source": [
    "plt.figure(figsize=(10, 9))\n",
    "\n",
    "plt.subplot(411)\n",
    "decomposed.trend['2018-03':'2018-08'].plot(ax=plt.gca(), color = 'r')\n",
    "plt.title('Trend')\n",
    "\n",
    "plt.subplot(412)\n",
    "decomposed.seasonal['2018-08':'2018-08'].plot(ax=plt.gca(), color = 'b')\n",
    "plt.title('Seasonal: Август')\n",
    "\n",
    "plt.subplot(413)\n",
    "decomposed.seasonal['2018-08-14':'2018-08-15'].plot(ax=plt.gca(), color = 'g')\n",
    "plt.title('Seasonal: 14-15 Августа')\n",
    "\n",
    "plt.subplot(414)\n",
    "decomposed.resid['2018-08-14':'2018-08-15'].plot(ax=plt.gca(), color = 'y')\n",
    "plt.title('Resid: 14-15 Августа')\n",
    "\n",
    "plt.tight_layout()"
   ]
  },
  {
   "cell_type": "markdown",
   "metadata": {},
   "source": [
    "График тренда отражает стабильное увеличение заказов такси на протяжении всего периода. \n",
    "\n",
    "Сезонность для более удобной визуализации выведена в двух диапазонах: за весь август и за период 14-15 августа. График месяца отражает четкую цикличность заказов изо дня в день. \n",
    "\n",
    "Наибольший интерес представляет график заказа такси в течение суток. Посмотрим на него ближе:"
   ]
  },
  {
   "cell_type": "code",
   "execution_count": 11,
   "metadata": {
    "scrolled": true
   },
   "outputs": [
    {
     "data": {
      "image/png": "[encoded data removed]",
      "text/plain": [
       "<Figure size 648x288 with 1 Axes>"
      ]
     },
     "metadata": {},
     "output_type": "display_data"
    }
   ],
   "source": [
    "plt.title('Количество заказов такси в течение суток (14-15 августа 2018)', y=1.1, fontsize=14)\n",
    "decomposed.seasonal['2018-08-14-00:00:00':'2018-08-15-00:00:00'].plot(figsize=(9,4), color='g', label='Сезонность')\n",
    "decomposed.resid['2018-08-14-00:00:00':'2018-08-15-00:00:00'].plot(figsize=(9,4), color='r', label='Остатки')\n",
    "plt.legend()\n",
    "plt.show()"
   ]
  },
  {
   "cell_type": "markdown",
   "metadata": {},
   "source": [
    "Как видно из графика больше всего вызовов приходится на 12 часов ночи. Спад - 6 утра. Еще один пик наблюдаем примерно в 16:00. По остаткам видно, как много выбросов."
   ]
  },
  {
   "cell_type": "markdown",
   "metadata": {},
   "source": [
    "# Вывод"
   ]
  },
  {
   "cell_type": "markdown",
   "metadata": {},
   "source": [
    "В результате анализа временного ряда было установлено следующее:\n",
    "\n",
    "1. Среднее количество заказов такси в час составляет 78; \n",
    "2. На протяжении всего исследуемого периода наблюдается тенденция к увеличению числа заказов - рост тренда;\n",
    "3. Данные отражают \"сезонность\" : наибольшая загруженность приходится на 12 часов ночи и 4-5 часов вечера, наименьшая - в 6-7 утра."
   ]
  },
  {
   "cell_type": "markdown",
   "metadata": {},
   "source": [
    "## Обучение"
   ]
  },
  {
   "cell_type": "markdown",
   "metadata": {},
   "source": [
    "Для обучения выберем простой алгоритм:\n",
    "\n",
    "* `LinearRegression`\n",
    "\n",
    "и несколько ансамблиевых:\n",
    "*  `RandomForestRegressor`\n",
    "* `CatBoostRegressor`\n",
    "* `LGBMRegressor`"
   ]
  },
  {
   "cell_type": "markdown",
   "metadata": {},
   "source": [
    "Подготовим данные для обучения. \n",
    "\n",
    "Напишем функцию для создания признаков: "
   ]
  },
  {
   "cell_type": "code",
   "execution_count": 12,
   "metadata": {},
   "outputs": [],
   "source": [
    "def make_features(data, max_lag, rolling_mean_size):\n",
    "    data['month'] = data.index.month\n",
    "    data['day'] = data.index.day\n",
    "    data['dayofweek'] = data.index.dayofweek\n",
    "    data['hour'] = data.index.hour\n",
    "    data['minute'] = data.index.minute\n",
    "    \n",
    "    for lag in range(1, max_lag + 1):\n",
    "        data['lag_{}'.format(lag)] = data['num_orders'].shift(lag)\n",
    "\n",
    "    data['rolling_mean'] = data['num_orders'].shift().rolling(rolling_mean_size).mean()"
   ]
  },
  {
   "cell_type": "markdown",
   "metadata": {},
   "source": [
    "Подберем аргументы функции так, чтобы достичь качества метрики не менее 48:"
   ]
  },
  {
   "cell_type": "code",
   "execution_count": 13,
   "metadata": {},
   "outputs": [],
   "source": [
    "make_features(data, 20, 24)"
   ]
  },
  {
   "cell_type": "markdown",
   "metadata": {},
   "source": [
    "Разобьем данные на обучающую, валидационную и тестовую выборки:"
   ]
  },
  {
   "cell_type": "code",
   "execution_count": 14,
   "metadata": {},
   "outputs": [],
   "source": [
    "train, supp = train_test_split(data, test_size=.25, shuffle=False)\n",
    "valid, test = train_test_split(supp, test_size=.40, shuffle=False)"
   ]
  },
  {
   "cell_type": "code",
   "execution_count": 15,
   "metadata": {},
   "outputs": [],
   "source": [
    "train.dropna(inplace=True)"
   ]
  },
  {
   "cell_type": "code",
   "execution_count": 16,
   "metadata": {},
   "outputs": [
    {
     "name": "stdout",
     "output_type": "stream",
     "text": [
      "Размер обучающей выборки: 3288\n",
      "Размер валидационной выборки: 662\n",
      "Размер тестовой выборки: 442\n"
     ]
    }
   ],
   "source": [
    "print('Размер обучающей выборки:', train.shape[0])\n",
    "print('Размер валидационной выборки:', valid.shape[0])\n",
    "print('Размер тестовой выборки:', test.shape[0]) "
   ]
  },
  {
   "cell_type": "markdown",
   "metadata": {},
   "source": [
    "Тестовая выборка составляет примерно 10% от исходной. Размерность соблюдена верно."
   ]
  },
  {
   "cell_type": "markdown",
   "metadata": {},
   "source": [
    "Напечатаем минимальные и максимальные значения индексов выборок, чтобы убедиться в корректности деления:"
   ]
  },
  {
   "cell_type": "code",
   "execution_count": 17,
   "metadata": {
    "scrolled": true
   },
   "outputs": [
    {
     "name": "stdout",
     "output_type": "stream",
     "text": [
      "2018-03-02 00:00:00 2018-07-16 23:00:00\n",
      "2018-07-17 00:00:00 2018-08-13 13:00:00\n",
      "2018-08-13 14:00:00 2018-08-31 23:00:00\n"
     ]
    }
   ],
   "source": [
    "print(train.index.min(), train.index.max())\n",
    "print(valid.index.min(), valid.index.max())\n",
    "print(test.index.min(), test.index.max())"
   ]
  },
  {
   "cell_type": "markdown",
   "metadata": {},
   "source": [
    "Все в порядке, данные разбиты корректно."
   ]
  },
  {
   "cell_type": "markdown",
   "metadata": {},
   "source": [
    "Для каждой выборки определим признаки и целевой признак:"
   ]
  },
  {
   "cell_type": "code",
   "execution_count": 18,
   "metadata": {},
   "outputs": [],
   "source": [
    "X_train = train.drop(['num_orders'], axis=1)\n",
    "X_valid = valid.drop(['num_orders'], axis=1)\n",
    "X_test = test.drop(['num_orders'], axis=1)\n",
    "\n",
    "y_train = train['num_orders']\n",
    "y_valid = valid['num_orders']\n",
    "y_test = test['num_orders']"
   ]
  },
  {
   "cell_type": "markdown",
   "metadata": {},
   "source": [
    "Приступим к обучению."
   ]
  },
  {
   "cell_type": "markdown",
   "metadata": {},
   "source": [
    "### LinearRegression()"
   ]
  },
  {
   "cell_type": "code",
   "execution_count": 19,
   "metadata": {},
   "outputs": [
    {
     "name": "stdout",
     "output_type": "stream",
     "text": [
      "RMSE: 34.92\n"
     ]
    }
   ],
   "source": [
    "LR_model = LinearRegression()\n",
    "LR_model.fit(X_train, y_train)\n",
    "LR_preds = LR_model.predict(X_valid)\n",
    "LR_rmse = mean_squared_error(y_valid, LR_preds)**0.5\n",
    "print('RMSE: {:.2f}'.format(LR_rmse))"
   ]
  },
  {
   "cell_type": "markdown",
   "metadata": {},
   "source": [
    "### RandomForestRegressor()"
   ]
  },
  {
   "cell_type": "code",
   "execution_count": 20,
   "metadata": {
    "scrolled": true
   },
   "outputs": [
    {
     "name": "stdout",
     "output_type": "stream",
     "text": [
      "RMSE: 33.18\n"
     ]
    }
   ],
   "source": [
    "RF_model=RandomForestRegressor(max_depth=8, n_estimators=300)\n",
    "RF_model.fit(X_train, y_train)\n",
    "RF_preds = RF_model.predict(X_valid)\n",
    "RF_rmse = mean_squared_error(y_valid, RF_preds)**0.5\n",
    "print('RMSE: {:.2f}'.format(RF_rmse))"
   ]
  },
  {
   "cell_type": "markdown",
   "metadata": {},
   "source": [
    "### CatBoostRegressor()"
   ]
  },
  {
   "cell_type": "code",
   "execution_count": 21,
   "metadata": {},
   "outputs": [
    {
     "name": "stdout",
     "output_type": "stream",
     "text": [
      "RMSE: 31.75\n"
     ]
    }
   ],
   "source": [
    "Cat_model = CatBoostRegressor(depth=6, iterations=300, learning_rate=0.05, loss_function='RMSE',  verbose=0)\n",
    "Cat_model.fit(X_train, y_train)\n",
    "Cat_preds = Cat_model.predict(X_valid)\n",
    "Cat_rmse = mean_squared_error(y_valid, Cat_preds)**0.5\n",
    "print('RMSE: {:.2f}'.format(Cat_rmse))"
   ]
  },
  {
   "cell_type": "markdown",
   "metadata": {},
   "source": [
    "### LGBMRegressor()"
   ]
  },
  {
   "cell_type": "code",
   "execution_count": 22,
   "metadata": {},
   "outputs": [
    {
     "name": "stdout",
     "output_type": "stream",
     "text": [
      "RMSE: 30.86\n"
     ]
    }
   ],
   "source": [
    "LG_model = LGBMRegressor(max_depth=6, n_estimators=300, learning_rate = 0.05, objective='RMSE', verbose=0)\n",
    "LG_model.fit(X_train, y_train)\n",
    "LG_preds = LG_model.predict(X_valid)\n",
    "LG_rmse = mean_squared_error(y_valid, LG_preds).mean()**0.5\n",
    "print('RMSE: {:.2f}'.format(LG_rmse))"
   ]
  },
  {
   "cell_type": "markdown",
   "metadata": {},
   "source": [
    "Оценим модель на качество с помощью прогнозирования нового значение  𝑥(𝑡)  предыдущим значением ряда  𝑥(𝑡−1):"
   ]
  },
  {
   "cell_type": "code",
   "execution_count": 23,
   "metadata": {},
   "outputs": [
    {
     "name": "stdout",
     "output_type": "stream",
     "text": [
      "RMSE: 40.30\n"
     ]
    }
   ],
   "source": [
    "pred_previous = valid.shift()\n",
    "pred_previous.iloc[0]= train.iloc[train.shape[0]-1] \n",
    "pred_valid_rmse = mean_squared_error(valid, pred_previous)**0.5\n",
    "print('RMSE: {:.2f}'.format(pred_valid_rmse))"
   ]
  },
  {
   "cell_type": "markdown",
   "metadata": {},
   "source": [
    "RMSE всех моделей значительно лучше данного результата - проверка на качество пройдена."
   ]
  },
  {
   "cell_type": "markdown",
   "metadata": {},
   "source": [
    "Выведим результат в одну таблицу:"
   ]
  },
  {
   "cell_type": "code",
   "execution_count": 24,
   "metadata": {},
   "outputs": [
    {
     "data": {
      "text/html": [
       "<div>\n",
       "<style scoped>\n",
       "    .dataframe tbody tr th:only-of-type {\n",
       "        vertical-align: middle;\n",
       "    }\n",
       "\n",
       "    .dataframe tbody tr th {\n",
       "        vertical-align: top;\n",
       "    }\n",
       "\n",
       "    .dataframe thead th {\n",
       "        text-align: right;\n",
       "    }\n",
       "</style>\n",
       "<table border=\"1\" class=\"dataframe\">\n",
       "  <thead>\n",
       "    <tr style=\"text-align: right;\">\n",
       "      <th></th>\n",
       "      <th>RMSE_valid</th>\n",
       "    </tr>\n",
       "  </thead>\n",
       "  <tbody>\n",
       "    <tr>\n",
       "      <td>LGBMRegressor</td>\n",
       "      <td>30.863485</td>\n",
       "    </tr>\n",
       "    <tr>\n",
       "      <td>CatBoostRegressor</td>\n",
       "      <td>31.753390</td>\n",
       "    </tr>\n",
       "    <tr>\n",
       "      <td>RandomForestRegressor</td>\n",
       "      <td>33.175606</td>\n",
       "    </tr>\n",
       "    <tr>\n",
       "      <td>LinearRegressor</td>\n",
       "      <td>34.915960</td>\n",
       "    </tr>\n",
       "    <tr>\n",
       "      <td>Baseline</td>\n",
       "      <td>40.302132</td>\n",
       "    </tr>\n",
       "  </tbody>\n",
       "</table>\n",
       "</div>"
      ],
      "text/plain": [
       "                       RMSE_valid\n",
       "LGBMRegressor           30.863485\n",
       "CatBoostRegressor       31.753390\n",
       "RandomForestRegressor   33.175606\n",
       "LinearRegressor         34.915960\n",
       "Baseline                40.302132"
      ]
     },
     "execution_count": 24,
     "metadata": {},
     "output_type": "execute_result"
    }
   ],
   "source": [
    "rmse_valid = pd.DataFrame([pred_valid_rmse, LR_rmse, RF_rmse,  Cat_rmse, LG_rmse],\n",
    "                       columns = ['RMSE_valid'], \n",
    "                       index = ['Baseline','LinearRegressor','RandomForestRegressor', \n",
    "                                'CatBoostRegressor', 'LGBMRegressor']).sort_values(by='RMSE_valid')\n",
    "rmse_valid"
   ]
  },
  {
   "cell_type": "markdown",
   "metadata": {},
   "source": [
    "С выбранными аргументами функции *make_features()* значение RMSE < 48 получили все модели. Наилучшей оказалась модель LGBMRegressor."
   ]
  },
  {
   "cell_type": "markdown",
   "metadata": {},
   "source": [
    "# Вывод"
   ]
  },
  {
   "cell_type": "markdown",
   "metadata": {},
   "source": [
    "Для обучения было выбрано 4 алгоритма. Была написана функция для создания признаков. Подобраные для нее аргументы позволили получить на валидационной выборке значения метрики ниже требуемого (rmse=48). При этом лучше всего себя показала модель LGBMRegressor."
   ]
  },
  {
   "cell_type": "markdown",
   "metadata": {},
   "source": [
    "## Тестирование"
   ]
  },
  {
   "cell_type": "markdown",
   "metadata": {},
   "source": [
    "Проверим модели с подобранными параметрами на тестовой выборке:"
   ]
  },
  {
   "cell_type": "markdown",
   "metadata": {},
   "source": [
    "### LinearRegression()"
   ]
  },
  {
   "cell_type": "code",
   "execution_count": 25,
   "metadata": {},
   "outputs": [
    {
     "name": "stdout",
     "output_type": "stream",
     "text": [
      "RMSE: 47.39\n"
     ]
    }
   ],
   "source": [
    "LR_test = LinearRegression()\n",
    "LR_test.fit(X_train, y_train)\n",
    "LR_test_preds = LR_test.predict(X_test)\n",
    "LR_test_rmse = mean_squared_error(y_test, LR_test_preds)**0.5\n",
    "print('RMSE: {:.2f}'.format(LR_test_rmse))"
   ]
  },
  {
   "cell_type": "markdown",
   "metadata": {},
   "source": [
    "### RandomForestRegressor()"
   ]
  },
  {
   "cell_type": "code",
   "execution_count": 26,
   "metadata": {
    "scrolled": true
   },
   "outputs": [
    {
     "name": "stdout",
     "output_type": "stream",
     "text": [
      "RMSE: 59.26\n"
     ]
    }
   ],
   "source": [
    "RF_test = RandomForestRegressor(max_depth=8, n_estimators=300)\n",
    "RF_test.fit(X_train, y_train)\n",
    "RF_test_preds = RF_test.predict(X_test)\n",
    "RF_test_rmse = mean_squared_error(y_test, RF_test_preds)**0.5\n",
    "print('RMSE: {:.2f}'.format(RF_test_rmse))"
   ]
  },
  {
   "cell_type": "markdown",
   "metadata": {},
   "source": [
    "### CatBoostRegressor()"
   ]
  },
  {
   "cell_type": "code",
   "execution_count": 27,
   "metadata": {},
   "outputs": [
    {
     "name": "stdout",
     "output_type": "stream",
     "text": [
      "RMSE: 58.43\n"
     ]
    }
   ],
   "source": [
    "Cat_test = CatBoostRegressor(depth=6, iterations=300, learning_rate=0.05, loss_function='RMSE',  verbose=0)\n",
    "Cat_test.fit(X_train, y_train)\n",
    "Cat_test_preds = Cat_test.predict(X_test)\n",
    "Cat_test_rmse = mean_squared_error(y_test, Cat_test_preds)**0.5\n",
    "print('RMSE: {:.2f}'.format(Cat_test_rmse))"
   ]
  },
  {
   "cell_type": "markdown",
   "metadata": {},
   "source": [
    "### LGBMRegressor()"
   ]
  },
  {
   "cell_type": "code",
   "execution_count": 28,
   "metadata": {},
   "outputs": [
    {
     "name": "stdout",
     "output_type": "stream",
     "text": [
      "RMSE: 56.58\n"
     ]
    }
   ],
   "source": [
    "LG_test = LGBMRegressor(max_depth=6, n_estimators=300, learning_rate = 0.05, objective='RMSE', verbose=0)\n",
    "LG_test.fit(X_train, y_train)\n",
    "LG_test_preds = LG_test.predict(X_test)\n",
    "LG_test_rmse = mean_squared_error(y_test, LG_test_preds).mean()** 0.5\n",
    "print('RMSE: {:.2f}'.format(LG_test_rmse))"
   ]
  },
  {
   "cell_type": "markdown",
   "metadata": {},
   "source": [
    "Оценим модели на качество: "
   ]
  },
  {
   "cell_type": "code",
   "execution_count": 29,
   "metadata": {},
   "outputs": [
    {
     "name": "stdout",
     "output_type": "stream",
     "text": [
      "RMSE: 58.85\n"
     ]
    }
   ],
   "source": [
    "pred_previous = y_test.shift()\n",
    "pred_previous.iloc[0]= y_train.iloc[y_train.shape[0]-1] \n",
    "pred_test_rmse = mean_squared_error(y_test, pred_previous)**0.5\n",
    "print('RMSE: {:.2f}'.format(pred_test_rmse))"
   ]
  },
  {
   "cell_type": "markdown",
   "metadata": {},
   "source": [
    "Выведим общую таблицу со значениями валидационной и тестовой выборки:"
   ]
  },
  {
   "cell_type": "code",
   "execution_count": 30,
   "metadata": {},
   "outputs": [
    {
     "data": {
      "text/html": [
       "<div>\n",
       "<style scoped>\n",
       "    .dataframe tbody tr th:only-of-type {\n",
       "        vertical-align: middle;\n",
       "    }\n",
       "\n",
       "    .dataframe tbody tr th {\n",
       "        vertical-align: top;\n",
       "    }\n",
       "\n",
       "    .dataframe thead th {\n",
       "        text-align: right;\n",
       "    }\n",
       "</style>\n",
       "<table border=\"1\" class=\"dataframe\">\n",
       "  <thead>\n",
       "    <tr style=\"text-align: right;\">\n",
       "      <th></th>\n",
       "      <th>RMSE_valid</th>\n",
       "      <th>RMSE_test</th>\n",
       "    </tr>\n",
       "  </thead>\n",
       "  <tbody>\n",
       "    <tr>\n",
       "      <td>LinearRegressor</td>\n",
       "      <td>34.915960</td>\n",
       "      <td>47.393674</td>\n",
       "    </tr>\n",
       "    <tr>\n",
       "      <td>RandomForestRegressor</td>\n",
       "      <td>33.175606</td>\n",
       "      <td>59.260453</td>\n",
       "    </tr>\n",
       "    <tr>\n",
       "      <td>CatBoostRegressor</td>\n",
       "      <td>31.753390</td>\n",
       "      <td>58.428205</td>\n",
       "    </tr>\n",
       "    <tr>\n",
       "      <td>LGBMRegressor</td>\n",
       "      <td>30.863485</td>\n",
       "      <td>56.583902</td>\n",
       "    </tr>\n",
       "  </tbody>\n",
       "</table>\n",
       "</div>"
      ],
      "text/plain": [
       "                       RMSE_valid  RMSE_test\n",
       "LinearRegressor         34.915960  47.393674\n",
       "RandomForestRegressor   33.175606  59.260453\n",
       "CatBoostRegressor       31.753390  58.428205\n",
       "LGBMRegressor           30.863485  56.583902"
      ]
     },
     "execution_count": 30,
     "metadata": {},
     "output_type": "execute_result"
    }
   ],
   "source": [
    "rmse_table = pd.DataFrame(data = [[LR_rmse,LR_test_rmse], [RF_rmse, RF_test_rmse], \n",
    "                                  [Cat_rmse,  Cat_test_rmse], [LG_rmse,LG_test_rmse]],                            \n",
    "                       columns = ['RMSE_valid', 'RMSE_test'], \n",
    "                       index = ['LinearRegressor','RandomForestRegressor', \n",
    "                                'CatBoostRegressor', 'LGBMRegressor'])\n",
    "rmse_table"
   ]
  },
  {
   "cell_type": "markdown",
   "metadata": {},
   "source": [
    "Результаты обучения моделей неудовлетворительные. Все модели, кроме линейной регрессии, показали результат, превышающий допустимый с отклонением в 48 заказов/час. Модель линейной регрессии оказалась на грани этого показателя.   "
   ]
  },
  {
   "cell_type": "markdown",
   "metadata": {},
   "source": [
    "## Общий вывод"
   ]
  },
  {
   "cell_type": "markdown",
   "metadata": {},
   "source": [
    "В рамках данного проекта:\n",
    "\n",
    "* было проведено чтение и подготовка данных;\n",
    "* был проведен анализ временно ряда. В результате выявлено устойчивое возрастание тренда. Также наблюдалась \"сезонность\" относительно числа заказов такси в течение суток. Выяснилось, что пик заказов приходится на 12 часов ночи и на ранний вечер (16:00 - 17:00), максимальный спад зафиксирован ранним утром (6-7 часов утра). \n",
    "* для определения пиковой загруженности и необходимости привлечения большего числа водителей были выбраны несколько моделей обучения, показавшие на валидацинной выборке довольно высокое качество предсказаний. Тем не менее, в результате тестирования модели допустили больше ошибок. Только линейная регрессия осталась в рамках требуемого значения метрики RMSE. "
   ]
  }
 ],
 "metadata": {
  "ExecuteTimeLog": [
   {
    "duration": 6,
    "start_time": "2021-06-26T18:00:54.647Z"
   },
   {
    "duration": 1490,
    "start_time": "2021-06-26T18:01:19.330Z"
   },
   {
    "duration": 48,
    "start_time": "2021-06-26T18:01:20.822Z"
   },
   {
    "duration": 12,
    "start_time": "2021-06-26T18:01:20.874Z"
   },
   {
    "duration": 8,
    "start_time": "2021-06-26T18:01:20.889Z"
   },
   {
    "duration": 5,
    "start_time": "2021-06-26T18:01:20.899Z"
   },
   {
    "duration": 54,
    "start_time": "2021-06-26T18:01:20.906Z"
   },
   {
    "duration": 15,
    "start_time": "2021-06-26T18:01:20.962Z"
   },
   {
    "duration": 645,
    "start_time": "2021-06-26T18:01:20.980Z"
   },
   {
    "duration": 9,
    "start_time": "2021-06-26T18:01:25.175Z"
   },
   {
    "duration": 1600,
    "start_time": "2021-06-26T18:01:25.187Z"
   },
   {
    "duration": 384,
    "start_time": "2021-06-26T18:01:26.790Z"
   },
   {
    "duration": 9,
    "start_time": "2021-06-26T18:01:27.178Z"
   },
   {
    "duration": 385,
    "start_time": "2021-06-26T18:01:27.190Z"
   },
   {
    "duration": -1054,
    "start_time": "2021-06-26T18:01:28.633Z"
   },
   {
    "duration": -1072,
    "start_time": "2021-06-26T18:01:28.653Z"
   },
   {
    "duration": -1085,
    "start_time": "2021-06-26T18:01:28.668Z"
   },
   {
    "duration": -1095,
    "start_time": "2021-06-26T18:01:28.681Z"
   },
   {
    "duration": -1107,
    "start_time": "2021-06-26T18:01:28.695Z"
   },
   {
    "duration": -1221,
    "start_time": "2021-06-26T18:01:28.811Z"
   },
   {
    "duration": -1238,
    "start_time": "2021-06-26T18:01:28.831Z"
   },
   {
    "duration": -1253,
    "start_time": "2021-06-26T18:01:28.849Z"
   },
   {
    "duration": -1268,
    "start_time": "2021-06-26T18:01:28.866Z"
   },
   {
    "duration": -1281,
    "start_time": "2021-06-26T18:01:28.882Z"
   },
   {
    "duration": -1299,
    "start_time": "2021-06-26T18:01:28.902Z"
   },
   {
    "duration": -1324,
    "start_time": "2021-06-26T18:01:28.929Z"
   },
   {
    "duration": -1338,
    "start_time": "2021-06-26T18:01:28.945Z"
   },
   {
    "duration": -1357,
    "start_time": "2021-06-26T18:01:28.967Z"
   },
   {
    "duration": -1373,
    "start_time": "2021-06-26T18:01:28.985Z"
   },
   {
    "duration": -1386,
    "start_time": "2021-06-26T18:01:29.000Z"
   },
   {
    "duration": -1398,
    "start_time": "2021-06-26T18:01:29.014Z"
   },
   {
    "duration": 528,
    "start_time": "2021-06-26T18:03:41.765Z"
   },
   {
    "duration": 6,
    "start_time": "2021-06-26T18:03:49.442Z"
   },
   {
    "duration": 35,
    "start_time": "2021-06-26T18:03:52.046Z"
   },
   {
    "duration": 6,
    "start_time": "2021-06-26T18:04:36.675Z"
   },
   {
    "duration": 251,
    "start_time": "2021-06-26T18:06:51.964Z"
   },
   {
    "duration": 6,
    "start_time": "2021-06-26T18:08:00.312Z"
   },
   {
    "duration": 243,
    "start_time": "2021-06-26T18:08:02.621Z"
   },
   {
    "duration": 77,
    "start_time": "2021-06-26T18:10:59.027Z"
   },
   {
    "duration": 6,
    "start_time": "2021-06-26T18:11:10.949Z"
   },
   {
    "duration": 255,
    "start_time": "2021-06-26T18:11:14.562Z"
   },
   {
    "duration": 266,
    "start_time": "2021-06-26T18:11:23.337Z"
   },
   {
    "duration": 263,
    "start_time": "2021-06-26T18:12:10.192Z"
   },
   {
    "duration": 6,
    "start_time": "2021-06-26T18:12:16.859Z"
   },
   {
    "duration": 474,
    "start_time": "2021-06-26T18:12:19.069Z"
   },
   {
    "duration": 5,
    "start_time": "2021-06-26T18:12:47.898Z"
   },
   {
    "duration": 19,
    "start_time": "2021-06-26T18:12:49.191Z"
   },
   {
    "duration": 11,
    "start_time": "2021-06-26T18:12:58.174Z"
   },
   {
    "duration": 8,
    "start_time": "2021-06-26T18:12:59.342Z"
   },
   {
    "duration": 6,
    "start_time": "2021-06-26T18:13:00.640Z"
   },
   {
    "duration": 7,
    "start_time": "2021-06-26T18:13:05.671Z"
   },
   {
    "duration": 9,
    "start_time": "2021-06-26T18:20:16.476Z"
   },
   {
    "duration": 8,
    "start_time": "2021-06-26T18:20:17.472Z"
   },
   {
    "duration": 7,
    "start_time": "2021-06-26T18:20:20.105Z"
   },
   {
    "duration": 8,
    "start_time": "2021-06-26T18:20:46.755Z"
   },
   {
    "duration": 148,
    "start_time": "2021-06-26T18:20:58.710Z"
   },
   {
    "duration": 7969,
    "start_time": "2021-06-26T18:21:03.299Z"
   },
   {
    "duration": 8740,
    "start_time": "2021-06-26T18:21:19.478Z"
   },
   {
    "duration": 8755,
    "start_time": "2021-06-26T18:23:28.077Z"
   },
   {
    "duration": 3436,
    "start_time": "2021-06-26T18:23:41.321Z"
   },
   {
    "duration": 12,
    "start_time": "2021-06-26T18:23:52.057Z"
   },
   {
    "duration": 11,
    "start_time": "2021-06-26T18:24:43.432Z"
   },
   {
    "duration": 12,
    "start_time": "2021-06-26T18:27:42.471Z"
   },
   {
    "duration": 14,
    "start_time": "2021-06-26T18:28:49.305Z"
   },
   {
    "duration": 8120,
    "start_time": "2021-06-26T18:28:51.136Z"
   },
   {
    "duration": 10069,
    "start_time": "2021-06-26T18:28:59.258Z"
   },
   {
    "duration": 5531,
    "start_time": "2021-06-26T18:29:09.330Z"
   },
   {
    "duration": 7,
    "start_time": "2021-06-26T18:29:25.512Z"
   },
   {
    "duration": 12,
    "start_time": "2021-06-26T18:29:32.205Z"
   },
   {
    "duration": 7031,
    "start_time": "2021-06-26T18:32:55.456Z"
   },
   {
    "duration": 370,
    "start_time": "2021-06-26T18:33:02.489Z"
   },
   {
    "duration": 13,
    "start_time": "2021-06-26T18:33:02.862Z"
   },
   {
    "duration": 78,
    "start_time": "2021-06-26T18:33:02.878Z"
   },
   {
    "duration": 6,
    "start_time": "2021-06-26T18:33:02.958Z"
   },
   {
    "duration": 20,
    "start_time": "2021-06-26T18:33:02.966Z"
   },
   {
    "duration": 74,
    "start_time": "2021-06-26T18:33:02.988Z"
   },
   {
    "duration": 3795,
    "start_time": "2021-06-26T18:33:03.065Z"
   },
   {
    "duration": 104,
    "start_time": "2021-06-26T18:33:06.955Z"
   },
   {
    "duration": 8829,
    "start_time": "2021-06-26T18:33:07.063Z"
   },
   {
    "duration": 1907,
    "start_time": "2021-06-26T18:33:15.955Z"
   },
   {
    "duration": 92,
    "start_time": "2021-06-26T18:33:17.865Z"
   },
   {
    "duration": 9799,
    "start_time": "2021-06-26T18:33:17.960Z"
   },
   {
    "duration": -233,
    "start_time": "2021-06-26T18:33:27.996Z"
   },
   {
    "duration": -280,
    "start_time": "2021-06-26T18:33:28.044Z"
   },
   {
    "duration": -294,
    "start_time": "2021-06-26T18:33:28.060Z"
   },
   {
    "duration": -228,
    "start_time": "2021-06-26T18:33:28.086Z"
   },
   {
    "duration": -240,
    "start_time": "2021-06-26T18:33:28.100Z"
   },
   {
    "duration": -251,
    "start_time": "2021-06-26T18:33:28.114Z"
   },
   {
    "duration": -263,
    "start_time": "2021-06-26T18:33:28.127Z"
   },
   {
    "duration": -275,
    "start_time": "2021-06-26T18:33:28.141Z"
   },
   {
    "duration": -284,
    "start_time": "2021-06-26T18:33:28.152Z"
   },
   {
    "duration": -296,
    "start_time": "2021-06-26T18:33:28.165Z"
   },
   {
    "duration": -307,
    "start_time": "2021-06-26T18:33:28.177Z"
   },
   {
    "duration": -251,
    "start_time": "2021-06-26T18:33:28.207Z"
   },
   {
    "duration": -261,
    "start_time": "2021-06-26T18:33:28.219Z"
   },
   {
    "duration": -276,
    "start_time": "2021-06-26T18:33:28.235Z"
   },
   {
    "duration": -287,
    "start_time": "2021-06-26T18:33:28.248Z"
   },
   {
    "duration": -299,
    "start_time": "2021-06-26T18:33:28.261Z"
   },
   {
    "duration": -308,
    "start_time": "2021-06-26T18:33:28.272Z"
   },
   {
    "duration": 6,
    "start_time": "2021-06-26T18:35:48.357Z"
   },
   {
    "duration": 22,
    "start_time": "2021-06-26T18:35:49.857Z"
   },
   {
    "duration": 6503,
    "start_time": "2021-06-26T18:36:03.862Z"
   },
   {
    "duration": 402,
    "start_time": "2021-06-26T18:36:10.459Z"
   },
   {
    "duration": 13,
    "start_time": "2021-06-26T18:36:10.863Z"
   },
   {
    "duration": 13,
    "start_time": "2021-06-26T18:36:10.878Z"
   },
   {
    "duration": 5,
    "start_time": "2021-06-26T18:36:10.957Z"
   },
   {
    "duration": 21,
    "start_time": "2021-06-26T18:36:10.964Z"
   },
   {
    "duration": 168,
    "start_time": "2021-06-26T18:36:10.988Z"
   },
   {
    "duration": 3809,
    "start_time": "2021-06-26T18:36:11.257Z"
   },
   {
    "duration": 9,
    "start_time": "2021-06-26T18:36:15.158Z"
   },
   {
    "duration": 8502,
    "start_time": "2021-06-26T18:36:15.170Z"
   },
   {
    "duration": 2290,
    "start_time": "2021-06-26T18:36:23.675Z"
   },
   {
    "duration": 6,
    "start_time": "2021-06-26T18:36:25.967Z"
   },
   {
    "duration": 123,
    "start_time": "2021-06-26T18:36:25.976Z"
   },
   {
    "duration": 101,
    "start_time": "2021-06-26T18:36:26.156Z"
   },
   {
    "duration": 97,
    "start_time": "2021-06-26T18:36:26.260Z"
   },
   {
    "duration": 6,
    "start_time": "2021-06-26T18:36:26.362Z"
   },
   {
    "duration": 7,
    "start_time": "2021-06-26T18:36:26.370Z"
   },
   {
    "duration": 9,
    "start_time": "2021-06-26T18:36:26.457Z"
   },
   {
    "duration": 90,
    "start_time": "2021-06-26T18:36:26.469Z"
   },
   {
    "duration": 44500,
    "start_time": "2021-06-26T18:36:26.562Z"
   },
   {
    "duration": 23110,
    "start_time": "2021-06-26T18:37:11.064Z"
   },
   {
    "duration": 72582,
    "start_time": "2021-06-26T18:37:34.179Z"
   },
   {
    "duration": 12,
    "start_time": "2021-06-26T18:38:46.764Z"
   },
   {
    "duration": 16,
    "start_time": "2021-06-26T18:38:46.857Z"
   },
   {
    "duration": 198,
    "start_time": "2021-06-26T18:38:46.876Z"
   },
   {
    "duration": 43893,
    "start_time": "2021-06-26T18:38:47.166Z"
   },
   {
    "duration": 25301,
    "start_time": "2021-06-26T18:39:31.062Z"
   },
   {
    "duration": 30396,
    "start_time": "2021-06-26T18:39:56.367Z"
   },
   {
    "duration": 7,
    "start_time": "2021-06-26T18:40:26.766Z"
   },
   {
    "duration": 20,
    "start_time": "2021-06-26T18:40:26.775Z"
   },
   {
    "duration": 1509,
    "start_time": "2021-06-26T18:44:33.762Z"
   },
   {
    "duration": 50,
    "start_time": "2021-06-26T18:44:35.274Z"
   },
   {
    "duration": 15,
    "start_time": "2021-06-26T18:44:35.327Z"
   },
   {
    "duration": 9,
    "start_time": "2021-06-26T18:44:35.356Z"
   },
   {
    "duration": 6,
    "start_time": "2021-06-26T18:44:35.367Z"
   },
   {
    "duration": 23,
    "start_time": "2021-06-26T18:44:35.375Z"
   },
   {
    "duration": 16,
    "start_time": "2021-06-26T18:44:35.401Z"
   },
   {
    "duration": 638,
    "start_time": "2021-06-26T18:44:35.457Z"
   },
   {
    "duration": 11,
    "start_time": "2021-06-26T18:44:36.100Z"
   },
   {
    "duration": 1766,
    "start_time": "2021-06-26T18:44:36.113Z"
   },
   {
    "duration": 470,
    "start_time": "2021-06-26T18:44:37.881Z"
   },
   {
    "duration": 6,
    "start_time": "2021-06-26T18:44:38.356Z"
   },
   {
    "duration": 48,
    "start_time": "2021-06-26T18:44:38.364Z"
   },
   {
    "duration": 10,
    "start_time": "2021-06-26T18:44:38.415Z"
   },
   {
    "duration": 7,
    "start_time": "2021-06-26T18:44:38.427Z"
   },
   {
    "duration": 6,
    "start_time": "2021-06-26T18:44:38.456Z"
   },
   {
    "duration": 8,
    "start_time": "2021-06-26T18:44:38.465Z"
   },
   {
    "duration": 9,
    "start_time": "2021-06-26T18:44:38.476Z"
   },
   {
    "duration": 169,
    "start_time": "2021-06-26T18:44:38.487Z"
   },
   {
    "duration": 8010,
    "start_time": "2021-06-26T18:44:38.659Z"
   },
   {
    "duration": 8635,
    "start_time": "2021-06-26T18:44:46.672Z"
   },
   {
    "duration": 3850,
    "start_time": "2021-06-26T18:44:55.310Z"
   },
   {
    "duration": 9,
    "start_time": "2021-06-26T18:44:59.164Z"
   },
   {
    "duration": 13,
    "start_time": "2021-06-26T18:44:59.176Z"
   },
   {
    "duration": 99,
    "start_time": "2021-06-26T18:44:59.256Z"
   },
   {
    "duration": 8205,
    "start_time": "2021-06-26T18:44:59.363Z"
   },
   {
    "duration": 9273,
    "start_time": "2021-06-26T18:45:07.571Z"
   },
   {
    "duration": 3725,
    "start_time": "2021-06-26T18:45:16.846Z"
   },
   {
    "duration": 6,
    "start_time": "2021-06-26T18:45:20.574Z"
   },
   {
    "duration": 77,
    "start_time": "2021-06-26T18:45:20.583Z"
   },
   {
    "duration": 1454,
    "start_time": "2021-06-26T19:03:30.589Z"
   },
   {
    "duration": 48,
    "start_time": "2021-06-26T19:03:32.047Z"
   },
   {
    "duration": 13,
    "start_time": "2021-06-26T19:03:32.098Z"
   },
   {
    "duration": 15,
    "start_time": "2021-06-26T19:03:32.114Z"
   },
   {
    "duration": 25,
    "start_time": "2021-06-26T19:03:32.132Z"
   },
   {
    "duration": 26,
    "start_time": "2021-06-26T19:03:32.160Z"
   },
   {
    "duration": 16,
    "start_time": "2021-06-26T19:03:32.189Z"
   },
   {
    "duration": 765,
    "start_time": "2021-06-26T19:03:32.208Z"
   },
   {
    "duration": 9,
    "start_time": "2021-06-26T19:03:32.977Z"
   },
   {
    "duration": 2393,
    "start_time": "2021-06-26T19:03:32.988Z"
   },
   {
    "duration": 583,
    "start_time": "2021-06-26T19:03:35.383Z"
   },
   {
    "duration": 8,
    "start_time": "2021-06-26T19:03:35.969Z"
   },
   {
    "duration": 76,
    "start_time": "2021-06-26T19:03:35.980Z"
   },
   {
    "duration": 12,
    "start_time": "2021-06-26T19:03:36.059Z"
   },
   {
    "duration": 7,
    "start_time": "2021-06-26T19:03:36.074Z"
   },
   {
    "duration": 6,
    "start_time": "2021-06-26T19:03:36.084Z"
   },
   {
    "duration": 7,
    "start_time": "2021-06-26T19:03:36.092Z"
   },
   {
    "duration": 54,
    "start_time": "2021-06-26T19:03:36.102Z"
   },
   {
    "duration": 199,
    "start_time": "2021-06-26T19:03:36.159Z"
   },
   {
    "duration": 8313,
    "start_time": "2021-06-26T19:03:36.362Z"
   },
   {
    "duration": 9050,
    "start_time": "2021-06-26T19:03:44.677Z"
   },
   {
    "duration": 3437,
    "start_time": "2021-06-26T19:03:53.730Z"
   },
   {
    "duration": 11,
    "start_time": "2021-06-26T19:03:57.169Z"
   },
   {
    "duration": 83,
    "start_time": "2021-06-26T19:03:57.182Z"
   },
   {
    "duration": 189,
    "start_time": "2021-06-26T19:03:57.267Z"
   },
   {
    "duration": 8472,
    "start_time": "2021-06-26T19:03:57.459Z"
   },
   {
    "duration": 8833,
    "start_time": "2021-06-26T19:04:05.937Z"
   },
   {
    "duration": 3793,
    "start_time": "2021-06-26T19:04:14.772Z"
   },
   {
    "duration": 6,
    "start_time": "2021-06-26T19:04:18.568Z"
   },
   {
    "duration": 80,
    "start_time": "2021-06-26T19:04:18.577Z"
   }
  ],
  "kernelspec": {
   "display_name": "Python 3",
   "language": "python",
   "name": "python3"
  },
  "language_info": {
   "codemirror_mode": {
    "name": "ipython",
    "version": 3
   },
   "file_extension": ".py",
   "mimetype": "text/x-python",
   "name": "python",
   "nbconvert_exporter": "python",
   "pygments_lexer": "ipython3",
   "version": "3.7.8"
  },
  "toc": {
   "base_numbering": 1,
   "nav_menu": {},
   "number_sections": true,
   "sideBar": true,
   "skip_h1_title": true,
   "title_cell": "Содержание",
   "title_sidebar": "Contents",
   "toc_cell": true,
   "toc_position": {},
   "toc_section_display": true,
   "toc_window_display": false
  }
 },
 "nbformat": 4,
 "nbformat_minor": 2
}

