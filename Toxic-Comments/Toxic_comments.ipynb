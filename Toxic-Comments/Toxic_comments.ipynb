{
 "cells": [
  {
   "cell_type": "markdown",
   "metadata": {},
   "source": [
    
  },
  {
   "cell_type": "markdown",
   "metadata": {},
   "source": [
    "## Изучение и подготовка данных"
   ]
  },
  {
   "cell_type": "markdown",
   "metadata": {},
   "source": [
    "Загрузим необходимые библиотеки:"
   ]
  },
  {
   "cell_type": "code",
   "execution_count": 1,
   "metadata": {},
   "outputs": [],
   "source": [
    "import pandas as pd\n",
    "\n",
    "import re, nltk\n",
    "from nltk.stem import WordNetLemmatizer\n",
    "from nltk.corpus import stopwords as nltk_stopwords\n",
    "from sklearn.feature_extraction.text import TfidfVectorizer\n",
    "\n",
    "from sklearn.model_selection import train_test_split\n",
    "from sklearn.linear_model import LogisticRegression, SGDClassifier\n",
    "from catboost import CatBoostClassifier\n",
    "\n",
    "from sklearn.metrics import recall_score, precision_score, f1_score, confusion_matrix\n",
    "import  matplotlib.pyplot as plt\n",
    "import seaborn as sns\n",
    "\n",
    "import warnings\n",
    "warnings.simplefilter(\"ignore\")"
   ]
  },
  {
   "cell_type": "markdown",
   "metadata": {},
   "source": [
    "Загрузим и прочитаем файл:"
   ]
  },
  {
   "cell_type": "code",
   "execution_count": 2,
   "metadata": {},
   "outputs": [],
   "source": [
    "data = pd.read_csv('/datasets/toxic_comments.csv')"
   ]
  },
  {
   "cell_type": "markdown",
   "metadata": {},
   "source": [
    "Выведим на экран первые строки датасета:"
   ]
  },
  {
   "cell_type": "code",
   "execution_count": 3,
   "metadata": {},
   "outputs": [
    {
     "data": {
      "text/html": [
       "<div>\n",
       "<style scoped>\n",
       "    .dataframe tbody tr th:only-of-type {\n",
       "        vertical-align: middle;\n",
       "    }\n",
       "\n",
       "    .dataframe tbody tr th {\n",
       "        vertical-align: top;\n",
       "    }\n",
       "\n",
       "    .dataframe thead th {\n",
       "        text-align: right;\n",
       "    }\n",
       "</style>\n",
       "<table border=\"1\" class=\"dataframe\">\n",
       "  <thead>\n",
       "    <tr style=\"text-align: right;\">\n",
       "      <th></th>\n",
       "      <th>text</th>\n",
       "      <th>toxic</th>\n",
       "    </tr>\n",
       "  </thead>\n",
       "  <tbody>\n",
       "    <tr>\n",
       "      <td>0</td>\n",
       "      <td>Explanation\\nWhy the edits made under my usern...</td>\n",
       "      <td>0</td>\n",
       "    </tr>\n",
       "    <tr>\n",
       "      <td>1</td>\n",
       "      <td>D'aww! He matches this background colour I'm s...</td>\n",
       "      <td>0</td>\n",
       "    </tr>\n",
       "    <tr>\n",
       "      <td>2</td>\n",
       "      <td>Hey man, I'm really not trying to edit war. It...</td>\n",
       "      <td>0</td>\n",
       "    </tr>\n",
       "    <tr>\n",
       "      <td>3</td>\n",
       "      <td>\"\\nMore\\nI can't make any real suggestions on ...</td>\n",
       "      <td>0</td>\n",
       "    </tr>\n",
       "    <tr>\n",
       "      <td>4</td>\n",
       "      <td>You, sir, are my hero. Any chance you remember...</td>\n",
       "      <td>0</td>\n",
       "    </tr>\n",
       "  </tbody>\n",
       "</table>\n",
       "</div>"
      ],
      "text/plain": [
       "                                                text  toxic\n",
       "0  Explanation\\nWhy the edits made under my usern...      0\n",
       "1  D'aww! He matches this background colour I'm s...      0\n",
       "2  Hey man, I'm really not trying to edit war. It...      0\n",
       "3  \"\\nMore\\nI can't make any real suggestions on ...      0\n",
       "4  You, sir, are my hero. Any chance you remember...      0"
      ]
     },
     "execution_count": 3,
     "metadata": {},
     "output_type": "execute_result"
    }
   ],
   "source": [
    "data.head()"
   ]
  },
  {
   "cell_type": "markdown",
   "metadata": {},
   "source": [
    "Посмотрим общую информацию:"
   ]
  },
  {
   "cell_type": "code",
   "execution_count": 4,
   "metadata": {},
   "outputs": [
    {
     "name": "stdout",
     "output_type": "stream",
     "text": [
      "<class 'pandas.core.frame.DataFrame'>\n",
      "RangeIndex: 159571 entries, 0 to 159570\n",
      "Data columns (total 2 columns):\n",
      "text     159571 non-null object\n",
      "toxic    159571 non-null int64\n",
      "dtypes: int64(1), object(1)\n",
      "memory usage: 2.4+ MB\n"
     ]
    }
   ],
   "source": [
    "data.info()"
   ]
  },
  {
   "cell_type": "markdown",
   "metadata": {},
   "source": [
    "У нас два столбца с объектным и целочисленным типам данных. Пропусков нет. \n",
    "\n",
    "Посмотрим на соотношения \"позитивных\" и \"негативных\" комментариев:"
   ]
  },
  {
   "cell_type": "code",
   "execution_count": 5,
   "metadata": {},
   "outputs": [
    {
     "data": {
      "text/plain": [
       "0    0.898\n",
       "1    0.102\n",
       "Name: toxic, dtype: float64"
      ]
     },
     "execution_count": 5,
     "metadata": {},
     "output_type": "execute_result"
    }
   ],
   "source": [
    "data['toxic'].value_counts(normalize=True).round(3)"
   ]
  },
  {
   "cell_type": "markdown",
   "metadata": {},
   "source": [
    "10% комментариев токсичные и 90% нет. Классы несбалансированы - учтем это при разбиение датасета на выборки, использовав параметр *stratify=y*. "
   ]
  },
  {
   "cell_type": "markdown",
   "metadata": {},
   "source": [
    "Приступим к подготовке данных."
   ]
  },
  {
   "cell_type": "markdown",
   "metadata": {},
   "source": [
    "Очистим и лемматизируем текст:"
   ]
  },
  {
   "cell_type": "code",
   "execution_count": 6,
   "metadata": {},
   "outputs": [],
   "source": [
    "m = WordNetLemmatizer()\n",
    "\n",
    "def lemmatize(text):\n",
    "    text = text.lower() \n",
    "    clear_text = re.sub(r'[^a-zA-Z]', ' ', text) \n",
    "    split_text = \" \".join(clear_text.split())\n",
    "    lemm_text = \"\".join(m.lemmatize(split_text))\n",
    "   \n",
    "    return lemm_text\n",
    "\n",
    "data['lemm_text'] = data['text'].apply(lemmatize)"
   ]
  },
  {
   "cell_type": "markdown",
   "metadata": {},
   "source": [
    "Выведим на экран полученную таблицу:"
   ]
  },
  {
   "cell_type": "code",
   "execution_count": 7,
   "metadata": {
    "scrolled": true
   },
   "outputs": [
    {
     "data": {
      "text/html": [
       "<div>\n",
       "<style scoped>\n",
       "    .dataframe tbody tr th:only-of-type {\n",
       "        vertical-align: middle;\n",
       "    }\n",
       "\n",
       "    .dataframe tbody tr th {\n",
       "        vertical-align: top;\n",
       "    }\n",
       "\n",
       "    .dataframe thead th {\n",
       "        text-align: right;\n",
       "    }\n",
       "</style>\n",
       "<table border=\"1\" class=\"dataframe\">\n",
       "  <thead>\n",
       "    <tr style=\"text-align: right;\">\n",
       "      <th></th>\n",
       "      <th>text</th>\n",
       "      <th>toxic</th>\n",
       "      <th>lemm_text</th>\n",
       "    </tr>\n",
       "  </thead>\n",
       "  <tbody>\n",
       "    <tr>\n",
       "      <td>0</td>\n",
       "      <td>Explanation\\nWhy the edits made under my usern...</td>\n",
       "      <td>0</td>\n",
       "      <td>explanation why the edits made under my userna...</td>\n",
       "    </tr>\n",
       "    <tr>\n",
       "      <td>1</td>\n",
       "      <td>D'aww! He matches this background colour I'm s...</td>\n",
       "      <td>0</td>\n",
       "      <td>d aww he matches this background colour i m se...</td>\n",
       "    </tr>\n",
       "    <tr>\n",
       "      <td>2</td>\n",
       "      <td>Hey man, I'm really not trying to edit war. It...</td>\n",
       "      <td>0</td>\n",
       "      <td>hey man i m really not trying to edit war it s...</td>\n",
       "    </tr>\n",
       "    <tr>\n",
       "      <td>3</td>\n",
       "      <td>\"\\nMore\\nI can't make any real suggestions on ...</td>\n",
       "      <td>0</td>\n",
       "      <td>more i can t make any real suggestions on impr...</td>\n",
       "    </tr>\n",
       "    <tr>\n",
       "      <td>4</td>\n",
       "      <td>You, sir, are my hero. Any chance you remember...</td>\n",
       "      <td>0</td>\n",
       "      <td>you sir are my hero any chance you remember wh...</td>\n",
       "    </tr>\n",
       "  </tbody>\n",
       "</table>\n",
       "</div>"
      ],
      "text/plain": [
       "                                                text  toxic  \\\n",
       "0  Explanation\\nWhy the edits made under my usern...      0   \n",
       "1  D'aww! He matches this background colour I'm s...      0   \n",
       "2  Hey man, I'm really not trying to edit war. It...      0   \n",
       "3  \"\\nMore\\nI can't make any real suggestions on ...      0   \n",
       "4  You, sir, are my hero. Any chance you remember...      0   \n",
       "\n",
       "                                           lemm_text  \n",
       "0  explanation why the edits made under my userna...  \n",
       "1  d aww he matches this background colour i m se...  \n",
       "2  hey man i m really not trying to edit war it s...  \n",
       "3  more i can t make any real suggestions on impr...  \n",
       "4  you sir are my hero any chance you remember wh...  "
      ]
     },
     "execution_count": 7,
     "metadata": {},
     "output_type": "execute_result"
    }
   ],
   "source": [
    "data.head()"
   ]
  },
  {
   "cell_type": "markdown",
   "metadata": {},
   "source": [
    "Получили таблицу с комментариями до и после лемматезации + колонка с классификацией комментариев. "
   ]
  },
  {
   "cell_type": "markdown",
   "metadata": {},
   "source": [
    "# Вывод"
   ]
  },
  {
   "cell_type": "markdown",
   "metadata": {},
   "source": [
    "Мы произвели чтение и загрузку данных. Подготовили данные для обучения: лемматизировали и очистили комментарии, добавили столбец обработанного текста в таблицу. \n",
    "\n",
    "Можем приступать к обучению."
   ]
  },
  {
   "cell_type": "markdown",
   "metadata": {},
   "source": [
    "## Обучение"
   ]
  },
  {
   "cell_type": "markdown",
   "metadata": {},
   "source": [
    "### Подготовка к обучению"
   ]
  },
  {
   "cell_type": "markdown",
   "metadata": {},
   "source": [
    "Подготовим данные для обучения. \n",
    "\n",
    "Разобьем датасет на три выборки: трейн, валид и  тест. Сначала обучим модель на трейне и сделаем предсказание на валиде. Выбрав лучшую модель, проверим качество предсказаний на тесте. "
   ]
  },
  {
   "cell_type": "markdown",
   "metadata": {},
   "source": [
    "В исследовании будем использовать 3 алгоритма:\n",
    "\n",
    "1. LogisticRegression()\n",
    "2. SGDClassifier()\n",
    "3. CatBoostClassifier()\n",
    "\n",
    "Сравним, какая из моделей покажет более высокое качество предсказаний. "
   ]
  },
  {
   "cell_type": "markdown",
   "metadata": {},
   "source": [
    "Выделим признак и целевой признак:"
   ]
  },
  {
   "cell_type": "code",
   "execution_count": 8,
   "metadata": {},
   "outputs": [],
   "source": [
    "X = data['lemm_text']\n",
    "y = data['toxic']"
   ]
  },
  {
   "cell_type": "markdown",
   "metadata": {},
   "source": [
    "Разобьем датасет на обучающую, валидационную и тестовую выборку:"
   ]
  },
  {
   "cell_type": "code",
   "execution_count": 9,
   "metadata": {},
   "outputs": [],
   "source": [
    "X_train, X_valid, y_train, y_valid = train_test_split(X, y, stratify=y, test_size=0.4, random_state=12345)\n",
    "X_valid, X_test, y_valid, y_test = train_test_split(X_valid, y_valid, test_size=0.5, random_state=12345)"
   ]
  },
  {
   "cell_type": "markdown",
   "metadata": {},
   "source": [
    "Создадим матрицу cо значениями TF-IDF по корпусу текстов, указав стоп-слова:"
   ]
  },
  {
   "cell_type": "code",
   "execution_count": 10,
   "metadata": {},
   "outputs": [],
   "source": [
    "stop_words = set(nltk_stopwords.words('english'))\n",
    "tf_idf = TfidfVectorizer(stop_words=stop_words)"
   ]
  },
  {
   "cell_type": "markdown",
   "metadata": {},
   "source": [
    "Чтобы тестирование было честным и модель не учитывала частоты слов из валидационной/тестовой выборки, функцию *fit()* запустим только на обучающей выборке. Кроме того, это поможет избежать переобучение. "
   ]
  },
  {
   "cell_type": "code",
   "execution_count": 11,
   "metadata": {},
   "outputs": [
    {
     "data": {
      "text/plain": [
       "TfidfVectorizer(analyzer='word', binary=False, decode_error='strict',\n",
       "                dtype=<class 'numpy.float64'>, encoding='utf-8',\n",
       "                input='content', lowercase=True, max_df=1.0, max_features=None,\n",
       "                min_df=1, ngram_range=(1, 1), norm='l2', preprocessor=None,\n",
       "                smooth_idf=True,\n",
       "                stop_words={'a', 'about', 'above', 'after', 'again', 'against',\n",
       "                            'ain', 'all', 'am', 'an', 'and', 'any', 'are',\n",
       "                            'aren', \"aren't\", 'as', 'at', 'be', 'because',\n",
       "                            'been', 'before', 'being', 'below', 'between',\n",
       "                            'both', 'but', 'by', 'can', 'couldn', \"couldn't\", ...},\n",
       "                strip_accents=None, sublinear_tf=False,\n",
       "                token_pattern='(?u)\\\\b\\\\w\\\\w+\\\\b', tokenizer=None, use_idf=True,\n",
       "                vocabulary=None)"
      ]
     },
     "execution_count": 11,
     "metadata": {},
     "output_type": "execute_result"
    }
   ],
   "source": [
    "tf_idf.fit(X_train)"
   ]
  },
  {
   "cell_type": "markdown",
   "metadata": {},
   "source": [
    "Теперь конвертируем все выборки:"
   ]
  },
  {
   "cell_type": "code",
   "execution_count": 12,
   "metadata": {},
   "outputs": [
    {
     "name": "stdout",
     "output_type": "stream",
     "text": [
      "Размер обучающей выборки:  (95742, 125014)\n",
      "Размер валидационой выборки:  (31914, 125014)\n",
      "Размер тестовой выборки:  (31915, 125014)\n"
     ]
    }
   ],
   "source": [
    "X_train = tf_idf.transform(X_train)\n",
    "X_valid = tf_idf.transform(X_valid)\n",
    "X_test = tf_idf.transform(X_test)\n",
    "print('Размер обучающей выборки: ', X_train.shape)\n",
    "print('Размер валидационой выборки: ', X_valid.shape)\n",
    "print('Размер тестовой выборки: ', X_test.shape)"
   ]
  },
  {
   "cell_type": "markdown",
   "metadata": {},
   "source": [
    "Все в порядке, приступаем к обучению."
   ]
  },
  {
   "cell_type": "markdown",
   "metadata": {},
   "source": [
    "### Обучение моделей"
   ]
  },
  {
   "cell_type": "markdown",
   "metadata": {},
   "source": [
    "#### LogisticRegression()"
   ]
  },
  {
   "cell_type": "markdown",
   "metadata": {},
   "source": [
    "Обучим модель Логистической регрессии и вычислим полноту, точность и f1-меру:"
   ]
  },
  {
   "cell_type": "code",
   "execution_count": 13,
   "metadata": {},
   "outputs": [
    {
     "name": "stdout",
     "output_type": "stream",
     "text": [
      "Полнота:  0.6898177247014456\n",
      "Точность:  0.8832997987927566\n",
      "F1_score:  0.7746603140991707 \n",
      "\n",
      "CPU times: user 8.55 s, sys: 6.23 s, total: 14.8 s\n",
      "Wall time: 14.8 s\n"
     ]
    }
   ],
   "source": [
    "%%time \n",
    "\n",
    "model_LR = LogisticRegression(C=15, tol=0.0001).fit(X_train, y_train)\n",
    "preds_LR = model_LR.predict(X_valid)\n",
    "recall_LR = recall_score(y_valid, preds_LR)\n",
    "precision_LR = precision_score(y_valid, preds_LR)\n",
    "f1_LR = f1_score(y_valid, preds_LR)\n",
    "\n",
    "print('Полнота: ', recall_LR)\n",
    "print('Точность: ', precision_LR)\n",
    "print('F1_score: ', f1_LR, '\\n')"
   ]
  },
  {
   "cell_type": "markdown",
   "metadata": {},
   "source": [
    "F1-мера составила 0.77, что несколько больше требуемого значения 0.75. Модель с достаточно высоким уровнем точности выявляет нетоксичные комментарии, но значительно менее точно определяет токсичные, что и занижает качество предсказаний."
   ]
  },
  {
   "cell_type": "markdown",
   "metadata": {},
   "source": [
    "Посмотрим на матрицу ошибок:"
   ]
  },
  {
   "cell_type": "code",
   "execution_count": 14,
   "metadata": {},
   "outputs": [
    {
     "data": {
      "image/png": "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\n",
      "text/plain": [
       "<Figure size 432x288 with 2 Axes>"
      ]
     },
     "metadata": {
      "needs_background": "light"
     },
     "output_type": "display_data"
    }
   ],
   "source": [
    "sns.heatmap(confusion_matrix(y_valid, preds_LR), fmt='3.0f', annot=True, cmap='coolwarm', annot_kws={\"size\":15})\n",
    "plt.title('Матрица ошибок: LogisticRegression', size=15)\n",
    "plt.show()"
   ]
  },
  {
   "cell_type": "markdown",
   "metadata": {},
   "source": [
    "Среди ошибок чаще отмечаем ложнопозитивные оценки: 987 токсичных комментариев неверно определены, как нетоксичные. "
   ]
  },
  {
   "cell_type": "markdown",
   "metadata": {},
   "source": [
    "#### SGDClassifier()"
   ]
  },
  {
   "cell_type": "markdown",
   "metadata": {},
   "source": [
    "Oбучим модель Стохастического градиентного спуска и вычислим полноту, точность и f1-меру:"
   ]
  },
  {
   "cell_type": "code",
   "execution_count": 15,
   "metadata": {},
   "outputs": [
    {
     "name": "stdout",
     "output_type": "stream",
     "text": [
      "Полнота:  0.6945317410433689\n",
      "Точность:  0.8940129449838188\n",
      "F1_score:  0.7817474354439335\n"
     ]
    }
   ],
   "source": [
    "model_SGD = SGDClassifier(alpha=1e-05, penalty='l1', random_state=12345).fit(X_train, y_train)\n",
    "preds_SGD = model_SGD.predict(X_valid)\n",
    "recall_SGD = recall_score(y_valid, preds_SGD)\n",
    "precision_SGD = precision_score(y_valid, preds_SGD)\n",
    "f1_SGD = f1_score(y_valid, preds_SGD)\n",
    "\n",
    "print('Полнота: ', recall_SGD)\n",
    "print('Точность: ', precision_SGD)\n",
    "print('F1_score: ', f1_SGD)"
   ]
  },
  {
   "cell_type": "markdown",
   "metadata": {},
   "source": [
    "Также, как и Логистическая регрессия, данный алгоритм чаще ошибается, присваивая статус \"позитивный\" токсичным комментариям.  "
   ]
  },
  {
   "cell_type": "code",
   "execution_count": 16,
   "metadata": {},
   "outputs": [
    {
     "data": {
      "image/png": "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\n",
      "text/plain": [
       "<Figure size 432x288 with 2 Axes>"
      ]
     },
     "metadata": {
      "needs_background": "light"
     },
     "output_type": "display_data"
    }
   ],
   "source": [
    "sns.heatmap(confusion_matrix(y_valid, preds_SGD), fmt='3.0f', annot=True, cmap='coolwarm', annot_kws={\"size\":15})\n",
    "plt.title('Матрица ошибок: SGDClassifier', size=15)\n",
    "plt.show()"
   ]
  },
  {
   "cell_type": "markdown",
   "metadata": {},
   "source": [
    "В сравнении с Логистической регрессий, метод SGDClassifier несколько более точен при идентификации токсичных комментариев.  "
   ]
  },
  {
   "cell_type": "markdown",
   "metadata": {},
   "source": [
    "#### CatBoostClassifier()"
   ]
  },
  {
   "cell_type": "markdown",
   "metadata": {},
   "source": [
    "Посмотрим на результат CatBoost:"
   ]
  },
  {
   "cell_type": "code",
   "execution_count": 17,
   "metadata": {},
   "outputs": [
    {
     "name": "stdout",
     "output_type": "stream",
     "text": [
      "Полнота:  0.6744186046511628\n",
      "Точность:  0.8646253021756648\n",
      "F1_score:  0.7577683615819208 \n",
      "\n",
      "CPU times: user 7min 57s, sys: 13.6 s, total: 8min 11s\n",
      "Wall time: 10min 8s\n"
     ]
    }
   ],
   "source": [
    "%%time\n",
    "\n",
    "model_Cat = CatBoostClassifier(verbose=False, loss_function='Logloss', learning_rate=0.9, iterations=200, depth=4, random_state=12345).fit(X_train, y_train)\n",
    "preds_Cat = model_Cat.predict(X_valid)\n",
    "recall_Cat = recall_score(y_valid, preds_Cat)\n",
    "precision_Cat = precision_score(y_valid, preds_Cat)\n",
    "f1_Cat = f1_score(y_valid, preds_Cat)\n",
    "\n",
    "print('Полнота: ', recall_Cat)\n",
    "print('Точность: ', precision_Cat)\n",
    "print('F1_score: ', f1_Cat, '\\n')"
   ]
  },
  {
   "cell_type": "markdown",
   "metadata": {},
   "source": [
    "Результат в целом соответствует требованию - f1=0.76, но это ниже, чем у других алгоримов. И скорость работы модели не самая быстрая."
   ]
  },
  {
   "cell_type": "code",
   "execution_count": 18,
   "metadata": {},
   "outputs": [
    {
     "data": {
      "image/png": "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\n",
      "text/plain": [
       "<Figure size 432x288 with 2 Axes>"
      ]
     },
     "metadata": {
      "needs_background": "light"
     },
     "output_type": "display_data"
    }
   ],
   "source": [
    "sns.heatmap(confusion_matrix(y_valid, preds_Cat), fmt='3.0f', annot=True, cmap='coolwarm', annot_kws={\"size\":15})\n",
    "plt.title('Матрица ошибок: CatBoostClassifier', size=15)\n",
    "plt.show()"
   ]
  },
  {
   "cell_type": "markdown",
   "metadata": {},
   "source": [
    "Чуть большье ошибочных предсказаний 1-го и 2-го рода."
   ]
  },
  {
   "cell_type": "markdown",
   "metadata": {},
   "source": [
    "Объединим результат в одну таблицу:"
   ]
  },
  {
   "cell_type": "code",
   "execution_count": 19,
   "metadata": {},
   "outputs": [
    {
     "data": {
      "text/html": [
       "<div>\n",
       "<style scoped>\n",
       "    .dataframe tbody tr th:only-of-type {\n",
       "        vertical-align: middle;\n",
       "    }\n",
       "\n",
       "    .dataframe tbody tr th {\n",
       "        vertical-align: top;\n",
       "    }\n",
       "\n",
       "    .dataframe thead th {\n",
       "        text-align: right;\n",
       "    }\n",
       "</style>\n",
       "<table border=\"1\" class=\"dataframe\">\n",
       "  <thead>\n",
       "    <tr style=\"text-align: right;\">\n",
       "      <th></th>\n",
       "      <th>F1_score</th>\n",
       "      <th>Recall</th>\n",
       "      <th>Precision</th>\n",
       "    </tr>\n",
       "  </thead>\n",
       "  <tbody>\n",
       "    <tr>\n",
       "      <td>SGDClassifier</td>\n",
       "      <td>0.781747</td>\n",
       "      <td>0.694532</td>\n",
       "      <td>0.894013</td>\n",
       "    </tr>\n",
       "    <tr>\n",
       "      <td>LogisticRegression</td>\n",
       "      <td>0.774660</td>\n",
       "      <td>0.689818</td>\n",
       "      <td>0.883300</td>\n",
       "    </tr>\n",
       "    <tr>\n",
       "      <td>CatBosstClassifier</td>\n",
       "      <td>0.757768</td>\n",
       "      <td>0.674419</td>\n",
       "      <td>0.864625</td>\n",
       "    </tr>\n",
       "  </tbody>\n",
       "</table>\n",
       "</div>"
      ],
      "text/plain": [
       "                    F1_score    Recall  Precision\n",
       "SGDClassifier       0.781747  0.694532   0.894013\n",
       "LogisticRegression  0.774660  0.689818   0.883300\n",
       "CatBosstClassifier  0.757768  0.674419   0.864625"
      ]
     },
     "execution_count": 19,
     "metadata": {},
     "output_type": "execute_result"
    }
   ],
   "source": [
    "score_table = pd.DataFrame(data=[[f1_LR, recall_LR, precision_LR], \n",
    "                                 [f1_SGD, recall_SGD, precision_SGD], \n",
    "                                 [f1_Cat, recall_Cat, precision_Cat]],\n",
    "                       columns = ['F1_score', 'Recall', 'Precision'], \n",
    "                       index = ['LogisticRegression', 'SGDClassifier', 'CatBosstClassifier']).sort_values(by='F1_score', ascending=False)\n",
    "score_table"
   ]
  },
  {
   "cell_type": "markdown",
   "metadata": {},
   "source": [
    "Модели демонстрируют близкие по значению результаты, но лучшей оказался Стохастический градиентный спуск. Именно эту модель используем для тестирования."
   ]
  },
  {
   "cell_type": "markdown",
   "metadata": {},
   "source": [
    "### Тестирование модели"
   ]
  },
  {
   "cell_type": "markdown",
   "metadata": {},
   "source": [
    "Проверим модель SGDClassifier с установленными гиперпараметрами на тестовой выборке:"
   ]
  },
  {
   "cell_type": "code",
   "execution_count": 20,
   "metadata": {},
   "outputs": [
    {
     "name": "stdout",
     "output_type": "stream",
     "text": [
      "Полнота:  0.682285368802902\n",
      "Точность:  0.8875344081793157\n",
      "F1_score:  0.7714920526405743 \n",
      "\n",
      "CPU times: user 787 ms, sys: 74 ms, total: 861 ms\n",
      "Wall time: 5.71 s\n"
     ]
    }
   ],
   "source": [
    "%%time \n",
    "\n",
    "model_test_SGD = SGDClassifier(alpha=1e-05, penalty='l1', random_state=12345).fit(X_train, y_train)\n",
    "preds_test_SGD = model_test_SGD.predict(X_test)\n",
    "recall_test_SGD = recall_score(y_test, preds_test_SGD)\n",
    "precision_test_SGD = precision_score(y_test, preds_test_SGD)\n",
    "f1_test_SGD = f1_score(y_test, preds_test_SGD)\n",
    "\n",
    "print('Полнота: ', recall_test_SGD)\n",
    "print('Точность: ', precision_test_SGD)\n",
    "print('F1_score: ', f1_test_SGD, '\\n')"
   ]
  },
  {
   "cell_type": "code",
   "execution_count": 21,
   "metadata": {},
   "outputs": [
    {
     "data": {
      "image/png": "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\n",
      "text/plain": [
       "<Figure size 432x288 with 2 Axes>"
      ]
     },
     "metadata": {
      "needs_background": "light"
     },
     "output_type": "display_data"
    }
   ],
   "source": [
    "sns.heatmap(confusion_matrix(y_test, preds_test_SGD), fmt='3.0f', annot=True, cmap='coolwarm', annot_kws={\"size\":15})\n",
    "plt.title('Матрица ошибок тестовой модели', size=15)\n",
    "plt.show()"
   ]
  },
  {
   "cell_type": "markdown",
   "metadata": {},
   "source": [
    "Качество предсказаний на тестовой выборке почти такое же, как и на валидационной. Несколько больше ошибок при ложноположительных и ложноотрицательных ответах. Тем не менее, показатель метрики соответствует условию проекта - f1 не ниже 0.75 "
   ]
  },
  {
   "cell_type": "markdown",
   "metadata": {},
   "source": [
    "# Вывод"
   ]
  },
  {
   "cell_type": "markdown",
   "metadata": {},
   "source": [
    "Мы подготовили данные для обучения и использовали несколько алгоритмов: Логистическая регрессия, метод Стохастического градиентного спуска и CatBoost. Качество предсказаний всех моделей оказалось очень близко. Тем не менее, лучше всего себя показала модель SGDClassifier, с набольшей точностью определившая число токсичных комментариев. "
   ]
  },
  {
   "cell_type": "markdown",
   "metadata": {},
   "source": [
    "## Выводы"
   ]
  },
  {
   "cell_type": "markdown",
   "metadata": {},
   "source": [
    "В рамках данного проекта:\n",
    "\n",
    "1. Данные были загружены, прочитаны и обработаны (лемматизация и очистка текста);\n",
    "2. Для обучения произведена векторизация текста (создана матрицу TF-IDF со стоп-словами);\n",
    "3. Проверены несколько моделей обучения с целью получить значение f1-меры не менее 0.75\n",
    "\n",
    "В результате с помощью SGDClassifier удалось достичь значения метрики качества *F1* = 0.78 на валидацинной выборке и 0.77 на тестовой. Матрица ошибок показала, что модель достаточно точно определяет позитивные комментарии, но чаще ошибается при идентификации токсичных. "
   ]
  }
 ],
 "metadata": {
  "ExecuteTimeLog": [
   {
    "duration": 1711,
    "start_time": "2021-06-26T13:16:19.031Z"
   },
   {
    "duration": 758,
    "start_time": "2021-06-26T13:16:20.744Z"
   },
   {
    "duration": 20,
    "start_time": "2021-06-26T13:16:21.505Z"
   },
   {
    "duration": 34,
    "start_time": "2021-06-26T13:16:21.528Z"
   },
   {
    "duration": 32,
    "start_time": "2021-06-26T13:16:21.565Z"
   },
   {
    "duration": 11011,
    "start_time": "2021-06-26T13:16:21.600Z"
   },
   {
    "duration": 18,
    "start_time": "2021-06-26T13:16:32.614Z"
   },
   {
    "duration": 7,
    "start_time": "2021-06-26T13:16:32.636Z"
   },
   {
    "duration": 130,
    "start_time": "2021-06-26T13:16:32.645Z"
   },
   {
    "duration": 5,
    "start_time": "2021-06-26T13:16:32.777Z"
   },
   {
    "duration": 6160,
    "start_time": "2021-06-26T13:16:32.784Z"
   },
   {
    "duration": 14794,
    "start_time": "2021-06-26T13:16:38.947Z"
   },
   {
    "duration": 15048,
    "start_time": "2021-06-26T13:16:53.745Z"
   },
   {
    "duration": 378,
    "start_time": "2021-06-26T13:17:08.795Z"
   },
   {
    "duration": 813,
    "start_time": "2021-06-26T13:17:09.175Z"
   },
   {
    "duration": 368,
    "start_time": "2021-06-26T13:17:09.990Z"
   },
   {
    "duration": 485263,
    "start_time": "2021-06-26T13:17:10.361Z"
   },
   {
    "duration": 444,
    "start_time": "2021-06-26T13:25:15.626Z"
   },
   {
    "duration": 13,
    "start_time": "2021-06-26T13:25:16.073Z"
   },
   {
    "duration": 807,
    "start_time": "2021-06-26T13:25:16.089Z"
   },
   {
    "duration": 364,
    "start_time": "2021-06-26T13:25:16.899Z"
   },
   {
    "duration": 384,
    "start_time": "2021-06-26T13:31:02.743Z"
   },
   {
    "duration": 391,
    "start_time": "2021-06-26T13:32:02.965Z"
   },
   {
    "duration": 384,
    "start_time": "2021-06-26T13:33:00.627Z"
   },
   {
    "duration": 351,
    "start_time": "2021-06-26T13:33:12.096Z"
   },
   {
    "duration": 384,
    "start_time": "2021-06-26T13:33:34.648Z"
   },
   {
    "duration": 369,
    "start_time": "2021-06-26T13:33:42.873Z"
   },
   {
    "duration": 383,
    "start_time": "2021-06-26T13:33:48.877Z"
   },
   {
    "duration": 401,
    "start_time": "2021-06-26T13:34:26.645Z"
   },
   {
    "duration": 404,
    "start_time": "2021-06-26T13:34:59.655Z"
   },
   {
    "duration": 398,
    "start_time": "2021-06-26T13:35:26.752Z"
   },
   {
    "duration": 358,
    "start_time": "2021-06-26T13:35:35.106Z"
   },
   {
    "duration": 379,
    "start_time": "2021-06-26T13:35:42.538Z"
   },
   {
    "duration": 380,
    "start_time": "2021-06-26T13:35:49.757Z"
   },
   {
    "duration": 377,
    "start_time": "2021-06-26T13:35:58.637Z"
   },
   {
    "duration": 467,
    "start_time": "2021-06-26T13:36:07.364Z"
   },
   {
    "duration": 373,
    "start_time": "2021-06-26T13:36:11.707Z"
   },
   {
    "duration": 341,
    "start_time": "2021-06-26T13:36:16.473Z"
   },
   {
    "duration": 350,
    "start_time": "2021-06-26T13:36:51.030Z"
   },
   {
    "duration": 404,
    "start_time": "2021-06-26T13:39:54.651Z"
   },
   {
    "duration": 95,
    "start_time": "2021-06-26T13:40:16.715Z"
   },
   {
    "duration": 376,
    "start_time": "2021-06-26T13:40:29.284Z"
   },
   {
    "duration": 388,
    "start_time": "2021-06-26T13:40:55.265Z"
   },
   {
    "duration": 594,
    "start_time": "2021-06-26T13:41:15.071Z"
   },
   {
    "duration": 363,
    "start_time": "2021-06-26T13:41:28.312Z"
   },
   {
    "duration": 379,
    "start_time": "2021-06-26T13:41:48.084Z"
   },
   {
    "duration": 366,
    "start_time": "2021-06-26T13:42:02.292Z"
   },
   {
    "duration": 390,
    "start_time": "2021-06-26T13:42:16.066Z"
   },
   {
    "duration": 425,
    "start_time": "2021-06-26T13:42:30.038Z"
   },
   {
    "duration": 388,
    "start_time": "2021-06-26T13:42:39.976Z"
   },
   {
    "duration": 398,
    "start_time": "2021-06-26T13:42:55.754Z"
   },
   {
    "duration": 387,
    "start_time": "2021-06-26T13:43:06.638Z"
   },
   {
    "duration": 381,
    "start_time": "2021-06-26T13:43:19.971Z"
   },
   {
    "duration": 390,
    "start_time": "2021-06-26T13:43:32.940Z"
   },
   {
    "duration": 399,
    "start_time": "2021-06-26T13:43:47.525Z"
   },
   {
    "duration": 376,
    "start_time": "2021-06-26T13:44:00.618Z"
   },
   {
    "duration": 406,
    "start_time": "2021-06-26T13:44:15.848Z"
   },
   {
    "duration": 379,
    "start_time": "2021-06-26T13:44:28.958Z"
   },
   {
    "duration": 395,
    "start_time": "2021-06-26T13:44:40.825Z"
   },
   {
    "duration": 398,
    "start_time": "2021-06-26T13:44:51.242Z"
   },
   {
    "duration": 356,
    "start_time": "2021-06-26T13:45:00.796Z"
   },
   {
    "duration": 369,
    "start_time": "2021-06-26T13:45:10.636Z"
   },
   {
    "duration": 366,
    "start_time": "2021-06-26T13:45:21.017Z"
   },
   {
    "duration": 357,
    "start_time": "2021-06-26T13:45:30.297Z"
   },
   {
    "duration": 365,
    "start_time": "2021-06-26T13:45:40.170Z"
   },
   {
    "duration": 343,
    "start_time": "2021-06-26T13:45:49.810Z"
   },
   {
    "duration": 364,
    "start_time": "2021-06-26T13:46:05.676Z"
   },
   {
    "duration": 354,
    "start_time": "2021-06-26T13:46:19.618Z"
   },
   {
    "duration": 357,
    "start_time": "2021-06-26T14:19:19.825Z"
   },
   {
    "duration": 1724,
    "start_time": "2021-06-26T17:16:59.737Z"
   },
   {
    "duration": 813,
    "start_time": "2021-06-26T17:17:01.463Z"
   },
   {
    "duration": 20,
    "start_time": "2021-06-26T17:17:02.280Z"
   },
   {
    "duration": 52,
    "start_time": "2021-06-26T17:17:02.304Z"
   },
   {
    "duration": 15,
    "start_time": "2021-06-26T17:17:02.358Z"
   },
   {
    "duration": 10644,
    "start_time": "2021-06-26T17:17:02.375Z"
   },
   {
    "duration": 11,
    "start_time": "2021-06-26T17:17:13.021Z"
   },
   {
    "duration": 20,
    "start_time": "2021-06-26T17:17:13.036Z"
   },
   {
    "duration": 121,
    "start_time": "2021-06-26T17:17:13.059Z"
   },
   {
    "duration": 5,
    "start_time": "2021-06-26T17:17:13.183Z"
   },
   {
    "duration": 5981,
    "start_time": "2021-06-26T17:17:13.190Z"
   },
   {
    "duration": 9750,
    "start_time": "2021-06-26T17:17:19.174Z"
   },
   {
    "duration": 14602,
    "start_time": "2021-06-26T17:17:28.927Z"
   },
   {
    "duration": 368,
    "start_time": "2021-06-26T17:17:43.532Z"
   },
   {
    "duration": 749,
    "start_time": "2021-06-26T17:17:43.903Z"
   },
   {
    "duration": 354,
    "start_time": "2021-06-26T17:17:44.657Z"
   },
   {
    "duration": 496222,
    "start_time": "2021-06-26T17:17:45.014Z"
   },
   {
    "duration": 459,
    "start_time": "2021-06-26T17:26:01.238Z"
   },
   {
    "duration": 14,
    "start_time": "2021-06-26T17:26:01.699Z"
   },
   {
    "duration": 820,
    "start_time": "2021-06-26T17:26:01.716Z"
   },
   {
    "duration": 367,
    "start_time": "2021-06-26T17:26:02.539Z"
   },
   {
    "duration": 1615,
    "start_time": "2021-06-26T18:29:19.950Z"
   },
   {
    "duration": 763,
    "start_time": "2021-06-26T18:29:21.567Z"
   },
   {
    "duration": 22,
    "start_time": "2021-06-26T18:29:22.333Z"
   },
   {
    "duration": 29,
    "start_time": "2021-06-26T18:29:22.358Z"
   },
   {
    "duration": 15,
    "start_time": "2021-06-26T18:29:22.390Z"
   },
   {
    "duration": 10561,
    "start_time": "2021-06-26T18:29:22.407Z"
   },
   {
    "duration": 11,
    "start_time": "2021-06-26T18:29:32.970Z"
   },
   {
    "duration": 10,
    "start_time": "2021-06-26T18:29:32.984Z"
   },
   {
    "duration": 132,
    "start_time": "2021-06-26T18:29:32.997Z"
   },
   {
    "duration": 5,
    "start_time": "2021-06-26T18:29:33.131Z"
   },
   {
    "duration": 5846,
    "start_time": "2021-06-26T18:29:33.138Z"
   },
   {
    "duration": 9628,
    "start_time": "2021-06-26T18:29:38.986Z"
   },
   {
    "duration": 14815,
    "start_time": "2021-06-26T18:29:48.616Z"
   },
   {
    "duration": 380,
    "start_time": "2021-06-26T18:30:03.434Z"
   },
   {
    "duration": 777,
    "start_time": "2021-06-26T18:30:03.816Z"
   },
   {
    "duration": 387,
    "start_time": "2021-06-26T18:30:04.595Z"
   },
   {
    "duration": 608371,
    "start_time": "2021-06-26T18:30:04.984Z"
   },
   {
    "duration": 3698,
    "start_time": "2021-06-26T18:40:13.457Z"
   },
   {
    "duration": 104,
    "start_time": "2021-06-26T18:40:17.159Z"
   },
   {
    "duration": 5895,
    "start_time": "2021-06-26T18:40:17.266Z"
   },
   {
    "duration": 1892,
    "start_time": "2021-06-26T18:40:23.166Z"
   }
  ],
  "kernelspec": {
   "display_name": "Python 3",
   "language": "python",
   "name": "python3"
  },
  "language_info": {
   "codemirror_mode": {
    "name": "ipython",
    "version": 3
   },
   "file_extension": ".py",
   "mimetype": "text/x-python",
   "name": "python",
   "nbconvert_exporter": "python",
   "pygments_lexer": "ipython3",
   "version": "3.7.8"
  },
  "toc": {
   "base_numbering": 1,
   "nav_menu": {},
   "number_sections": true,
   "sideBar": true,
   "skip_h1_title": true,
   "title_cell": "Содержание",
   "title_sidebar": "Contents",
   "toc_cell": true,
   "toc_position": {
    "height": "calc(100% - 180px)",
    "left": "10px",
    "top": "150px",
    "width": "302.391px"
   },
   "toc_section_display": true,
   "toc_window_display": false
  }
 },
 "nbformat": 4,
 "nbformat_minor": 2
}

  
